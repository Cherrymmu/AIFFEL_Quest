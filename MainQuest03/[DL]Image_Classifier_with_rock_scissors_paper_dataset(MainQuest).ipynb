{
 "cells": [
  {
   "cell_type": "markdown",
   "metadata": {
    "id": "YXiEkRhJNK5A"
   },
   "source": [
    "# 인공지능과 가위바위보하기\n",
    "\n",
    "<br>\n",
    "\n",
    "\n",
    "## 개요\n",
    "손글씨 이미지 분류 실습을 통해 학습한 내용을 토대로 가위바위보 게임을 할 수 있는 프로그램을 만들어 보도록 한다. 손글씨 숫자 이미지는 0부터 9까지 총 10개의 클래스로 이루어진 것과는 달리 가위바위보 이미지 분류기는 3가지의 클래스로만 이루어진다. 이미지 분류를 위한 학습에 사용될 데이터셋은 웹캠을 이용하여 직접 생성하여 실제로 어떻게 데이터셋을 만들고 만들어진 데이터를 활용하는지 알아보도록 한다.  \n",
    "* [이미지 데이터셋 생성 사이트](https://teachablemachine.withgoogle.com/)  \n",
    "\n",
    "네트워크 설계와 검증이 완료되면 임의의 가위, 바위, 보 사진을 입력받아 그 이미지를 분류하여 컴퓨터가 제시하는 랜덤한 값과 비교하여 승패 여부를 판단하는 프로그램을 완성시킨다.\n",
    "\n",
    "<br>\n",
    "\n",
    "## 목차\n",
    "* 데이터 준비하기\n",
    "  * 각 클래스의 데이터를 만들어 별도의 디렉터리에 저장\n",
    "  > dir 명은 rock, scissor, papper로 지정한다.\n",
    "  * 각 디렉터리에 저장한 이미지 데이터 불러오기\n",
    "  * 데이터 사이즈 조정\n",
    "* 딥러닝 네트워크 설계하기\n",
    "  * Sequential 모델 설계\n",
    "  > Convolution, pooling, 완전결합 계층을 설계한다.\n",
    "* 딥러닝 네트워크 학습시키기\n",
    "  * 매개변수 갱신 방법은 Adam 기법 사용\n",
    "  * 손실함수는 'sparse_categorical_crossentropy' 사용\n",
    "* 만들어진 딥러닝 네트워크 검증하기\n",
    "  * 테스트 데이터셋을 이용하여 만들어진 모델의 성능과 과적합 여부 검증\n",
    "* 네트워크 정확도 높이기\n",
    "  * 하이퍼 파라미터 값을 조정하여 더 높은 정확도가 나올 수 있도록 네트워크를 개선\n",
    "* 가위바위보 게임 로직 구현\n",
    "  * 이미지 입력받고 분류하기\n",
    "  * 무작위 값 선정하여 분류된 출력값과 비교하기\n",
    "  * 승패를 결정하여 승률 계산하기\n"
   ]
  },
  {
   "cell_type": "markdown",
   "metadata": {
    "id": "ukKUYkykOF48"
   },
   "source": [
    "---\n",
    "### 데이터 준비하기\n",
    "학습에 사용할 데이터가 저장되어있는 경로에 접근하여 데이터를 불러오고, 학습에 용이한 형태로 변환하는 과정이다."
   ]
  },
  {
   "cell_type": "code",
   "execution_count": 1,
   "metadata": {
    "colab": {
     "base_uri": "https://localhost:8080/"
    },
    "id": "WenSakXgaKTq",
    "outputId": "d119c6b6-9d0e-486b-d719-97d9e76cb576"
   },
   "outputs": [
    {
     "name": "stdout",
     "output_type": "stream",
     "text": [
      "2.15.0\n",
      "1.23.5\n"
     ]
    }
   ],
   "source": [
    "import tensorflow as tf\n",
    "import numpy as np\n",
    "\n",
    "# 사용할 라이브러리 버전 확인\n",
    "print(tf.__version__)\n",
    "print(np.__version__)"
   ]
  },
  {
   "cell_type": "code",
   "execution_count": 2,
   "metadata": {
    "colab": {
     "base_uri": "https://localhost:8080/"
    },
    "id": "inmILGamcVfC",
    "outputId": "1bc68b7a-0f49-43a7-92e2-b6bab2b04f37"
   },
   "outputs": [
    {
     "name": "stdout",
     "output_type": "stream",
     "text": [
      "243  images to be resized.\n",
      "243  images resized.\n",
      "보 이미지 resize 완료!\n",
      "243  images to be resized.\n",
      "243  images resized.\n",
      "바위 이미지 resize 완료!\n",
      "243  images to be resized.\n",
      "243  images resized.\n",
      "가위 이미지 resize 완료!\n"
     ]
    }
   ],
   "source": [
    "# 이미지 크기 변환을 위한 라이브러리 추가\n",
    "from PIL import Image\n",
    "import glob\n",
    "import os\n",
    "\n",
    "# 이미지 크기 변환 함수 정의\n",
    "def resize_images(img_path):\n",
    "\timages=glob.glob(img_path + \"/*.jpg\")\n",
    "\n",
    "    # 변경 전 파일 개수 확인\n",
    "\tprint(len(images), \" images to be resized.\")\n",
    "\n",
    "    # 파일마다 모두 28x28 사이즈로 변환하여 저장\n",
    "\ttarget_size=(28,28)\n",
    "\tfor img in images:\n",
    "\t\told_img=Image.open(img)\n",
    "\t\tnew_img=old_img.resize(target_size,Image.LANCZOS)\n",
    "\t\tnew_img.save(img, \"JPEG\")\n",
    "\n",
    "    # 변경 후 파일 개수 확인\n",
    "\tprint(len(images), \" images resized.\")\n",
    "\n",
    "\n",
    "# 가위,바위,보 이미지가 저장된 디렉토리 아래의 모든 jpg 파일을 읽어들여서 크기 변환\n",
    "paper_dir_path = \"/content/rsp/paper\"\n",
    "rock_dir_path = \"/content/rsp/rock\"\n",
    "scissor_dir_path = \"/content/rsp/scissor\"\n",
    "\n",
    "resize_images(paper_dir_path)\n",
    "print(\"보 이미지 resize 완료!\")\n",
    "\n",
    "resize_images(rock_dir_path)\n",
    "print(\"바위 이미지 resize 완료!\")\n",
    "\n",
    "resize_images(scissor_dir_path)\n",
    "print(\"가위 이미지 resize 완료!\")"
   ]
  },
  {
   "cell_type": "markdown",
   "metadata": {
    "id": "EKlKZH_RfiGn"
   },
   "source": [
    "* 이미지가 저장된 경로에 접근하여 224X224 크기의 이미지 파일을 28X28 크기로 변경한다."
   ]
  },
  {
   "cell_type": "code",
   "execution_count": 3,
   "metadata": {
    "colab": {
     "base_uri": "https://localhost:8080/"
    },
    "id": "w2JEHkBKhNMm",
    "outputId": "7ed68a64-9ffa-4fbc-e84f-0ef3c60a2684"
   },
   "outputs": [
    {
     "name": "stdout",
     "output_type": "stream",
     "text": [
      "학습데이터(x_train)의 이미지 개수는 729 입니다.\n",
      "x_train shape: (729, 28, 28, 3)\n",
      "y_train shape: (729,)\n"
     ]
    }
   ],
   "source": [
    "import numpy as np\n",
    "\n",
    "# 데이터를 읽어들이는 함수 정의(이미지 개수 합에 맞춰 데이터 개수는 729개로 지정)\n",
    "def load_data(img_path, number_of_data=729):\n",
    "    # 가위 : 0, 바위 : 1, 보 : 2\n",
    "    img_size=28\n",
    "    color=3\n",
    "    #이미지 데이터와 라벨(가위 : 0, 바위 : 1, 보 : 2) 데이터를 담을 행렬 영역 생성\n",
    "    imgs=np.zeros(number_of_data*img_size*img_size*color,dtype=np.int32).reshape(number_of_data,img_size,img_size,color)\n",
    "    labels=np.zeros(number_of_data,dtype=np.int32)\n",
    "\n",
    "    idx=0\n",
    "    # idx 0 영역에 가위 이미지 행렬 복사\n",
    "    for file in glob.iglob(img_path+'/scissor/*.jpg'):\n",
    "        img = np.array(Image.open(file),dtype=np.int32)\n",
    "        imgs[idx,:,:,:]=img\n",
    "        labels[idx]=0\n",
    "        idx=idx+1\n",
    "\n",
    "    # idx 1 영역에 가위 이미지 행렬 복사\n",
    "    for file in glob.iglob(img_path+'/rock/*.jpg'):\n",
    "        img = np.array(Image.open(file),dtype=np.int32)\n",
    "        imgs[idx,:,:,:]=img\n",
    "        labels[idx]=1\n",
    "        idx=idx+1\n",
    "\n",
    "    # idx 1 영역에 보 이미지 행렬 복사\n",
    "    for file in glob.iglob(img_path+'/paper/*.jpg'):\n",
    "        img = np.array(Image.open(file),dtype=np.int32)\n",
    "        imgs[idx,:,:,:]=img\n",
    "        labels[idx]=2\n",
    "        idx=idx+1\n",
    "\n",
    "    print(\"학습데이터(x_train)의 이미지 개수는\", idx,\"입니다.\")\n",
    "    return imgs, labels\n",
    "\n",
    "image_dir_path = \"/content/rsp\"\n",
    "# load_data 함수 호출 후 반환값을 x_train, y_train 변수에 바인딩\n",
    "(x_train, y_train)=load_data(image_dir_path)\n",
    "\n",
    "print(\"x_train shape: {}\".format(x_train.shape))\n",
    "print(\"y_train shape: {}\".format(y_train.shape))"
   ]
  },
  {
   "cell_type": "markdown",
   "metadata": {
    "id": "AfhNurTzyXf-"
   },
   "source": [
    "* 학습 데이터의 개수는 총 729개이며, 이미지의 크기는 28X28, 3개의 채널(RGB)로 구성되어있다."
   ]
  },
  {
   "cell_type": "code",
   "execution_count": 4,
   "metadata": {
    "colab": {
     "base_uri": "https://localhost:8080/",
     "height": 448
    },
    "id": "PCpWb91i0eQh",
    "outputId": "169666df-5f45-4d24-964e-376ac3a1b402"
   },
   "outputs": [
    {
     "name": "stdout",
     "output_type": "stream",
     "text": [
      "라벨:  0\n"
     ]
    },
    {
     "data": {
      "image/png": "[encoded data removed]",
      "text/plain": [
       "<Figure size 640x480 with 1 Axes>"
      ]
     },
     "metadata": {},
     "output_type": "display_data"
    }
   ],
   "source": [
    "import matplotlib.pyplot as plt\n",
    "\n",
    "# 학습 데이터와 정답 라벨 샘플 확인\n",
    "plt.imshow(x_train[0])\n",
    "print('라벨: ', y_train[0])"
   ]
  },
  {
   "cell_type": "markdown",
   "metadata": {
    "id": "PUZ4j5WY0-cd"
   },
   "source": [
    "* 28X28의 형태로 축소가 되어 정확히 구분은 안가지만, 자세히 보면 가위의 형태를 띄고 있고 그에 맞는 라벨 값이 출력된 것을 알 수 있다."
   ]
  },
  {
   "cell_type": "code",
   "execution_count": 5,
   "metadata": {
    "colab": {
     "base_uri": "https://localhost:8080/"
    },
    "id": "tTuuMWL7486O",
    "outputId": "f4df19b1-25be-4ddb-ab65-7e8fc53ec823"
   },
   "outputs": [
    {
     "name": "stdout",
     "output_type": "stream",
     "text": [
      "최소값: 0  최대값: 255\n"
     ]
    }
   ],
   "source": [
    "# 정규화를 위한 최대/최솟값 확인\n",
    "print('최소값:',np.min(x_train), ' 최대값:',np.max(x_train))"
   ]
  },
  {
   "cell_type": "code",
   "execution_count": 6,
   "metadata": {
    "colab": {
     "base_uri": "https://localhost:8080/"
    },
    "id": "aHJJ2Ia95EUL",
    "outputId": "cbd2d34d-0e9d-438b-d18e-3dd20f64c94d"
   },
   "outputs": [
    {
     "name": "stdout",
     "output_type": "stream",
     "text": [
      "최소값: 0.0  최대값: 1.0\n"
     ]
    }
   ],
   "source": [
    "# 데이터를 0과 1사이 값으로 정규화\n",
    "x_train_norm = x_train / 255.0\n",
    "print('최소값:',np.min(x_train_norm), ' 최대값:',np.max(x_train_norm))"
   ]
  },
  {
   "cell_type": "markdown",
   "metadata": {
    "id": "Fohvc7PH5Why"
   },
   "source": [
    "* 전체 학습 데이터를 최댓값인 255로 나눠 모든 데이터가 0과 1사이의 값을 가질 수 있도록 하여 정규화를 진행한다."
   ]
  },
  {
   "cell_type": "markdown",
   "metadata": {
    "id": "MyLv4otvZcdx"
   },
   "source": [
    "---\n",
    "### 딥러닝 네트워크 설계하기\n",
    "어떤 학습 모델을 사용할 것인지, 신경망은 어떻게 구성할 것인지 고려하며 설계를 진행한다. 해당 단계에서는 keras 모듈의 Sequential 모델을 사용한다."
   ]
  },
  {
   "cell_type": "code",
   "execution_count": 7,
   "metadata": {
    "colab": {
     "base_uri": "https://localhost:8080/"
    },
    "id": "2QkANVs21jib",
    "outputId": "2bfd9c0d-60f2-4be2-f5da-7da55900a8e2"
   },
   "outputs": [
    {
     "name": "stdout",
     "output_type": "stream",
     "text": [
      "Model: \"sequential\"\n",
      "_________________________________________________________________\n",
      " Layer (type)                Output Shape              Param #   \n",
      "=================================================================\n",
      " conv2d (Conv2D)             (None, 26, 26, 32)        896       \n",
      "                                                                 \n",
      " max_pooling2d (MaxPooling2  (None, 13, 13, 32)        0         \n",
      " D)                                                              \n",
      "                                                                 \n",
      " conv2d_1 (Conv2D)           (None, 11, 11, 32)        9248      \n",
      "                                                                 \n",
      " max_pooling2d_1 (MaxPoolin  (None, 5, 5, 32)          0         \n",
      " g2D)                                                            \n",
      "                                                                 \n",
      " flatten (Flatten)           (None, 800)               0         \n",
      "                                                                 \n",
      " dense (Dense)               (None, 32)                25632     \n",
      "                                                                 \n",
      " dense_1 (Dense)             (None, 3)                 99        \n",
      "                                                                 \n",
      "=================================================================\n",
      "Total params: 35875 (140.14 KB)\n",
      "Trainable params: 35875 (140.14 KB)\n",
      "Non-trainable params: 0 (0.00 Byte)\n",
      "_________________________________________________________________\n"
     ]
    }
   ],
   "source": [
    "import tensorflow as tf\n",
    "from tensorflow import keras\n",
    "import numpy as np\n",
    "\n",
    "#keras의 Sequential 모델로 네트워크 설계\n",
    "model=keras.models.Sequential()\n",
    "# 1번 레이어 - 합성곱 계층: 필터 개수 32, 필터 크기 3X3, 활성화 함수 ReLU, 데이터 크기 28X28X3\n",
    "model.add(keras.layers.Conv2D(32, (3,3), activation='relu', input_shape=(28,28,3)))\n",
    "# 2번 레이어 - 풀링 계층: 맥스 풀링, 풀링 크기 2X2, stride 2X2\n",
    "model.add(keras.layers.MaxPool2D(2,2))\n",
    "# 3번 레이어 - 합성곱 계층: 필터 개수 32, 필터 크기 3X3, 활성화 함수 ReLU\n",
    "model.add(keras.layers.Conv2D(32, (3,3), activation='relu'))\n",
    "# 4번 레이어 - 풀링 계층: 맥스 풀링, 풀링 크기 2X2, stride 2X2\n",
    "model.add(keras.layers.MaxPooling2D((2,2)))\n",
    "# 5번 레이어 - 데이터 전개 계층: 입력 데이터 전개\n",
    "model.add(keras.layers.Flatten())\n",
    "# 6번 레이어 - 완전연결 계층: 뉴런 개수 32, 필터 크기 3X3, 활성화 함수 ReLU\n",
    "model.add(keras.layers.Dense(32, activation='relu'))\n",
    "# 7번 레이어 - 출력 계층: 출력 노드 개수 3, 출력함수 Softmax\n",
    "model.add(keras.layers.Dense(3, activation='softmax'))\n",
    "\n",
    "model.summary()"
   ]
  },
  {
   "cell_type": "markdown",
   "metadata": {
    "id": "4IVht4v84ROc"
   },
   "source": [
    "* 2개의 합성곱 계층과 2개의 풀링 계층을 거쳐 3개의 노드를 출력하는 모델을 설계한다."
   ]
  },
  {
   "cell_type": "markdown",
   "metadata": {
    "id": "sn0McFAJZihU"
   },
   "source": [
    "---\n",
    "### 딥러닝 네트워크 학습시키기\n",
    "학습을 진행할 때 가중치 업데이트 방법, 손실함수, 평가지표 등 고려해야할 사항과 그 종류를 파악해야 한다. 학습 과정의 정확도와 학습 완료 후의 정확도를 비교하며 학습이 진행하는 과정에서의 정확도의 변화를 주시한다.\n"
   ]
  },
  {
   "cell_type": "code",
   "execution_count": 8,
   "metadata": {
    "colab": {
     "base_uri": "https://localhost:8080/"
    },
    "id": "kIVvT1Bx4iA3",
    "outputId": "89e4f76a-3d6c-4a1e-fe91-7e273627e52f"
   },
   "outputs": [
    {
     "name": "stdout",
     "output_type": "stream",
     "text": [
      "Epoch 1/10\n",
      "23/23 [==============================] - 3s 14ms/step - loss: 1.0716 - accuracy: 0.5007\n",
      "Epoch 2/10\n",
      "23/23 [==============================] - 0s 4ms/step - loss: 0.9421 - accuracy: 0.5720\n",
      "Epoch 3/10\n",
      "23/23 [==============================] - 0s 4ms/step - loss: 0.6580 - accuracy: 0.7942\n",
      "Epoch 4/10\n",
      "23/23 [==============================] - 0s 3ms/step - loss: 0.4292 - accuracy: 0.8368\n",
      "Epoch 5/10\n",
      "23/23 [==============================] - 0s 4ms/step - loss: 0.3149 - accuracy: 0.8820\n",
      "Epoch 6/10\n",
      "23/23 [==============================] - 0s 4ms/step - loss: 0.2435 - accuracy: 0.9026\n",
      "Epoch 7/10\n",
      "23/23 [==============================] - 0s 3ms/step - loss: 0.1822 - accuracy: 0.9314\n",
      "Epoch 8/10\n",
      "23/23 [==============================] - 0s 3ms/step - loss: 0.1380 - accuracy: 0.9534\n",
      "Epoch 9/10\n",
      "23/23 [==============================] - 0s 4ms/step - loss: 0.0997 - accuracy: 0.9726\n",
      "Epoch 10/10\n",
      "23/23 [==============================] - 0s 4ms/step - loss: 0.0735 - accuracy: 0.9739\n"
     ]
    },
    {
     "data": {
      "text/plain": [
       "<keras.src.callbacks.History at 0x7d6d39f25750>"
      ]
     },
     "execution_count": 8,
     "metadata": {},
     "output_type": "execute_result"
    }
   ],
   "source": [
    "# 가중치 업데이트 방법 adam, 손실함수 sparse_categorical_crossentropy, 평가지표 정확도\n",
    "model.compile(optimizer='adam',\n",
    "             loss='sparse_categorical_crossentropy',\n",
    "             metrics=['accuracy'])\n",
    "\n",
    "\n",
    "model.fit(x_train_norm, y_train, epochs=10)"
   ]
  },
  {
   "cell_type": "code",
   "execution_count": 10,
   "metadata": {
    "colab": {
     "base_uri": "https://localhost:8080/",
     "height": 449
    },
    "id": "t2bjfuBt7zjS",
    "outputId": "9e290fa7-5cda-4a0d-ce8e-6068526b8503"
   },
   "outputs": [
    {
     "data": {
      "image/png": "[encoded data removed]",
      "text/plain": [
       "<Figure size 640x480 with 1 Axes>"
      ]
     },
     "metadata": {},
     "output_type": "display_data"
    }
   ],
   "source": [
    "# 에폭 증가에 따른 정확도 변화를 그래프로 그리기\n",
    "history = model.history\n",
    "\n",
    "plt.plot(history.history['accuracy'])\n",
    "plt.xlabel('epoch')\n",
    "plt.ylabel('accuracy')\n",
    "plt.show()"
   ]
  },
  {
   "cell_type": "markdown",
   "metadata": {
    "id": "yO2Pb8DC_iin"
   },
   "source": [
    "* 에폭을 거듭할수록 정확도가 점점 높아지는 것을 확인할 수 있다."
   ]
  },
  {
   "cell_type": "markdown",
   "metadata": {
    "id": "i7ZXJRoQZl-J"
   },
   "source": [
    "---\n",
    "### 만들어진 딥러닝 네트워크 검증하기\n",
    "지정된 데이터만으로 학습을 진행하다보면 오버피팅의 염려가 있다. 새로운 검증 데이터를 통해 오버피팅 여부를 확인하여 모델의 성능을 파악한다."
   ]
  },
  {
   "cell_type": "code",
   "execution_count": 11,
   "metadata": {
    "colab": {
     "base_uri": "https://localhost:8080/"
    },
    "id": "vkCOfrzwCJSL",
    "outputId": "cb839edd-f2b0-46a1-ded1-2e2d202aa3c5"
   },
   "outputs": [
    {
     "name": "stdout",
     "output_type": "stream",
     "text": [
      "100  images to be resized.\n",
      "100  images resized.\n",
      "보 test 이미지 resize 완료!\n",
      "100  images to be resized.\n",
      "100  images resized.\n",
      "바위 test 이미지 resize 완료!\n",
      "100  images to be resized.\n",
      "100  images resized.\n",
      "가위 test 이미지 resize 완료!\n"
     ]
    }
   ],
   "source": [
    "# 테스트 이미지가 저장된 디렉토리 아래의 모든 jpg 파일을 읽어들여서 크기 변환\n",
    "paper_dir_path = \"/content/rsp/paper_test\"\n",
    "rock_dir_path = \"/content/rsp/rock_test\"\n",
    "scissor_dir_path = \"/content/rsp/scissor_test\"\n",
    "\n",
    "resize_images(paper_dir_path)\n",
    "print(\"보 test 이미지 resize 완료!\")\n",
    "\n",
    "resize_images(rock_dir_path)\n",
    "print(\"바위 test 이미지 resize 완료!\")\n",
    "\n",
    "resize_images(scissor_dir_path)\n",
    "print(\"가위 test 이미지 resize 완료!\")"
   ]
  },
  {
   "cell_type": "code",
   "execution_count": 12,
   "metadata": {
    "colab": {
     "base_uri": "https://localhost:8080/"
    },
    "id": "1e8SUNlREKBH",
    "outputId": "b9b18d3a-66ab-44c1-e4c5-facf9fe5329e"
   },
   "outputs": [
    {
     "name": "stdout",
     "output_type": "stream",
     "text": [
      "검증데이터(x_test)의 이미지 개수는 300 입니다.\n",
      "x_test shape: (300, 28, 28, 3)\n",
      "y_test shape: (300,)\n"
     ]
    }
   ],
   "source": [
    "import numpy as np\n",
    "\n",
    "# 테스트 데이터를 읽어들이는 함수 정의(이미지 개수 합에 맞춰 데이터 개수는 729개로 지정)\n",
    "def load_test(img_path, number_of_data=300):\n",
    "    # 가위 : 0, 바위 : 1, 보 : 2\n",
    "    img_size=28\n",
    "    color=3\n",
    "    #이미지 데이터와 라벨(가위 : 0, 바위 : 1, 보 : 2) 데이터를 담을 행렬 영역 생성\n",
    "    imgs=np.zeros(number_of_data*img_size*img_size*color,dtype=np.int32).reshape(number_of_data,img_size,img_size,color)\n",
    "    labels=np.zeros(number_of_data,dtype=np.int32)\n",
    "\n",
    "    idx=0\n",
    "    # idx 0 영역에 가위 이미지 행렬 복사\n",
    "    for file in glob.iglob(img_path+'/scissor_test/*.jpg'):\n",
    "        img = np.array(Image.open(file),dtype=np.int32)\n",
    "        imgs[idx,:,:,:]=img\n",
    "        labels[idx]=0\n",
    "        idx=idx+1\n",
    "\n",
    "    # idx 1 영역에 가위 이미지 행렬 복사\n",
    "    for file in glob.iglob(img_path+'/rock_test/*.jpg'):\n",
    "        img = np.array(Image.open(file),dtype=np.int32)\n",
    "        imgs[idx,:,:,:]=img\n",
    "        labels[idx]=1\n",
    "        idx=idx+1\n",
    "\n",
    "    # idx 1 영역에 보 이미지 행렬 복사\n",
    "    for file in glob.iglob(img_path+'/paper_test/*.jpg'):\n",
    "        img = np.array(Image.open(file),dtype=np.int32)\n",
    "        imgs[idx,:,:,:]=img\n",
    "        labels[idx]=2\n",
    "        idx=idx+1\n",
    "\n",
    "    print(\"검증데이터(x_test)의 이미지 개수는\", idx,\"입니다.\")\n",
    "    return imgs, labels\n",
    "\n",
    "image_dir_path = \"/content/rsp\"\n",
    "# load_test 함수 호출 후 반환값을 x_test, y_test 변수에 바인딩\n",
    "(x_test, y_test)=load_test(image_dir_path)\n",
    "\n",
    "# 검증 데이터 정규화\n",
    "x_test_norm = x_test/255.0\n",
    "\n",
    "print(\"x_test shape: {}\".format(x_test.shape))\n",
    "print(\"y_test shape: {}\".format(y_test.shape))"
   ]
  },
  {
   "cell_type": "markdown",
   "metadata": {
    "id": "tWwzJI1PGDnS"
   },
   "source": [
    "* 300개의 데이터 크기를 244X244에서 28X28로 변환한다.\n",
    "* 300개의 데이터를 검증 데이터와 정답 라벨로 분리 후 0에서 1사이의 값이 되도록 정규화를 진행한다."
   ]
  },
  {
   "cell_type": "code",
   "execution_count": 13,
   "metadata": {
    "colab": {
     "base_uri": "https://localhost:8080/"
    },
    "id": "f4Pem38zGig5",
    "outputId": "fc83802b-687a-479e-b4dd-578c5e331161"
   },
   "outputs": [
    {
     "name": "stdout",
     "output_type": "stream",
     "text": [
      "10/10 - 0s - loss: 3.3720 - accuracy: 0.3467 - 324ms/epoch - 32ms/step\n",
      "test_loss: 3.371952772140503\n",
      "test_accuracy: 0.3466666638851166\n"
     ]
    }
   ],
   "source": [
    "test_loss, test_accuracy = model.evaluate(x_test_norm,y_test, verbose=2)\n",
    "print(f\"test_loss: {test_loss}\")\n",
    "print(f\"test_accuracy: {test_accuracy}\")"
   ]
  },
  {
   "cell_type": "markdown",
   "metadata": {
    "id": "4A5Qa4-sGqoH"
   },
   "source": [
    "* 학습 결과 정확도는 97%였지만, 검증 결과 정확도는 34.6%로 모델이 학습데이터에 오버피팅 됐다는 것을 알 수 있다."
   ]
  },
  {
   "cell_type": "markdown",
   "metadata": {
    "id": "A_X8k8GHZt21"
   },
   "source": [
    "---\n",
    "### 네트워크 정확도 높이기\n",
    "위의 결과에서 알 수 있 듯이, 학습 결과 정확도와 검증 결과 정확도가 약 62% 정도 차이가 난다. 이 차이가 아니더라도 검증 결과 정확도가 34.6%라는 것은 터무니 없는 성능을 보이는 것이므로 모델을 개선할 필요가 있다."
   ]
  },
  {
   "cell_type": "code",
   "execution_count": 21,
   "metadata": {
    "colab": {
     "base_uri": "https://localhost:8080/"
    },
    "id": "IHtUNAhxJESj",
    "outputId": "342d2f7e-7f15-4160-9863-8a264e1d11b8"
   },
   "outputs": [
    {
     "name": "stdout",
     "output_type": "stream",
     "text": [
      "976  images to be resized.\n",
      "976  images resized.\n",
      "보 이미지 resize 완료!\n",
      "1177  images to be resized.\n",
      "1177  images resized.\n",
      "바위 이미지 resize 완료!\n",
      "993  images to be resized.\n",
      "993  images resized.\n",
      "가위 이미지 resize 완료!\n",
      "학습데이터(x_train)의 이미지 개수는 3146 입니다.\n",
      "x_train shape: (3146, 28, 28, 3)\n",
      "y_train shape: (3146,)\n"
     ]
    }
   ],
   "source": [
    "# 학습 데이터 추가\n",
    "paper_dir_path = \"/content/rsp/paper\"\n",
    "rock_dir_path = \"/content/rsp/rock\"\n",
    "scissor_dir_path = \"/content/rsp/scissor\"\n",
    "\n",
    "resize_images(paper_dir_path)\n",
    "print(\"보 이미지 resize 완료!\")\n",
    "\n",
    "resize_images(rock_dir_path)\n",
    "print(\"바위 이미지 resize 완료!\")\n",
    "\n",
    "resize_images(scissor_dir_path)\n",
    "print(\"가위 이미지 resize 완료!\")\n",
    "\n",
    "\n",
    "image_dir_path = \"/content/rsp\"\n",
    "# load_data 함수 호출 후 반환값을 x_train, y_train 변수에 바인딩\n",
    "(x_train, y_train)=load_data(image_dir_path, 3146)\n",
    "\n",
    "print(\"x_train shape: {}\".format(x_train.shape))\n",
    "print(\"y_train shape: {}\".format(y_train.shape))"
   ]
  },
  {
   "cell_type": "markdown",
   "metadata": {
    "id": "dAHmgzXBTKhx"
   },
   "source": [
    "* 학습 데이터의 개수를 기존 729개에서 3146개로 증량한 후, 기존과 동일하게 크기를 28X28로 변환한다."
   ]
  },
  {
   "cell_type": "code",
   "execution_count": 22,
   "metadata": {
    "colab": {
     "base_uri": "https://localhost:8080/"
    },
    "id": "5sEJUjLHTcfP",
    "outputId": "9c22908e-ba2f-4a04-c55c-c76913fef923"
   },
   "outputs": [
    {
     "name": "stdout",
     "output_type": "stream",
     "text": [
      "최소값: 0.0  최대값: 1.0\n"
     ]
    }
   ],
   "source": [
    "# 데이터를 0과 1사이 값으로 정규화\n",
    "x_train_norm = x_train / 255.0\n",
    "print('최소값:',np.min(x_train_norm), ' 최대값:',np.max(x_train_norm))"
   ]
  },
  {
   "cell_type": "markdown",
   "metadata": {
    "id": "eUoycKt6UZ4_"
   },
   "source": [
    "* 데이터가 학습에 용이해지도록 정규화를 진행한다."
   ]
  },
  {
   "cell_type": "code",
   "execution_count": 56,
   "metadata": {
    "colab": {
     "base_uri": "https://localhost:8080/"
    },
    "id": "dM_TaidrUYWk",
    "outputId": "8ae11d3b-3f95-4efd-c55c-f4d0256c68b2"
   },
   "outputs": [
    {
     "name": "stdout",
     "output_type": "stream",
     "text": [
      "Model: \"sequential_11\"\n",
      "_________________________________________________________________\n",
      " Layer (type)                Output Shape              Param #   \n",
      "=================================================================\n",
      " conv2d_22 (Conv2D)          (None, 26, 26, 16)        448       \n",
      "                                                                 \n",
      " max_pooling2d_22 (MaxPooli  (None, 13, 13, 16)        0         \n",
      " ng2D)                                                           \n",
      "                                                                 \n",
      " conv2d_23 (Conv2D)          (None, 11, 11, 16)        2320      \n",
      "                                                                 \n",
      " max_pooling2d_23 (MaxPooli  (None, 5, 5, 16)          0         \n",
      " ng2D)                                                           \n",
      "                                                                 \n",
      " flatten_11 (Flatten)        (None, 400)               0         \n",
      "                                                                 \n",
      " dropout_10 (Dropout)        (None, 400)               0         \n",
      "                                                                 \n",
      " dense_20 (Dense)            (None, 16)                6416      \n",
      "                                                                 \n",
      " dense_21 (Dense)            (None, 3)                 51        \n",
      "                                                                 \n",
      "=================================================================\n",
      "Total params: 9235 (36.07 KB)\n",
      "Trainable params: 9235 (36.07 KB)\n",
      "Non-trainable params: 0 (0.00 Byte)\n",
      "_________________________________________________________________\n"
     ]
    }
   ],
   "source": [
    "from keras import regularizers\n",
    "\n",
    "#keras의 Sequential 모델 네트워크 재설계\n",
    "model=keras.models.Sequential()\n",
    "# 1번 레이어 - 합성곱 계층: 필터 개수 16, 필터 크기 3X3, 활성화 함수 ReLU, 데이터 크기 28X28X3\n",
    "model.add(keras.layers.Conv2D(16, (3,3), activation='relu', input_shape=(28,28,3)))\n",
    "# 2번 레이어 - 풀링 계층: 맥스 풀링, 풀링 크기 2X2, stride 2X2\n",
    "model.add(keras.layers.MaxPool2D(2,2))\n",
    "# 3번 레이어 - 합성곱 계층: 필터 개수 16, 필터 크기 3X3, 활성화 함수 ReLU\n",
    "model.add(keras.layers.Conv2D(16, (3,3), activation='relu'))\n",
    "# 4번 레이어 - 풀링 계층: 맥스 풀링, 풀링 크기 2X2, stride 2X2\n",
    "model.add(keras.layers.MaxPooling2D((2,2)))\n",
    "# 5번 레이어 - 데이터 전개 계층: 입력 데이터 전개\n",
    "model.add(keras.layers.Flatten())\n",
    "# 뉴런의 70%만 사용하도록 dropout 추가\n",
    "model.add(keras.layers.Dropout(0.3))\n",
    "# 6번 레이어 - 완전연결 계층: 뉴런 개수 16, 필터 크기 3X3, 활성화 함수 ReLU, L2 규제 적용\n",
    "model.add(keras.layers.Dense(16, activation='relu', kernel_regularizer=regularizers.l2(0.1)))\n",
    "# 7번 레이어 - 출력 계층: 출력 노드 개수 3, 출력함수 Softmax\n",
    "model.add(keras.layers.Dense(3, activation='softmax'))\n",
    "\n",
    "model.summary()"
   ]
  },
  {
   "cell_type": "markdown",
   "metadata": {
    "id": "BrL_DLjeWOqj"
   },
   "source": [
    "* 오버피팅 문제를 해결하기 위해 일부 하이퍼 파라미터 값을 변경한다.\n",
    "    * 합성곱 필터 개수: 32개 -> 16개\n",
    "    * dropout을 적용시켜 전체 뉴런의 70%만 활성화\n",
    "    * 완전연결 계층에 L2 규제 적용"
   ]
  },
  {
   "cell_type": "code",
   "execution_count": 57,
   "metadata": {
    "colab": {
     "base_uri": "https://localhost:8080/",
     "height": 806
    },
    "id": "kCBvOH9wWwWQ",
    "outputId": "67effa7a-d833-4566-eb4a-858c37ebb28f"
   },
   "outputs": [
    {
     "name": "stdout",
     "output_type": "stream",
     "text": [
      "Epoch 1/10\n",
      "99/99 [==============================] - 2s 4ms/step - loss: 2.2046 - accuracy: 0.3744\n",
      "Epoch 2/10\n",
      "99/99 [==============================] - 0s 4ms/step - loss: 1.1315 - accuracy: 0.4421\n",
      "Epoch 3/10\n",
      "99/99 [==============================] - 1s 7ms/step - loss: 0.9565 - accuracy: 0.5969\n",
      "Epoch 4/10\n",
      "99/99 [==============================] - 0s 4ms/step - loss: 0.7419 - accuracy: 0.7441\n",
      "Epoch 5/10\n",
      "99/99 [==============================] - 0s 4ms/step - loss: 0.6161 - accuracy: 0.8093\n",
      "Epoch 6/10\n",
      "99/99 [==============================] - 0s 4ms/step - loss: 0.5393 - accuracy: 0.8490\n",
      "Epoch 7/10\n",
      "99/99 [==============================] - 0s 4ms/step - loss: 0.4977 - accuracy: 0.8706\n",
      "Epoch 8/10\n",
      "99/99 [==============================] - 0s 4ms/step - loss: 0.4513 - accuracy: 0.8773\n",
      "Epoch 9/10\n",
      "99/99 [==============================] - 0s 4ms/step - loss: 0.4337 - accuracy: 0.8827\n",
      "Epoch 10/10\n",
      "99/99 [==============================] - 0s 4ms/step - loss: 0.3946 - accuracy: 0.9037\n"
     ]
    },
    {
     "data": {
      "image/png": "[encoded data removed]",
      "text/plain": [
       "<Figure size 640x480 with 1 Axes>"
      ]
     },
     "metadata": {},
     "output_type": "display_data"
    }
   ],
   "source": [
    "from keras.optimizers import Adam\n",
    "# Adam 가중치 0.01 적용\n",
    "optimizer = Adam(learning_rate=0.001)\n",
    "model.compile(optimizer=optimizer,\n",
    "             loss='sparse_categorical_crossentropy',\n",
    "             metrics=['accuracy'])\n",
    "\n",
    "model.fit(x_train_norm, y_train, epochs=10)\n",
    "\n",
    "history = model.history\n",
    "\n",
    "plt.plot(history.history['accuracy'])\n",
    "plt.xlabel('epoch')\n",
    "plt.ylabel('accuracy')\n",
    "plt.show()"
   ]
  },
  {
   "cell_type": "code",
   "execution_count": 58,
   "metadata": {
    "colab": {
     "base_uri": "https://localhost:8080/"
    },
    "id": "OnAAt1IEXHVq",
    "outputId": "5158f24a-cd10-4ea4-c277-54018f5ec067"
   },
   "outputs": [
    {
     "name": "stdout",
     "output_type": "stream",
     "text": [
      "10/10 - 0s - loss: 1.3312 - accuracy: 0.6067 - 248ms/epoch - 25ms/step\n",
      "test_loss: 1.3311718702316284\n",
      "test_accuracy: 0.6066666841506958\n"
     ]
    }
   ],
   "source": [
    "test_loss, test_accuracy = model.evaluate(x_test_norm,y_test, verbose=2)\n",
    "print(f\"test_loss: {test_loss}\")\n",
    "print(f\"test_accuracy: {test_accuracy}\")"
   ]
  },
  {
   "cell_type": "markdown",
   "metadata": {
    "id": "r8Jc4VbnaXoe"
   },
   "source": [
    "* 일단 60% 넘었으니까 현재 설정값을 유지하고 아래에 다시 설계해보도록 한다."
   ]
  },
  {
   "cell_type": "code",
   "execution_count": 77,
   "metadata": {
    "colab": {
     "base_uri": "https://localhost:8080/",
     "height": 847
    },
    "id": "-lNWieX7bsXX",
    "outputId": "d2ea1b05-d7d2-4d45-be80-ffe737fc6335"
   },
   "outputs": [
    {
     "name": "stdout",
     "output_type": "stream",
     "text": [
      "Epoch 1/50\n",
      "99/99 [==============================] - 3s 8ms/step - loss: 1.2305 - accuracy: 0.4243 - val_loss: 1.1512 - val_accuracy: 0.5867\n",
      "Epoch 2/50\n",
      "99/99 [==============================] - 1s 6ms/step - loss: 0.9224 - accuracy: 0.6405 - val_loss: 0.9965 - val_accuracy: 0.5300\n",
      "Epoch 3/50\n",
      "99/99 [==============================] - 0s 5ms/step - loss: 0.6607 - accuracy: 0.7670 - val_loss: 0.9187 - val_accuracy: 0.5967\n",
      "Epoch 4/50\n",
      "99/99 [==============================] - 0s 4ms/step - loss: 0.5244 - accuracy: 0.8290 - val_loss: 0.8932 - val_accuracy: 0.5967\n",
      "Epoch 5/50\n",
      "99/99 [==============================] - 0s 4ms/step - loss: 0.4544 - accuracy: 0.8671 - val_loss: 1.0120 - val_accuracy: 0.5800\n",
      "Epoch 6/50\n",
      "99/99 [==============================] - 0s 4ms/step - loss: 0.3706 - accuracy: 0.9005 - val_loss: 1.4099 - val_accuracy: 0.6033\n",
      "Epoch 7/50\n",
      "99/99 [==============================] - 0s 5ms/step - loss: 0.3532 - accuracy: 0.9085 - val_loss: 1.5542 - val_accuracy: 0.5900\n",
      "Epoch 8/50\n",
      "99/99 [==============================] - 0s 5ms/step - loss: 0.3133 - accuracy: 0.9193 - val_loss: 1.6892 - val_accuracy: 0.5833\n",
      "Epoch 9/50\n",
      "99/99 [==============================] - 0s 5ms/step - loss: 0.2877 - accuracy: 0.9288 - val_loss: 1.6535 - val_accuracy: 0.5800\n",
      "10/10 - 0s - loss: 0.8932 - accuracy: 0.5967 - 37ms/epoch - 4ms/step\n",
      "test_loss: 0.8932483792304993\n",
      "test_accuracy: 0.596666693687439\n"
     ]
    },
    {
     "data": {
      "image/png": "[encoded data removed]",
      "text/plain": [
       "<Figure size 640x480 with 1 Axes>"
      ]
     },
     "metadata": {},
     "output_type": "display_data"
    }
   ],
   "source": [
    "from keras.preprocessing.image import ImageDataGenerator\n",
    "from keras.callbacks import EarlyStopping\n",
    "\n",
    "model=keras.models.Sequential()\n",
    "model.add(keras.layers.Conv2D(16, (3,3), activation='relu', input_shape=(28,28,3)))\n",
    "model.add(keras.layers.MaxPool2D(2,2))\n",
    "model.add(keras.layers.Conv2D(16, (3,3), activation='relu'))\n",
    "model.add(keras.layers.MaxPooling2D((2,2)))\n",
    "model.add(keras.layers.Flatten())\n",
    "model.add(keras.layers.Dropout(0.3))\n",
    "model.add(keras.layers.Dense(16, activation='relu', kernel_regularizer=regularizers.l2(0.01)))\n",
    "model.add(keras.layers.Dense(3, activation='softmax'))\n",
    "\n",
    "optimizer = Adam(learning_rate=0.001)\n",
    "model.compile(optimizer=optimizer,\n",
    "             loss='sparse_categorical_crossentropy',\n",
    "             metrics=['accuracy'])\n",
    "\n",
    "# 데이터를 회전, 이동, 변형, 축소, 확대, 반전, 패딩 등의 방법으로 변환\n",
    "# datagen = ImageDataGenerator(\n",
    "#     rotation_range=20,\n",
    "#     width_shift_range=0.2,\n",
    "#     height_shift_range=0.2,\n",
    "#     shear_range=0.2,\n",
    "#     zoom_range=0.2,\n",
    "#     horizontal_flip=True,\n",
    "#     fill_mode='nearest'\n",
    "# )\n",
    "\n",
    "# datagen.fit(x_train_norm)\n",
    "# model.fit(datagen.flow(x_train_norm, y_train, batch_size=50), epochs=40)\n",
    "early_stopping = EarlyStopping(monitor='val_loss', patience=5, restore_best_weights=True)\n",
    "history = model.fit(x_train_norm, y_train, epochs=50, validation_data=(x_test_norm, y_test), callbacks=[early_stopping])\n",
    "\n",
    "test_loss, test_accuracy = model.evaluate(x_test_norm,y_test, verbose=2)\n",
    "print(f\"test_loss: {test_loss}\")\n",
    "print(f\"test_accuracy: {test_accuracy}\")\n",
    "\n",
    "plt.plot(history.history['loss'], label='Training Loss')\n",
    "plt.plot(history.history['val_loss'], label='Validation Loss')\n",
    "plt.title('Training and Validation Loss')\n",
    "plt.xlabel('Epochs')\n",
    "plt.ylabel('Loss')\n",
    "plt.legend()\n",
    "plt.show()"
   ]
  },
  {
   "cell_type": "code",
   "execution_count": 82,
   "metadata": {
    "colab": {
     "base_uri": "https://localhost:8080/",
     "height": 1000
    },
    "id": "hKKd4csQidT7",
    "outputId": "0607312c-dd6d-4b9f-e9fa-311d24bf532d"
   },
   "outputs": [
    {
     "name": "stdout",
     "output_type": "stream",
     "text": [
      "Epoch 1/40\n",
      "99/99 [==============================] - 2s 5ms/step - loss: 1.1364 - accuracy: 0.3684\n",
      "Epoch 2/40\n",
      "99/99 [==============================] - 1s 5ms/step - loss: 1.0898 - accuracy: 0.3967\n",
      "Epoch 3/40\n",
      "99/99 [==============================] - 1s 5ms/step - loss: 1.0103 - accuracy: 0.4609\n",
      "Epoch 4/40\n",
      "99/99 [==============================] - 0s 5ms/step - loss: 0.9056 - accuracy: 0.5823\n",
      "Epoch 5/40\n",
      "99/99 [==============================] - 1s 5ms/step - loss: 0.8051 - accuracy: 0.6767\n",
      "Epoch 6/40\n",
      "99/99 [==============================] - 1s 5ms/step - loss: 0.7458 - accuracy: 0.7012\n",
      "Epoch 7/40\n",
      "99/99 [==============================] - 1s 5ms/step - loss: 0.6931 - accuracy: 0.7250\n",
      "Epoch 8/40\n",
      "99/99 [==============================] - 0s 4ms/step - loss: 0.6757 - accuracy: 0.7374\n",
      "Epoch 9/40\n",
      "99/99 [==============================] - 0s 4ms/step - loss: 0.6185 - accuracy: 0.7708\n",
      "Epoch 10/40\n",
      "99/99 [==============================] - 0s 4ms/step - loss: 0.5708 - accuracy: 0.7861\n",
      "Epoch 11/40\n",
      "99/99 [==============================] - 0s 4ms/step - loss: 0.5814 - accuracy: 0.7912\n",
      "Epoch 12/40\n",
      "99/99 [==============================] - 0s 4ms/step - loss: 0.5416 - accuracy: 0.8017\n",
      "Epoch 13/40\n",
      "99/99 [==============================] - 0s 4ms/step - loss: 0.5240 - accuracy: 0.8118\n",
      "Epoch 14/40\n",
      "99/99 [==============================] - 0s 4ms/step - loss: 0.5330 - accuracy: 0.8137\n",
      "Epoch 15/40\n",
      "99/99 [==============================] - 0s 4ms/step - loss: 0.5245 - accuracy: 0.8156\n",
      "Epoch 16/40\n",
      "99/99 [==============================] - 0s 4ms/step - loss: 0.5159 - accuracy: 0.8061\n",
      "Epoch 17/40\n",
      "99/99 [==============================] - 0s 4ms/step - loss: 0.4951 - accuracy: 0.8268\n",
      "Epoch 18/40\n",
      "99/99 [==============================] - 0s 4ms/step - loss: 0.4906 - accuracy: 0.8287\n",
      "Epoch 19/40\n",
      "99/99 [==============================] - 0s 4ms/step - loss: 0.4744 - accuracy: 0.8299\n",
      "Epoch 20/40\n",
      "99/99 [==============================] - 0s 4ms/step - loss: 0.4654 - accuracy: 0.8388\n",
      "Epoch 21/40\n",
      "99/99 [==============================] - 0s 4ms/step - loss: 0.4465 - accuracy: 0.8487\n",
      "Epoch 22/40\n",
      "99/99 [==============================] - 0s 4ms/step - loss: 0.4292 - accuracy: 0.8481\n",
      "Epoch 23/40\n",
      "99/99 [==============================] - 0s 4ms/step - loss: 0.4480 - accuracy: 0.8462\n",
      "Epoch 24/40\n",
      "99/99 [==============================] - 0s 4ms/step - loss: 0.4232 - accuracy: 0.8659\n",
      "Epoch 25/40\n",
      "99/99 [==============================] - 0s 4ms/step - loss: 0.4617 - accuracy: 0.8468\n",
      "Epoch 26/40\n",
      "99/99 [==============================] - 0s 4ms/step - loss: 0.4146 - accuracy: 0.8630\n",
      "Epoch 27/40\n",
      "99/99 [==============================] - 0s 4ms/step - loss: 0.4251 - accuracy: 0.8668\n",
      "Epoch 28/40\n",
      "99/99 [==============================] - 0s 4ms/step - loss: 0.4367 - accuracy: 0.8617\n",
      "Epoch 29/40\n",
      "99/99 [==============================] - 0s 4ms/step - loss: 0.4284 - accuracy: 0.8662\n",
      "Epoch 30/40\n",
      "99/99 [==============================] - 0s 4ms/step - loss: 0.4053 - accuracy: 0.8732\n",
      "Epoch 31/40\n",
      "99/99 [==============================] - 0s 4ms/step - loss: 0.3911 - accuracy: 0.8744\n",
      "Epoch 32/40\n",
      "99/99 [==============================] - 0s 4ms/step - loss: 0.3831 - accuracy: 0.8735\n",
      "Epoch 33/40\n",
      "99/99 [==============================] - 0s 4ms/step - loss: 0.3663 - accuracy: 0.8853\n",
      "Epoch 34/40\n",
      "99/99 [==============================] - 0s 4ms/step - loss: 0.3889 - accuracy: 0.8722\n",
      "Epoch 35/40\n",
      "99/99 [==============================] - 1s 5ms/step - loss: 0.3607 - accuracy: 0.8887\n",
      "Epoch 36/40\n",
      "99/99 [==============================] - 0s 5ms/step - loss: 0.3678 - accuracy: 0.8833\n",
      "Epoch 37/40\n",
      "99/99 [==============================] - 1s 5ms/step - loss: 0.3802 - accuracy: 0.8824\n",
      "Epoch 38/40\n",
      "99/99 [==============================] - 1s 6ms/step - loss: 0.3664 - accuracy: 0.8853\n",
      "Epoch 39/40\n",
      "99/99 [==============================] - 0s 5ms/step - loss: 0.3693 - accuracy: 0.8868\n",
      "Epoch 40/40\n",
      "99/99 [==============================] - 1s 5ms/step - loss: 0.3490 - accuracy: 0.8961\n",
      "10/10 - 0s - loss: 0.8472 - accuracy: 0.6633 - 149ms/epoch - 15ms/step\n",
      "test_loss: 0.8472168445587158\n",
      "test_accuracy: 0.6633333563804626\n"
     ]
    },
    {
     "data": {
      "image/png": "[encoded data removed]",
      "text/plain": [
       "<Figure size 640x480 with 1 Axes>"
      ]
     },
     "metadata": {},
     "output_type": "display_data"
    }
   ],
   "source": [
    "model=keras.models.Sequential()\n",
    "model.add(keras.layers.Conv2D(16, (3,3), activation='relu', input_shape=(28,28,3)))\n",
    "model.add(keras.layers.MaxPool2D(2,2))\n",
    "model.add(keras.layers.Conv2D(16, (3,3), activation='relu'))\n",
    "model.add(keras.layers.MaxPooling2D((2,2)))\n",
    "model.add(keras.layers.Flatten())\n",
    "model.add(keras.layers.Dropout(0.5))\n",
    "model.add(keras.layers.Dense(16, activation='relu', kernel_regularizer=regularizers.l2(0.01)))\n",
    "model.add(keras.layers.Dense(3, activation='softmax'))\n",
    "\n",
    "optimizer = Adam(learning_rate=0.01)\n",
    "model.compile(optimizer=optimizer,\n",
    "             loss='sparse_categorical_crossentropy',\n",
    "             metrics=['accuracy'])\n",
    "\n",
    "model.fit(x_train_norm, y_train, epochs=40)\n",
    "\n",
    "history = model.history\n",
    "\n",
    "test_loss, test_accuracy = model.evaluate(x_test_norm,y_test, verbose=2)\n",
    "print(f\"test_loss: {test_loss}\")\n",
    "print(f\"test_accuracy: {test_accuracy}\")\n",
    "\n",
    "plt.plot(history.history['accuracy'])\n",
    "plt.xlabel('epoch')\n",
    "plt.ylabel('accuracy')\n",
    "plt.show()"
   ]
  },
  {
   "cell_type": "code",
   "execution_count": 92,
   "metadata": {
    "colab": {
     "base_uri": "https://localhost:8080/",
     "height": 1000
    },
    "id": "ziwZfg_ZjobT",
    "outputId": "320a7774-5813-48ff-e4d6-37231ce2a1bd"
   },
   "outputs": [
    {
     "name": "stdout",
     "output_type": "stream",
     "text": [
      "Epoch 1/40\n",
      "99/99 [==============================] - 3s 7ms/step - loss: 1.1262 - accuracy: 0.3716\n",
      "Epoch 2/40\n",
      "99/99 [==============================] - 1s 6ms/step - loss: 1.0939 - accuracy: 0.3741\n",
      "Epoch 3/40\n",
      "99/99 [==============================] - 0s 4ms/step - loss: 1.0820 - accuracy: 0.3976\n",
      "Epoch 4/40\n",
      "99/99 [==============================] - 0s 4ms/step - loss: 1.0638 - accuracy: 0.4278\n",
      "Epoch 5/40\n",
      "99/99 [==============================] - 0s 4ms/step - loss: 0.9910 - accuracy: 0.5184\n",
      "Epoch 6/40\n",
      "99/99 [==============================] - 0s 4ms/step - loss: 0.9394 - accuracy: 0.5769\n",
      "Epoch 7/40\n",
      "99/99 [==============================] - 0s 4ms/step - loss: 0.8428 - accuracy: 0.6313\n",
      "Epoch 8/40\n",
      "99/99 [==============================] - 0s 3ms/step - loss: 0.7598 - accuracy: 0.6863\n",
      "Epoch 9/40\n",
      "99/99 [==============================] - 0s 3ms/step - loss: 0.7175 - accuracy: 0.7158\n",
      "Epoch 10/40\n",
      "99/99 [==============================] - 0s 4ms/step - loss: 0.6734 - accuracy: 0.7352\n",
      "Epoch 11/40\n",
      "99/99 [==============================] - 0s 4ms/step - loss: 0.6288 - accuracy: 0.7584\n",
      "Epoch 12/40\n",
      "99/99 [==============================] - 0s 4ms/step - loss: 0.6089 - accuracy: 0.7686\n",
      "Epoch 13/40\n",
      "99/99 [==============================] - 0s 4ms/step - loss: 0.5738 - accuracy: 0.7826\n",
      "Epoch 14/40\n",
      "99/99 [==============================] - 0s 3ms/step - loss: 0.5355 - accuracy: 0.8051\n",
      "Epoch 15/40\n",
      "99/99 [==============================] - 0s 4ms/step - loss: 0.5593 - accuracy: 0.7889\n",
      "Epoch 16/40\n",
      "99/99 [==============================] - 0s 4ms/step - loss: 0.5104 - accuracy: 0.8118\n",
      "Epoch 17/40\n",
      "99/99 [==============================] - 0s 3ms/step - loss: 0.5114 - accuracy: 0.8029\n",
      "Epoch 18/40\n",
      "99/99 [==============================] - 0s 4ms/step - loss: 0.5118 - accuracy: 0.7969\n",
      "Epoch 19/40\n",
      "99/99 [==============================] - 0s 4ms/step - loss: 0.4901 - accuracy: 0.8195\n",
      "Epoch 20/40\n",
      "99/99 [==============================] - 0s 4ms/step - loss: 0.4645 - accuracy: 0.8296\n",
      "Epoch 21/40\n",
      "99/99 [==============================] - 0s 4ms/step - loss: 0.4660 - accuracy: 0.8210\n",
      "Epoch 22/40\n",
      "99/99 [==============================] - 0s 4ms/step - loss: 0.4524 - accuracy: 0.8258\n",
      "Epoch 23/40\n",
      "99/99 [==============================] - 0s 4ms/step - loss: 0.4546 - accuracy: 0.8334\n",
      "Epoch 24/40\n",
      "99/99 [==============================] - 0s 4ms/step - loss: 0.4537 - accuracy: 0.8325\n",
      "Epoch 25/40\n",
      "99/99 [==============================] - 0s 3ms/step - loss: 0.4539 - accuracy: 0.8379\n",
      "Epoch 26/40\n",
      "99/99 [==============================] - 0s 3ms/step - loss: 0.4232 - accuracy: 0.8382\n",
      "Epoch 27/40\n",
      "99/99 [==============================] - 0s 4ms/step - loss: 0.4138 - accuracy: 0.8519\n",
      "Epoch 28/40\n",
      "99/99 [==============================] - 0s 4ms/step - loss: 0.4125 - accuracy: 0.8512\n",
      "Epoch 29/40\n",
      "99/99 [==============================] - 0s 3ms/step - loss: 0.4000 - accuracy: 0.8528\n",
      "Epoch 30/40\n",
      "99/99 [==============================] - 0s 4ms/step - loss: 0.4211 - accuracy: 0.8490\n",
      "Epoch 31/40\n",
      "99/99 [==============================] - 0s 5ms/step - loss: 0.4092 - accuracy: 0.8541\n",
      "Epoch 32/40\n",
      "99/99 [==============================] - 1s 5ms/step - loss: 0.3785 - accuracy: 0.8614\n",
      "Epoch 33/40\n",
      "99/99 [==============================] - 0s 5ms/step - loss: 0.4083 - accuracy: 0.8512\n",
      "Epoch 34/40\n",
      "99/99 [==============================] - 0s 5ms/step - loss: 0.3963 - accuracy: 0.8525\n",
      "Epoch 35/40\n",
      "99/99 [==============================] - 1s 5ms/step - loss: 0.4112 - accuracy: 0.8477\n",
      "Epoch 36/40\n",
      "99/99 [==============================] - 1s 5ms/step - loss: 0.3823 - accuracy: 0.8640\n",
      "Epoch 37/40\n",
      "99/99 [==============================] - 0s 5ms/step - loss: 0.3798 - accuracy: 0.8630\n",
      "Epoch 38/40\n",
      "99/99 [==============================] - 1s 5ms/step - loss: 0.3764 - accuracy: 0.8636\n",
      "Epoch 39/40\n",
      "99/99 [==============================] - 0s 5ms/step - loss: 0.3619 - accuracy: 0.8716\n",
      "Epoch 40/40\n",
      "99/99 [==============================] - 1s 5ms/step - loss: 0.3740 - accuracy: 0.8659\n",
      "10/10 - 0s - loss: 0.7891 - accuracy: 0.7400 - 211ms/epoch - 21ms/step\n",
      "test_loss: 0.7891111373901367\n",
      "test_accuracy: 0.7400000095367432\n"
     ]
    },
    {
     "data": {
      "image/png": "[encoded data removed]",
      "text/plain": [
       "<Figure size 640x480 with 1 Axes>"
      ]
     },
     "metadata": {},
     "output_type": "display_data"
    }
   ],
   "source": [
    "model=keras.models.Sequential()\n",
    "model.add(keras.layers.Conv2D(16, (3,3), activation='relu', input_shape=(28,28,3)))\n",
    "model.add(keras.layers.MaxPool2D(3,3))\n",
    "model.add(keras.layers.Conv2D(16, (3,3), activation='relu'))\n",
    "model.add(keras.layers.MaxPooling2D((3,3)))\n",
    "model.add(keras.layers.Flatten())\n",
    "model.add(keras.layers.Dropout(0.5))\n",
    "model.add(keras.layers.Dense(16, activation='relu', kernel_regularizer=regularizers.l2(0.01)))\n",
    "model.add(keras.layers.Dense(3, activation='softmax'))\n",
    "\n",
    "optimizer = Adam(learning_rate=0.01)\n",
    "model.compile(optimizer=optimizer,\n",
    "             loss='sparse_categorical_crossentropy',\n",
    "             metrics=['accuracy'])\n",
    "\n",
    "model.fit(x_train_norm, y_train, epochs=40)\n",
    "\n",
    "history = model.history\n",
    "\n",
    "test_loss, test_accuracy = model.evaluate(x_test_norm,y_test, verbose=2)\n",
    "print(f\"test_loss: {test_loss}\")\n",
    "print(f\"test_accuracy: {test_accuracy}\")\n",
    "\n",
    "plt.plot(history.history['accuracy'])\n",
    "plt.xlabel('epoch')\n",
    "plt.ylabel('accuracy')\n",
    "plt.show()"
   ]
  },
  {
   "cell_type": "markdown",
   "metadata": {
    "id": "Dfqcsz1rq-UG"
   },
   "source": [
    "**최종 결과**  \n",
    "* 하기 요약된 하이퍼 파라미터 조정을 통해 처음 34.6%의 정확도에서 74%의 정확도로 약 40% 향상된 성능을 확인할 수 있다."
   ]
  },
  {
   "cell_type": "markdown",
   "metadata": {
    "id": "5s-y-Y3mZyGM"
   },
   "source": [
    "---\n",
    "### 가위바위보 게임 로직 구현하기"
   ]
  },
  {
   "cell_type": "markdown",
   "metadata": {
    "id": "4Wg7RXCzZ2bx"
   },
   "source": [
    "---\n",
    "## 요약\n",
    "가위, 바위, 보 이미지 데이터를 학습 시킨 후, 이미지 분류기를 만들어봤다. 처음 검증 정확도가 36%가 나와 정확도를 증가시키려는 노력을 해봤지만, 74%까지밖에 못 올렸다. 시도해본 방법은 다음과 같다.\n",
    "* 데이터 증가: 여러 사람의 가위, 바위, 보 이미지를 학습 데이터에 추가\n",
    "* 하이퍼 파라미터 조정:\n",
    "    * 필터 개수 32개에서 16개로 조정\n",
    "    * 풀링 크기 2X2에서 3X3으로 조정\n",
    "    * L2 규제 0.01 설정\n",
    "    * 완전결합층 노드 개수 32개에서 16개로 축소\n",
    "    * dropout으로 학습 시 신호를 전달하는 노드를 50%로 축소\n",
    "    * 학습률 0.01로 설정\n",
    "> 그 외에 과적합을 방지하여 학습을 조기종료하는 EarlyStopping 모듈과 데이터를 회전, 이동, 변형, 축소, 확대, 반전, 패딩 등의 방법으로 변환하여 증량시키는 ImageDataGenerator 모듈을 사용해봤지만, 해당 모듈로는 정확도 증가가 이뤄지지 않았다.\n",
    "* 에폭 조정: 하이퍼 파라미터 값 조정으로 인한 정확도 손실을 방지하기 위해 학습 횟수를 10에서 40으로 증가  \n",
    "여유가 있을 때, 모델 선정부터 설계를 다시 한 번 검토해봐야 할 것 같다.\n"
   ]
  },
  {
   "cell_type": "markdown",
   "metadata": {
    "id": "HHkWycY2Z8H2"
   },
   "source": [
    "## 회고\n",
    "\n",
    "### KEEP\n",
    "* 정확도를 올리려는 과정에서 조정하는 항목에 대해 이해했다.\n",
    "* 데이터를 생성하고 학습까지 하나의 플로우를 이해하며 학습했다.  \n",
    "\n",
    "### PROBLEM\n",
    "* 하이퍼 파라미터 등을 조정할 때, 각 항목이 다른 항목에 미치는 영향을 이해하지 못했다.  \n",
    "\n",
    "### TRY\n",
    "* 정확도를 올리려는 시도를 진행할 때, 항목 별 영향에 대한 이해와 테스트 케이스를 정리한 후 작업을 해야겠다."
   ]
  }
 ],
 "metadata": {
  "accelerator": "GPU",
  "colab": {
   "authorship_tag": "ABX9TyOJA8+Vlk/pOlZzWjDJcQqy",
   "gpuType": "T4",
   "provenance": []
  },
  "kernelspec": {
   "display_name": "Python 3 (ipykernel)",
   "language": "python",
   "name": "python3"
  },
  "language_info": {
   "codemirror_mode": {
    "name": "ipython",
    "version": 3
   },
   "file_extension": ".py",
   "mimetype": "text/x-python",
   "name": "python",
   "nbconvert_exporter": "python",
   "pygments_lexer": "ipython3",
   "version": "3.10.13"
  }
 },
 "nbformat": 4,
 "nbformat_minor": 4
}
