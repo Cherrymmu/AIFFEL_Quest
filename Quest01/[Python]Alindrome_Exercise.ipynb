{
  "nbformat": 4,
  "nbformat_minor": 0,
  "metadata": {
    "colab": {
      "provenance": [],
      "authorship_tag": "ABX9TyOrXoi2t2c0ZSPesN8A7gQq",
      "include_colab_link": true
    },
    "kernelspec": {
      "name": "python3",
      "display_name": "Python 3"
    },
    "language_info": {
      "name": "python"
    }
  },
  "cells": [
    {
      "cell_type": "markdown",
      "metadata": {
        "id": "view-in-github",
        "colab_type": "text"
      },
      "source": [
        "<a href=\"https://colab.research.google.com/github/thetjswo/Aiffel_Quest/blob/master/Quest01/quest01.ipynb\" target=\"_parent\"><img src=\"https://colab.research.google.com/assets/colab-badge.svg\" alt=\"Open In Colab\"/></a>"
      ]
    },
    {
      "cell_type": "code",
      "source": [],
      "metadata": {
        "id": "OkNukWovfTSh"
      },
      "execution_count": null,
      "outputs": []
    },
    {
      "cell_type": "code",
      "execution_count": 7,
      "metadata": {
        "colab": {
          "base_uri": "https://localhost:8080/"
        },
        "id": "7Sw5s-ljW33X",
        "outputId": "e7a6ff36-be18-4313-e353-a0c1de6671ad"
      },
      "outputs": [
        {
          "output_type": "stream",
          "name": "stdout",
          "text": [
            "입력값: 우영우\n",
            "뒤집힌 단어는:  우영우\n",
            "입력된 단어 우영우는 회문 입니다.\n"
          ]
        }
      ],
      "source": [
        "# 함수의 정의는 호출부 상단에 위치해야 한다. - 에러 수정을 통한 지식 습득\n",
        "def reverse(text):\n",
        "  reverse_text = text[::-1] #[::-1]은 거꾸로 간격을 1로하는 슬라이싱\n",
        "  print(\"뒤집힌 단어는: \", reverse_text)\n",
        "\n",
        "  if text == reverse_text: #입력받은 text와 리버스한 text를 비교하여 같은 문자열일 경우\n",
        "    # return True\n",
        "    print(f\"입력된 단어 {input_text}는 회문 입니다.\")\n",
        "  else: #입력받은 text와 리버스한 text를 비교하여 같지 않은 문자열일 경우\n",
        "    print(f\"입력된 단어 {input_text}는 회문이 아닙니다.\")\n",
        "    # return False\n",
        "\n",
        "\n",
        "input_text = input('입력값: ') #입력받은 문자열\n",
        "result = reverse(input_text) #회문 비교 함수 호출\n",
        "\n",
        "# 굳이 조건문을 두 번 쓰지 않고 코드 수를 줄일 수 있을 것 같다.\n",
        "# if result == True:\n",
        "#   print(f\"입력된 단어 {input_text}는 회문 입니다.\")\n",
        "# else:\n",
        "#   print(f\"입력된 단어 {input_text}는 회문이 아닙니다.\")\n",
        "\n",
        "#회고\n",
        "#노드를 진행하면서 놓치고 지나간 부분을 강훈님께서 보완을 해주셔서 문제 해결 뿐만 아니라\n",
        "#좀 더 효율적인 코드를 짜보는 연습까지 할 수 있어 만족스러웠다.\n",
        "#퀘스트의 의미를 파악할 수 있게되는 좋은 계기였던 것 같다.\n",
        "#디버깅 - 코드 정리를 위해 함수 정의부의 위치를 수정한 곳에서 에러가 발생\n",
        "#     - 정의부의 위치 수정을 통해 오류 수정 완료\n",
        "#keep: 대화를 하며 차근차근 문제를 분석한다. / 팀원의 제안에 대해 적극적으로 토론한다.\n",
        "#problem: 차근차근 학습을 했다고 생각했는데, 아직 미숙한 부분이 있다.\n",
        "#try: 다음 노드부터는 항목마다 메모와 함께 정리를 하면서 학습을 해야겠다."
      ]
    }
  ]
}