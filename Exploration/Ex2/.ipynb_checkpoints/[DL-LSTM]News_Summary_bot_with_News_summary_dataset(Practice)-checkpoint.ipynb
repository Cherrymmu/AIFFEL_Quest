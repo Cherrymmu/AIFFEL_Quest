{
 "cells": [
  {
   "cell_type": "markdown",
   "source": [
    "## 학습내용\n",
    "---\n",
    "* 1.텍스트 요약(Text Summarization)\n",
    "    * 텍스트 요약 방법인 추출적 요약(Extractive Summarization)과 추상적 요약(Abstractive Summarization)에 대해서 알아봅니다.\n",
    "* 2.인공 신경망으로 텍스트 요약 훈련시키기\n",
    "    * seq2seq 모델에 대한 개요와 구조 그리고 요소들에 대해서 알아봅니다.\n",
    "* 3.데이터 준비하기\n",
    "    * Kaggle에서 제공하는 아마존 리뷰 데이터셋을 다운받고, 데이터를 확인해 봅니다.\n",
    "* 4 ~ 6.데이터 전처리하기\n",
    "    * 불용어 제거, 정규화, 정수인코딩 등의 데이터 전처리 과정을 코드로 구현합니다.\n",
    "* 7.모델 설계하기\n",
    "    * 인코더와 디코더, 어텐셔을 설계하고 코드로 구현합니다.\n",
    "* 8.모델 훈련하기\n",
    "    * EarlyStopping에 대해서 알아보고, 이를 적용하여 모델을 학습합니다.\n",
    "* 9.인퍼런스 모델 구현하기\n",
    "    * 정수 인덱스 행렬로 나온 결과값을 실제 데이터로 복원하는 인퍼런스 모델을 코드로 구현합니다.\n",
    "* 10.모델 테스트하기\n",
    "    * 모델을 통해 얻은 요약문과 실제 요약문을 비교해 봅니다.\n",
    "* 11.추출적 요약 해보기\n",
    "    * summa 패키지를 사용하여 추출적 요약(Extractive Summarization)을 해봅니다.\n",
    "\n",
    "<br>\n",
    "\n",
    "## 학습 목표\n",
    "---\n",
    "* Extractive/Abstractive summarization 이해할 수 있습니다.\n",
    "* 단어장 크기를 줄이는 다양한 text normalization 적용할 수 있습니다.\n",
    "* seq2seq의 성능을 Up시키는 Attention Mechanism 적용할 수 있습니다."
   ],
   "metadata": {
    "collapsed": false
   },
   "id": "a6f19649b5eade4"
  },
  {
   "cell_type": "code",
   "outputs": [
    {
     "name": "stdout",
     "output_type": "stream",
     "text": [
      "complete!\n"
     ]
    },
    {
     "name": "stderr",
     "output_type": "stream",
     "text": [
      "[nltk_data] Downloading package stopwords to\n",
      "[nltk_data]     /Users/leeseonjae/nltk_data...\n",
      "[nltk_data]   Package stopwords is already up-to-date!\n"
     ]
    }
   ],
   "source": [
    "import nltk\n",
    "nltk.download('stopwords')\n",
    "\n",
    "import numpy as np\n",
    "import pandas as pd\n",
    "import os\n",
    "import re\n",
    "import matplotlib.pyplot as plt\n",
    "from nltk.corpus import stopwords\n",
    "from bs4 import BeautifulSoup\n",
    "from tensorflow.keras.preprocessing.text import Tokenizer\n",
    "from tensorflow.keras.preprocessing.sequence import pad_sequences\n",
    "import urllib.request\n",
    "import warnings\n",
    "warnings.filterwarnings(\"ignore\", category=UserWarning, module='bs4')\n",
    "\n",
    "print('complete!')"
   ],
   "metadata": {
    "collapsed": false,
    "ExecuteTime": {
     "end_time": "2024-01-04T12:48:50.105844Z",
     "start_time": "2024-01-04T12:48:50.043604Z"
    }
   },
   "id": "9d8215fc7f5319f2",
   "execution_count": 4
  },
  {
   "cell_type": "code",
   "outputs": [
    {
     "name": "stdout",
     "output_type": "stream",
     "text": [
      "Number of Samples:  100000\n"
     ]
    }
   ],
   "source": [
    "news_data = pd.read_csv(os.getenv(\"HOME\")+\"/git/Aiffel_Quest/Exploration/data/Reviews.csv\", nrows=100000)\n",
    "print('Number of Samples: ', (len(news_data)))"
   ],
   "metadata": {
    "collapsed": false,
    "ExecuteTime": {
     "end_time": "2024-01-04T12:48:51.187953Z",
     "start_time": "2024-01-04T12:48:50.096495Z"
    }
   },
   "id": "ee8a0685a282b09e",
   "execution_count": 5
  },
  {
   "cell_type": "code",
   "outputs": [
    {
     "data": {
      "text/plain": "   Id   ProductId          UserId                      ProfileName  \\\n0   1  B001E4KFG0  A3SGXH7AUHU8GW                       delmartian   \n1   2  B00813GRG4  A1D87F6ZCVE5NK                           dll pa   \n2   3  B000LQOCH0   ABXLMWJIXXAIN  Natalia Corres \"Natalia Corres\"   \n3   4  B000UA0QIQ  A395BORC6FGVXV                             Karl   \n4   5  B006K2ZZ7K  A1UQRSCLF8GW1T    Michael D. Bigham \"M. Wassir\"   \n\n   HelpfulnessNumerator  HelpfulnessDenominator  Score        Time  \\\n0                     1                       1      5  1303862400   \n1                     0                       0      1  1346976000   \n2                     1                       1      4  1219017600   \n3                     3                       3      2  1307923200   \n4                     0                       0      5  1350777600   \n\n                 Summary                                               Text  \n0  Good Quality Dog Food  I have bought several of the Vitality canned d...  \n1      Not as Advertised  Product arrived labeled as Jumbo Salted Peanut...  \n2  \"Delight\" says it all  This is a confection that has been around a fe...  \n3         Cough Medicine  If you are looking for the secret ingredient i...  \n4            Great taffy  Great taffy at a great price.  There was a wid...  ",
      "text/html": "<div>\n<style scoped>\n    .dataframe tbody tr th:only-of-type {\n        vertical-align: middle;\n    }\n\n    .dataframe tbody tr th {\n        vertical-align: top;\n    }\n\n    .dataframe thead th {\n        text-align: right;\n    }\n</style>\n<table border=\"1\" class=\"dataframe\">\n  <thead>\n    <tr style=\"text-align: right;\">\n      <th></th>\n      <th>Id</th>\n      <th>ProductId</th>\n      <th>UserId</th>\n      <th>ProfileName</th>\n      <th>HelpfulnessNumerator</th>\n      <th>HelpfulnessDenominator</th>\n      <th>Score</th>\n      <th>Time</th>\n      <th>Summary</th>\n      <th>Text</th>\n    </tr>\n  </thead>\n  <tbody>\n    <tr>\n      <th>0</th>\n      <td>1</td>\n      <td>B001E4KFG0</td>\n      <td>A3SGXH7AUHU8GW</td>\n      <td>delmartian</td>\n      <td>1</td>\n      <td>1</td>\n      <td>5</td>\n      <td>1303862400</td>\n      <td>Good Quality Dog Food</td>\n      <td>I have bought several of the Vitality canned d...</td>\n    </tr>\n    <tr>\n      <th>1</th>\n      <td>2</td>\n      <td>B00813GRG4</td>\n      <td>A1D87F6ZCVE5NK</td>\n      <td>dll pa</td>\n      <td>0</td>\n      <td>0</td>\n      <td>1</td>\n      <td>1346976000</td>\n      <td>Not as Advertised</td>\n      <td>Product arrived labeled as Jumbo Salted Peanut...</td>\n    </tr>\n    <tr>\n      <th>2</th>\n      <td>3</td>\n      <td>B000LQOCH0</td>\n      <td>ABXLMWJIXXAIN</td>\n      <td>Natalia Corres \"Natalia Corres\"</td>\n      <td>1</td>\n      <td>1</td>\n      <td>4</td>\n      <td>1219017600</td>\n      <td>\"Delight\" says it all</td>\n      <td>This is a confection that has been around a fe...</td>\n    </tr>\n    <tr>\n      <th>3</th>\n      <td>4</td>\n      <td>B000UA0QIQ</td>\n      <td>A395BORC6FGVXV</td>\n      <td>Karl</td>\n      <td>3</td>\n      <td>3</td>\n      <td>2</td>\n      <td>1307923200</td>\n      <td>Cough Medicine</td>\n      <td>If you are looking for the secret ingredient i...</td>\n    </tr>\n    <tr>\n      <th>4</th>\n      <td>5</td>\n      <td>B006K2ZZ7K</td>\n      <td>A1UQRSCLF8GW1T</td>\n      <td>Michael D. Bigham \"M. Wassir\"</td>\n      <td>0</td>\n      <td>0</td>\n      <td>5</td>\n      <td>1350777600</td>\n      <td>Great taffy</td>\n      <td>Great taffy at a great price.  There was a wid...</td>\n    </tr>\n  </tbody>\n</table>\n</div>"
     },
     "execution_count": 6,
     "metadata": {},
     "output_type": "execute_result"
    }
   ],
   "source": [
    "news_data.head()"
   ],
   "metadata": {
    "collapsed": false,
    "ExecuteTime": {
     "end_time": "2024-01-04T12:48:51.236662Z",
     "start_time": "2024-01-04T12:48:51.121907Z"
    }
   },
   "id": "6476539a972710a6",
   "execution_count": 6
  },
  {
   "cell_type": "code",
   "outputs": [
    {
     "data": {
      "text/plain": "                                                    Text  \\\n94558  I purchased this beverage at costco, and took ...   \n18363  Im up early at 5a.m. getting ready for class.....   \n50279  It tastes perfect. I like it.<br />You would \"...   \n80738  I have been using these herbs on everything.  ...   \n30791  Pop Chips are delicious, light and tasty. I bo...   \n20371  My cat is a bit finicky and it takes him time ...   \n40028  In my previous review I gave this 5 stars.  Th...   \n31697  Guys, Walker's is really nice shortbread, clos...   \n19802  We love Happy Baby products - cereals, puffs, ...   \n55149  Thought I would try it given the good reviews....   \n57453  I used to eat this jerky chew all the time as ...   \n74583  Basically just what almonds are supposed to be...   \n89966  There are two components of a review about dog...   \n77709  I like the fact this is an all-natural product...   \n49562  Not really the best tea but not awful either. ...   \n\n                                                 Summary  \n94558          Look out if you are sensitive to caffeine  \n18363  quick and easy to make, very convinient for a ...  \n50279                                    Wonderful Taste  \n80738                                     Great flavor!!  \n30791                                    Tasty and light  \n20371     Excellent cat food, causes enthusiastic eating  \n40028                              Chicken is from China  \n31697                    What's with the PRICE >.&lt; !!  \n19802                             *** CHOKING HAZARD ***  \n55149                                    Cat hated it!!!  \n57453                    Brings back childhood memories!  \n74583                                   What almonds are  \n89966                                       Dogs love it  \n77709                                 good- VERY cherry!  \n49562                                          It's okay  ",
      "text/html": "<div>\n<style scoped>\n    .dataframe tbody tr th:only-of-type {\n        vertical-align: middle;\n    }\n\n    .dataframe tbody tr th {\n        vertical-align: top;\n    }\n\n    .dataframe thead th {\n        text-align: right;\n    }\n</style>\n<table border=\"1\" class=\"dataframe\">\n  <thead>\n    <tr style=\"text-align: right;\">\n      <th></th>\n      <th>Text</th>\n      <th>Summary</th>\n    </tr>\n  </thead>\n  <tbody>\n    <tr>\n      <th>94558</th>\n      <td>I purchased this beverage at costco, and took ...</td>\n      <td>Look out if you are sensitive to caffeine</td>\n    </tr>\n    <tr>\n      <th>18363</th>\n      <td>Im up early at 5a.m. getting ready for class.....</td>\n      <td>quick and easy to make, very convinient for a ...</td>\n    </tr>\n    <tr>\n      <th>50279</th>\n      <td>It tastes perfect. I like it.&lt;br /&gt;You would \"...</td>\n      <td>Wonderful Taste</td>\n    </tr>\n    <tr>\n      <th>80738</th>\n      <td>I have been using these herbs on everything.  ...</td>\n      <td>Great flavor!!</td>\n    </tr>\n    <tr>\n      <th>30791</th>\n      <td>Pop Chips are delicious, light and tasty. I bo...</td>\n      <td>Tasty and light</td>\n    </tr>\n    <tr>\n      <th>20371</th>\n      <td>My cat is a bit finicky and it takes him time ...</td>\n      <td>Excellent cat food, causes enthusiastic eating</td>\n    </tr>\n    <tr>\n      <th>40028</th>\n      <td>In my previous review I gave this 5 stars.  Th...</td>\n      <td>Chicken is from China</td>\n    </tr>\n    <tr>\n      <th>31697</th>\n      <td>Guys, Walker's is really nice shortbread, clos...</td>\n      <td>What's with the PRICE &gt;.&amp;lt; !!</td>\n    </tr>\n    <tr>\n      <th>19802</th>\n      <td>We love Happy Baby products - cereals, puffs, ...</td>\n      <td>*** CHOKING HAZARD ***</td>\n    </tr>\n    <tr>\n      <th>55149</th>\n      <td>Thought I would try it given the good reviews....</td>\n      <td>Cat hated it!!!</td>\n    </tr>\n    <tr>\n      <th>57453</th>\n      <td>I used to eat this jerky chew all the time as ...</td>\n      <td>Brings back childhood memories!</td>\n    </tr>\n    <tr>\n      <th>74583</th>\n      <td>Basically just what almonds are supposed to be...</td>\n      <td>What almonds are</td>\n    </tr>\n    <tr>\n      <th>89966</th>\n      <td>There are two components of a review about dog...</td>\n      <td>Dogs love it</td>\n    </tr>\n    <tr>\n      <th>77709</th>\n      <td>I like the fact this is an all-natural product...</td>\n      <td>good- VERY cherry!</td>\n    </tr>\n    <tr>\n      <th>49562</th>\n      <td>Not really the best tea but not awful either. ...</td>\n      <td>It's okay</td>\n    </tr>\n  </tbody>\n</table>\n</div>"
     },
     "execution_count": 7,
     "metadata": {},
     "output_type": "execute_result"
    }
   ],
   "source": [
    "data = news_data[['Text', 'Summary']]\n",
    "data.head()\n",
    "\n",
    "data.sample(15)"
   ],
   "metadata": {
    "collapsed": false,
    "ExecuteTime": {
     "end_time": "2024-01-04T12:48:51.257917Z",
     "start_time": "2024-01-04T12:48:51.197492Z"
    }
   },
   "id": "f9fdf4578b2c3e4f",
   "execution_count": 7
  },
  {
   "cell_type": "code",
   "outputs": [
    {
     "name": "stdout",
     "output_type": "stream",
     "text": [
      "Number of deduplicated samples at Text column:  88426\n",
      "Number of deduplicated samples at Summary column:  72348\n"
     ]
    }
   ],
   "source": [
    "print('Number of deduplicated samples at Text column: ', data['Text'].nunique())\n",
    "print('Number of deduplicated samples at Summary column: ', data['Summary'].nunique())"
   ],
   "metadata": {
    "collapsed": false,
    "ExecuteTime": {
     "end_time": "2024-01-04T12:48:51.550207Z",
     "start_time": "2024-01-04T12:48:51.222056Z"
    }
   },
   "id": "3e47792b91ba637d",
   "execution_count": 8
  },
  {
   "cell_type": "code",
   "outputs": [
    {
     "name": "stdout",
     "output_type": "stream",
     "text": [
      "Number of samples dropped: 88426\n"
     ]
    },
    {
     "name": "stderr",
     "output_type": "stream",
     "text": [
      "/var/folders/jd/wlq5yr_n4knc0k78z_jdh19m0000gn/T/ipykernel_49261/1029855458.py:1: SettingWithCopyWarning: \n",
      "A value is trying to be set on a copy of a slice from a DataFrame\n",
      "\n",
      "See the caveats in the documentation: https://pandas.pydata.org/pandas-docs/stable/user_guide/indexing.html#returning-a-view-versus-a-copy\n",
      "  data.drop_duplicates(subset = ['Text'], inplace=True)\n"
     ]
    }
   ],
   "source": [
    "data.drop_duplicates(subset = ['Text'], inplace=True)\n",
    "print('Number of samples dropped:', len(data))"
   ],
   "metadata": {
    "collapsed": false,
    "ExecuteTime": {
     "end_time": "2024-01-04T12:48:51.608501Z",
     "start_time": "2024-01-04T12:48:51.573378Z"
    }
   },
   "id": "9b1df1b5544ffd2b",
   "execution_count": 9
  },
  {
   "cell_type": "code",
   "outputs": [
    {
     "name": "stdout",
     "output_type": "stream",
     "text": [
      "Text       0\n",
      "Summary    1\n",
      "dtype: int64\n"
     ]
    }
   ],
   "source": [
    "print(data.isnull().sum())"
   ],
   "metadata": {
    "collapsed": false,
    "ExecuteTime": {
     "end_time": "2024-01-04T12:48:51.715464Z",
     "start_time": "2024-01-04T12:48:51.589152Z"
    }
   },
   "id": "57a08f0444a7e93b",
   "execution_count": 10
  },
  {
   "cell_type": "code",
   "outputs": [
    {
     "name": "stdout",
     "output_type": "stream",
     "text": [
      "Number of samples dropped: 88425\n"
     ]
    },
    {
     "name": "stderr",
     "output_type": "stream",
     "text": [
      "/var/folders/jd/wlq5yr_n4knc0k78z_jdh19m0000gn/T/ipykernel_49261/2576947988.py:1: SettingWithCopyWarning: \n",
      "A value is trying to be set on a copy of a slice from a DataFrame\n",
      "\n",
      "See the caveats in the documentation: https://pandas.pydata.org/pandas-docs/stable/user_guide/indexing.html#returning-a-view-versus-a-copy\n",
      "  data.dropna(axis=0, inplace=True)\n"
     ]
    }
   ],
   "source": [
    "data.dropna(axis=0, inplace=True)\n",
    "print('Number of samples dropped:', (len(data)))"
   ],
   "metadata": {
    "collapsed": false,
    "ExecuteTime": {
     "end_time": "2024-01-04T12:48:51.767976Z",
     "start_time": "2024-01-04T12:48:51.633898Z"
    }
   },
   "id": "45d2f6f37ad04bb0",
   "execution_count": 11
  },
  {
   "cell_type": "code",
   "outputs": [
    {
     "name": "stdout",
     "output_type": "stream",
     "text": [
      "Number of Normalization Dict:  120\n"
     ]
    }
   ],
   "source": [
    "contractions = {\"ain't\": \"is not\", \"aren't\": \"are not\",\"can't\": \"cannot\", \"'cause\": \"because\", \"could've\": \"could have\", \"couldn't\": \"could not\",\n",
    "                \"didn't\": \"did not\",  \"doesn't\": \"does not\", \"don't\": \"do not\", \"hadn't\": \"had not\", \"hasn't\": \"has not\", \"haven't\": \"have not\",\n",
    "                \"he'd\": \"he would\",\"he'll\": \"he will\", \"he's\": \"he is\", \"how'd\": \"how did\", \"how'd'y\": \"how do you\", \"how'll\": \"how will\", \"how's\": \"how is\",\n",
    "                \"I'd\": \"I would\", \"I'd've\": \"I would have\", \"I'll\": \"I will\", \"I'll've\": \"I will have\",\"I'm\": \"I am\", \"I've\": \"I have\", \"i'd\": \"i would\",\n",
    "                \"i'd've\": \"i would have\", \"i'll\": \"i will\",  \"i'll've\": \"i will have\",\"i'm\": \"i am\", \"i've\": \"i have\", \"isn't\": \"is not\", \"it'd\": \"it would\",\n",
    "                \"it'd've\": \"it would have\", \"it'll\": \"it will\", \"it'll've\": \"it will have\",\"it's\": \"it is\", \"let's\": \"let us\", \"ma'am\": \"madam\",\n",
    "                \"mayn't\": \"may not\", \"might've\": \"might have\",\"mightn't\": \"might not\",\"mightn't've\": \"might not have\", \"must've\": \"must have\",\n",
    "                \"mustn't\": \"must not\", \"mustn't've\": \"must not have\", \"needn't\": \"need not\", \"needn't've\": \"need not have\",\"o'clock\": \"of the clock\",\n",
    "                \"oughtn't\": \"ought not\", \"oughtn't've\": \"ought not have\", \"shan't\": \"shall not\", \"sha'n't\": \"shall not\", \"shan't've\": \"shall not have\",\n",
    "                \"she'd\": \"she would\", \"she'd've\": \"she would have\", \"she'll\": \"she will\", \"she'll've\": \"she will have\", \"she's\": \"she is\",\n",
    "                \"should've\": \"should have\", \"shouldn't\": \"should not\", \"shouldn't've\": \"should not have\", \"so've\": \"so have\",\"so's\": \"so as\",\n",
    "                \"this's\": \"this is\",\"that'd\": \"that would\", \"that'd've\": \"that would have\", \"that's\": \"that is\", \"there'd\": \"there would\",\n",
    "                \"there'd've\": \"there would have\", \"there's\": \"there is\", \"here's\": \"here is\",\"they'd\": \"they would\", \"they'd've\": \"they would have\",\n",
    "                \"they'll\": \"they will\", \"they'll've\": \"they will have\", \"they're\": \"they are\", \"they've\": \"they have\", \"to've\": \"to have\",\n",
    "                \"wasn't\": \"was not\", \"we'd\": \"we would\", \"we'd've\": \"we would have\", \"we'll\": \"we will\", \"we'll've\": \"we will have\", \"we're\": \"we are\",\n",
    "                \"we've\": \"we have\", \"weren't\": \"were not\", \"what'll\": \"what will\", \"what'll've\": \"what will have\", \"what're\": \"what are\",\n",
    "                \"what's\": \"what is\", \"what've\": \"what have\", \"when's\": \"when is\", \"when've\": \"when have\", \"where'd\": \"where did\", \"where's\": \"where is\",\n",
    "                \"where've\": \"where have\", \"who'll\": \"who will\", \"who'll've\": \"who will have\", \"who's\": \"who is\", \"who've\": \"who have\",\n",
    "                \"why's\": \"why is\", \"why've\": \"why have\", \"will've\": \"will have\", \"won't\": \"will not\", \"won't've\": \"will not have\",\n",
    "                \"would've\": \"would have\", \"wouldn't\": \"would not\", \"wouldn't've\": \"would not have\", \"y'all\": \"you all\",\n",
    "                \"y'all'd\": \"you all would\",\"y'all'd've\": \"you all would have\",\"y'all're\": \"you all are\",\"y'all've\": \"you all have\",\n",
    "                \"you'd\": \"you would\", \"you'd've\": \"you would have\", \"you'll\": \"you will\", \"you'll've\": \"you will have\",\n",
    "                \"you're\": \"you are\", \"you've\": \"you have\"}\n",
    "\n",
    "print(\"Number of Normalization Dict: \", len(contractions))"
   ],
   "metadata": {
    "collapsed": false,
    "ExecuteTime": {
     "end_time": "2024-01-04T12:48:51.770732Z",
     "start_time": "2024-01-04T12:48:51.681840Z"
    }
   },
   "id": "21aa7b65b54d8aa8",
   "execution_count": 12
  },
  {
   "cell_type": "code",
   "outputs": [
    {
     "name": "stdout",
     "output_type": "stream",
     "text": [
      "Number of stopwords:  179\n",
      "['i', 'me', 'my', 'myself', 'we', 'our', 'ours', 'ourselves', 'you', \"you're\", \"you've\", \"you'll\", \"you'd\", 'your', 'yours', 'yourself', 'yourselves', 'he', 'him', 'his', 'himself', 'she', \"she's\", 'her', 'hers', 'herself', 'it', \"it's\", 'its', 'itself', 'they', 'them', 'their', 'theirs', 'themselves', 'what', 'which', 'who', 'whom', 'this', 'that', \"that'll\", 'these', 'those', 'am', 'is', 'are', 'was', 'were', 'be', 'been', 'being', 'have', 'has', 'had', 'having', 'do', 'does', 'did', 'doing', 'a', 'an', 'the', 'and', 'but', 'if', 'or', 'because', 'as', 'until', 'while', 'of', 'at', 'by', 'for', 'with', 'about', 'against', 'between', 'into', 'through', 'during', 'before', 'after', 'above', 'below', 'to', 'from', 'up', 'down', 'in', 'out', 'on', 'off', 'over', 'under', 'again', 'further', 'then', 'once', 'here', 'there', 'when', 'where', 'why', 'how', 'all', 'any', 'both', 'each', 'few', 'more', 'most', 'other', 'some', 'such', 'no', 'nor', 'not', 'only', 'own', 'same', 'so', 'than', 'too', 'very', 's', 't', 'can', 'will', 'just', 'don', \"don't\", 'should', \"should've\", 'now', 'd', 'll', 'm', 'o', 're', 've', 'y', 'ain', 'aren', \"aren't\", 'couldn', \"couldn't\", 'didn', \"didn't\", 'doesn', \"doesn't\", 'hadn', \"hadn't\", 'hasn', \"hasn't\", 'haven', \"haven't\", 'isn', \"isn't\", 'ma', 'mightn', \"mightn't\", 'mustn', \"mustn't\", 'needn', \"needn't\", 'shan', \"shan't\", 'shouldn', \"shouldn't\", 'wasn', \"wasn't\", 'weren', \"weren't\", 'won', \"won't\", 'wouldn', \"wouldn't\"]\n"
     ]
    }
   ],
   "source": [
    "print(\"Number of stopwords: \", len(stopwords.words(\"english\")))\n",
    "print(stopwords.words(\"english\"))"
   ],
   "metadata": {
    "collapsed": false,
    "ExecuteTime": {
     "end_time": "2024-01-04T12:48:51.809291Z",
     "start_time": "2024-01-04T12:48:51.701315Z"
    }
   },
   "id": "1cb07c8d88c171f6",
   "execution_count": 13
  },
  {
   "cell_type": "code",
   "outputs": [
    {
     "name": "stdout",
     "output_type": "stream",
     "text": [
      "Complete!\n"
     ]
    }
   ],
   "source": [
    "def preprocess_sentence(sentence, remove_stopwords=True):\n",
    "    sentence = sentence.lower() # 텍스트 소문자화\n",
    "    sentence = BeautifulSoup(sentence, \"lxml\").text # <br />, <a href = ...> 등의 html 태그 제거\n",
    "    sentence = re.sub(r'\\([^)]*\\)', '', sentence) # 괄호로 닫힌 문자열 (...) 제거 Ex) my husband (and myself!) for => my husband for\n",
    "    sentence = re.sub('\"','', sentence) # 쌍따옴표 \" 제거\n",
    "    sentence = ' '.join([contractions[t] if t in contractions else t for t in sentence.split(\" \")]) # 약어 정규화\n",
    "    sentence = re.sub(r\"'s\\b\",\"\", sentence) # 소유격 제거. Ex) roland's -> roland\n",
    "    sentence = re.sub(\"[^a-zA-Z]\", \" \", sentence) # 영어 외 문자(숫자, 특수문자 등) 공백으로 변환\n",
    "    sentence = re.sub('[m]{2,}', 'mm', sentence) # m이 3개 이상이면 2개로 변경. Ex) ummmmmmm yeah -> umm yeah\n",
    "\n",
    "    # 불용어 제거 (Text)\n",
    "    if remove_stopwords:\n",
    "        tokens = ' '.join(word for word in sentence.split() if not word in stopwords.words('english') if len(word) > 1)\n",
    "    # 불용어 미제거 (Summary)\n",
    "    else:\n",
    "        tokens = ' '.join(word for word in sentence.split() if len(word) > 1)\n",
    "    return tokens\n",
    "\n",
    "print('Complete!')"
   ],
   "metadata": {
    "collapsed": false,
    "ExecuteTime": {
     "end_time": "2024-01-04T12:48:51.834381Z",
     "start_time": "2024-01-04T12:48:51.734643Z"
    }
   },
   "id": "882772463dc1328f",
   "execution_count": 14
  },
  {
   "cell_type": "code",
   "outputs": [
    {
     "name": "stdout",
     "output_type": "stream",
     "text": [
      "text:  everything bought great infact ordered twice third ordered wasfor mother father\n",
      "summary:  great way to start the day\n"
     ]
    }
   ],
   "source": [
    "temp_text = 'Everything I bought was great, infact I ordered twice and the third ordered was<br />for my mother and father.'\n",
    "temp_summary = 'Great way to start (or finish) the day!!!'\n",
    "\n",
    "print('text: ', preprocess_sentence(temp_text))\n",
    "print('summary: ', preprocess_sentence(temp_summary, False))"
   ],
   "metadata": {
    "collapsed": false,
    "ExecuteTime": {
     "end_time": "2024-01-04T12:48:51.837172Z",
     "start_time": "2024-01-04T12:48:51.743269Z"
    }
   },
   "id": "afb4238788e2a980",
   "execution_count": 15
  },
  {
   "cell_type": "code",
   "outputs": [
    {
     "name": "stderr",
     "output_type": "stream",
     "text": [
      "/var/folders/jd/wlq5yr_n4knc0k78z_jdh19m0000gn/T/ipykernel_49261/522226706.py:3: MarkupResemblesLocatorWarning: The input looks more like a filename than markup. You may want to open this file and pass the filehandle into Beautiful Soup.\n",
      "  sentence = BeautifulSoup(sentence, \"lxml\").text # <br />, <a href = ...> 등의 html 태그 제거\n"
     ]
    },
    {
     "name": "stdout",
     "output_type": "stream",
     "text": [
      "Result of preprocessing:  ['bought several vitality canned dog food products found good quality product looks like stew processed meat smells better labrador finicky appreciates product better', 'product arrived labeled jumbo salted peanuts peanuts actually small sized unsalted sure error vendor intended represent product jumbo', 'confection around centuries light pillowy citrus gelatin nuts case filberts cut tiny squares liberally coated powdered sugar tiny mouthful heaven chewy flavorful highly recommend yummy treat familiar story lewis lion witch wardrobe treat seduces edmund selling brother sisters witch', 'looking secret ingredient robitussin believe found got addition root beer extract ordered made cherry soda flavor medicinal', 'great taffy great price wide assortment yummy taffy delivery quick taffy lover deal']\n"
     ]
    }
   ],
   "source": [
    "clean_text = []\n",
    "\n",
    "for i in data['Text']:\n",
    "    clean_text.append(preprocess_sentence(i))\n",
    "    \n",
    "print('Result of preprocessing: ', clean_text[:5])"
   ],
   "metadata": {
    "collapsed": false,
    "ExecuteTime": {
     "end_time": "2024-01-04T12:55:00.613691Z",
     "start_time": "2024-01-04T12:48:51.752784Z"
    }
   },
   "id": "58d9f9597d4c4b54",
   "execution_count": 16
  },
  {
   "cell_type": "code",
   "outputs": [
    {
     "name": "stderr",
     "output_type": "stream",
     "text": [
      "/var/folders/jd/wlq5yr_n4knc0k78z_jdh19m0000gn/T/ipykernel_49261/522226706.py:3: MarkupResemblesLocatorWarning: The input looks more like a filename than markup. You may want to open this file and pass the filehandle into Beautiful Soup.\n",
      "  sentence = BeautifulSoup(sentence, \"lxml\").text # <br />, <a href = ...> 등의 html 태그 제거\n",
      "/var/folders/jd/wlq5yr_n4knc0k78z_jdh19m0000gn/T/ipykernel_49261/522226706.py:3: MarkupResemblesLocatorWarning: The input looks more like a URL than markup. You may want to use an HTTP client like requests to get the document behind the URL, and feed that document to Beautiful Soup.\n",
      "  sentence = BeautifulSoup(sentence, \"lxml\").text # <br />, <a href = ...> 등의 html 태그 제거\n"
     ]
    },
    {
     "name": "stdout",
     "output_type": "stream",
     "text": [
      "Result of preprocessing:  ['good quality dog food', 'advertised', 'delight says', 'cough medicine', 'great taffy']\n"
     ]
    }
   ],
   "source": [
    "clean_summary = []\n",
    "\n",
    "for i in data['Summary']:\n",
    "    clean_summary.append(preprocess_sentence(i))\n",
    "\n",
    "print('Result of preprocessing: ', clean_summary[:5])"
   ],
   "metadata": {
    "collapsed": false,
    "ExecuteTime": {
     "end_time": "2024-01-04T12:55:18.900467Z",
     "start_time": "2024-01-04T12:55:00.613965Z"
    }
   },
   "id": "86d7abf99b969d02",
   "execution_count": 17
  },
  {
   "cell_type": "code",
   "outputs": [
    {
     "name": "stdout",
     "output_type": "stream",
     "text": [
      "Complete!\n"
     ]
    },
    {
     "name": "stderr",
     "output_type": "stream",
     "text": [
      "/var/folders/jd/wlq5yr_n4knc0k78z_jdh19m0000gn/T/ipykernel_49261/666634697.py:1: SettingWithCopyWarning: \n",
      "A value is trying to be set on a copy of a slice from a DataFrame.\n",
      "Try using .loc[row_indexer,col_indexer] = value instead\n",
      "\n",
      "See the caveats in the documentation: https://pandas.pydata.org/pandas-docs/stable/user_guide/indexing.html#returning-a-view-versus-a-copy\n",
      "  data['Text'] = clean_text\n",
      "/var/folders/jd/wlq5yr_n4knc0k78z_jdh19m0000gn/T/ipykernel_49261/666634697.py:2: SettingWithCopyWarning: \n",
      "A value is trying to be set on a copy of a slice from a DataFrame.\n",
      "Try using .loc[row_indexer,col_indexer] = value instead\n",
      "\n",
      "See the caveats in the documentation: https://pandas.pydata.org/pandas-docs/stable/user_guide/indexing.html#returning-a-view-versus-a-copy\n",
      "  data['Summary'] = clean_summary\n",
      "/var/folders/jd/wlq5yr_n4knc0k78z_jdh19m0000gn/T/ipykernel_49261/666634697.py:4: SettingWithCopyWarning: \n",
      "A value is trying to be set on a copy of a slice from a DataFrame\n",
      "\n",
      "See the caveats in the documentation: https://pandas.pydata.org/pandas-docs/stable/user_guide/indexing.html#returning-a-view-versus-a-copy\n",
      "  data.replace('', np.nan, inplace=True)\n"
     ]
    }
   ],
   "source": [
    "data['Text'] = clean_text\n",
    "data['Summary'] = clean_summary\n",
    "\n",
    "data.replace('', np.nan, inplace=True)\n",
    "print('Complete!')"
   ],
   "metadata": {
    "collapsed": false,
    "ExecuteTime": {
     "end_time": "2024-01-04T12:55:18.941346Z",
     "start_time": "2024-01-04T12:55:18.903339Z"
    }
   },
   "id": "2965383fd987e199",
   "execution_count": 18
  },
  {
   "cell_type": "code",
   "outputs": [
    {
     "data": {
      "text/plain": "Text         0\nSummary    291\ndtype: int64"
     },
     "execution_count": 19,
     "metadata": {},
     "output_type": "execute_result"
    }
   ],
   "source": [
    "data.isnull().sum()"
   ],
   "metadata": {
    "collapsed": false,
    "ExecuteTime": {
     "end_time": "2024-01-04T12:55:18.942517Z",
     "start_time": "2024-01-04T12:55:18.936823Z"
    }
   },
   "id": "cce923d1ada3c857",
   "execution_count": 19
  },
  {
   "cell_type": "code",
   "outputs": [
    {
     "name": "stdout",
     "output_type": "stream",
     "text": [
      "Number of samples:  88134\n"
     ]
    },
    {
     "name": "stderr",
     "output_type": "stream",
     "text": [
      "/var/folders/jd/wlq5yr_n4knc0k78z_jdh19m0000gn/T/ipykernel_49261/1082447412.py:1: SettingWithCopyWarning: \n",
      "A value is trying to be set on a copy of a slice from a DataFrame\n",
      "\n",
      "See the caveats in the documentation: https://pandas.pydata.org/pandas-docs/stable/user_guide/indexing.html#returning-a-view-versus-a-copy\n",
      "  data.dropna(axis=0, inplace=True)\n"
     ]
    }
   ],
   "source": [
    "data.dropna(axis=0, inplace=True)\n",
    "print('Number of samples: ', (len(data)))"
   ],
   "metadata": {
    "collapsed": false,
    "ExecuteTime": {
     "end_time": "2024-01-04T12:55:18.956138Z",
     "start_time": "2024-01-04T12:55:18.938755Z"
    }
   },
   "id": "a31e753b57dda0c",
   "execution_count": 20
  },
  {
   "cell_type": "code",
   "outputs": [
    {
     "name": "stdout",
     "output_type": "stream",
     "text": [
      "텍스트의 최소 길이 : 2\n",
      "텍스트의 최대 길이 : 1235\n",
      "텍스트의 평균 길이 : 38.796627862119045\n",
      "요약의 최소 길이 : 1\n",
      "요약의 최대 길이 : 16\n",
      "요약의 평균 길이 : 2.871922300133887\n"
     ]
    },
    {
     "data": {
      "text/plain": "<Figure size 640x480 with 2 Axes>",
      "image/png": "[encoded data removed]"
     },
     "metadata": {},
     "output_type": "display_data"
    },
    {
     "data": {
      "text/plain": "<Figure size 640x480 with 1 Axes>",
      "image/png": "[encoded data removed]"
     },
     "metadata": {},
     "output_type": "display_data"
    },
    {
     "data": {
      "text/plain": "<Figure size 640x480 with 1 Axes>",
      "image/png": "[encoded data removed]"
     },
     "metadata": {},
     "output_type": "display_data"
    }
   ],
   "source": [
    "import matplotlib.pyplot as plt\n",
    "\n",
    "text_len = [len(s.split()) for s in data['Text']]\n",
    "summary_len = [len(s.split()) for s in data['Summary']]\n",
    "\n",
    "print('텍스트의 최소 길이 : {}'.format(np.min(text_len)))\n",
    "print('텍스트의 최대 길이 : {}'.format(np.max(text_len)))\n",
    "print('텍스트의 평균 길이 : {}'.format(np.mean(text_len)))\n",
    "print('요약의 최소 길이 : {}'.format(np.min(summary_len)))\n",
    "print('요약의 최대 길이 : {}'.format(np.max(summary_len)))\n",
    "print('요약의 평균 길이 : {}'.format(np.mean(summary_len)))\n",
    "\n",
    "plt.subplot(1,2,1)\n",
    "plt.boxplot(text_len)\n",
    "plt.title('Text')\n",
    "plt.subplot(1,2,2)\n",
    "plt.boxplot(summary_len)\n",
    "plt.title('Summary')\n",
    "plt.tight_layout()\n",
    "plt.show()\n",
    "\n",
    "plt.title('Text')\n",
    "plt.hist(text_len, bins = 40)\n",
    "plt.xlabel('length of samples')\n",
    "plt.ylabel('number of samples')\n",
    "plt.show()\n",
    "\n",
    "plt.title('Summary')\n",
    "plt.hist(summary_len, bins = 40)\n",
    "plt.xlabel('length of samples')\n",
    "plt.ylabel('number of samples')\n",
    "plt.show()"
   ],
   "metadata": {
    "collapsed": false,
    "ExecuteTime": {
     "end_time": "2024-01-04T12:55:19.802046Z",
     "start_time": "2024-01-04T12:55:19.018633Z"
    }
   },
   "id": "961c43de3bfb44a2",
   "execution_count": 21
  },
  {
   "cell_type": "code",
   "outputs": [
    {
     "name": "stdout",
     "output_type": "stream",
     "text": [
      "Complete!\n"
     ]
    }
   ],
   "source": [
    "text_max_len = 50\n",
    "summary_max_len = 8\n",
    "print('Complete!')"
   ],
   "metadata": {
    "collapsed": false,
    "ExecuteTime": {
     "end_time": "2024-01-04T12:55:19.810527Z",
     "start_time": "2024-01-04T12:55:19.794329Z"
    }
   },
   "id": "a1f0dd07f051c406",
   "execution_count": 22
  },
  {
   "cell_type": "code",
   "outputs": [
    {
     "name": "stdout",
     "output_type": "stream",
     "text": [
      "Complete!\n"
     ]
    }
   ],
   "source": [
    "def below_threshold_len(max_len, nested_list):\n",
    "    cnt = 0\n",
    "    for s in nested_list:\n",
    "        if(len(s.split()) <= max_len):\n",
    "            cnt = cnt + 1\n",
    "    print('Rate of samples length is under %s among all samples: %s'%(max_len, (cnt / len(nested_list))))\n",
    "print('Complete!')"
   ],
   "metadata": {
    "collapsed": false,
    "ExecuteTime": {
     "end_time": "2024-01-04T12:55:19.918935Z",
     "start_time": "2024-01-04T12:55:19.805513Z"
    }
   },
   "id": "3b05fbc1d0e6c9cd",
   "execution_count": 23
  },
  {
   "cell_type": "code",
   "outputs": [
    {
     "name": "stdout",
     "output_type": "stream",
     "text": [
      "Rate of samples length is under 50 among all samples: 0.7745478475957065\n",
      "Rate of samples length is under 8 among all samples: 0.9944289377538748\n"
     ]
    }
   ],
   "source": [
    "below_threshold_len(text_max_len, data['Text'])\n",
    "below_threshold_len(summary_max_len,  data['Summary'])"
   ],
   "metadata": {
    "collapsed": false,
    "ExecuteTime": {
     "end_time": "2024-01-04T12:55:20.038345Z",
     "start_time": "2024-01-04T12:55:19.857899Z"
    }
   },
   "id": "b99a774c4fc85ade",
   "execution_count": 24
  },
  {
   "cell_type": "code",
   "outputs": [
    {
     "name": "stderr",
     "output_type": "stream",
     "text": [
      "/var/folders/jd/wlq5yr_n4knc0k78z_jdh19m0000gn/T/ipykernel_49261/2431197741.py:1: SettingWithCopyWarning: \n",
      "A value is trying to be set on a copy of a slice from a DataFrame.\n",
      "Try using .loc[row_indexer,col_indexer] = value instead\n",
      "\n",
      "See the caveats in the documentation: https://pandas.pydata.org/pandas-docs/stable/user_guide/indexing.html#returning-a-view-versus-a-copy\n",
      "  data['Text'] = data['Text'].apply(lambda x: x if len(x.split()) <= text_max_len else '')\n",
      "/var/folders/jd/wlq5yr_n4knc0k78z_jdh19m0000gn/T/ipykernel_49261/2431197741.py:2: SettingWithCopyWarning: \n",
      "A value is trying to be set on a copy of a slice from a DataFrame.\n",
      "Try using .loc[row_indexer,col_indexer] = value instead\n",
      "\n",
      "See the caveats in the documentation: https://pandas.pydata.org/pandas-docs/stable/user_guide/indexing.html#returning-a-view-versus-a-copy\n",
      "  data['Summary'] = data['Summary'].apply(lambda x: x if len(x.split()) <= summary_max_len else '')\n"
     ]
    }
   ],
   "source": [
    "data['Text'] = data['Text'].apply(lambda x: x if len(x.split()) <= text_max_len else '')\n",
    "data['Summary'] = data['Summary'].apply(lambda x: x if len(x.split()) <= summary_max_len else '')\n",
    "\n",
    "data = data.replace('', np.nan)\n",
    "data.dropna(axis=0, inplace=True)"
   ],
   "metadata": {
    "collapsed": false,
    "ExecuteTime": {
     "end_time": "2024-01-04T12:55:20.207942Z",
     "start_time": "2024-01-04T12:55:20.075533Z"
    }
   },
   "id": "5913a1599c10f07",
   "execution_count": 25
  },
  {
   "cell_type": "code",
   "outputs": [
    {
     "name": "stdout",
     "output_type": "stream",
     "text": [
      "텍스트의 최대 길이 : 50\n"
     ]
    }
   ],
   "source": [
    "print('텍스트의 최대 길이 : {}'.format(np.max([len(s.split()) for s in data['Text']])))"
   ],
   "metadata": {
    "collapsed": false,
    "ExecuteTime": {
     "end_time": "2024-01-04T12:55:20.271292Z",
     "start_time": "2024-01-04T12:55:20.237349Z"
    }
   },
   "id": "7f753b9a02e4312a",
   "execution_count": 26
  },
  {
   "cell_type": "code",
   "outputs": [
    {
     "name": "stdout",
     "output_type": "stream",
     "text": [
      "Number of samples in:  68052\n"
     ]
    }
   ],
   "source": [
    "print('Number of samples in: ', (len(data)))"
   ],
   "metadata": {
    "collapsed": false,
    "ExecuteTime": {
     "end_time": "2024-01-04T12:55:20.273182Z",
     "start_time": "2024-01-04T12:55:20.271179Z"
    }
   },
   "id": "3d265d6b7f5fc7e6",
   "execution_count": 27
  },
  {
   "cell_type": "code",
   "outputs": [
    {
     "data": {
      "text/plain": "                                                    Text  \\\n0      bought several vitality canned dog food produc...   \n1      product arrived labeled jumbo salted peanuts p...   \n2      confection around centuries light pillowy citr...   \n3      looking secret ingredient robitussin believe f...   \n4      great taffy great price wide assortment yummy ...   \n...                                                  ...   \n99993  stuff awesome best flavor boil water drain wat...   \n99994               love noodle little spicy wife perfct   \n99995                 love buy another box done last one   \n99997  favorite brand korean ramen spicy used eating ...   \n99998  like noodles although say spicy somewhat under...   \n\n                     Summary                   decoder_input  \\\n0      good quality dog food  sostoken good quality dog food   \n1                 advertised             sostoken advertised   \n2               delight says           sostoken delight says   \n3             cough medicine         sostoken cough medicine   \n4                great taffy            sostoken great taffy   \n...                      ...                             ...   \n99993            great stuff            sostoken great stuff   \n99994             good stuff             sostoken good stuff   \n99995                  yummy                  sostoken yummy   \n99997            great ramen            sostoken great ramen   \n99998                  spicy                  sostoken spicy   \n\n                       decoder_target  \n0      good quality dog food eostoken  \n1                 advertised eostoken  \n2               delight says eostoken  \n3             cough medicine eostoken  \n4                great taffy eostoken  \n...                               ...  \n99993            great stuff eostoken  \n99994             good stuff eostoken  \n99995                  yummy eostoken  \n99997            great ramen eostoken  \n99998                  spicy eostoken  \n\n[68052 rows x 4 columns]",
      "text/html": "<div>\n<style scoped>\n    .dataframe tbody tr th:only-of-type {\n        vertical-align: middle;\n    }\n\n    .dataframe tbody tr th {\n        vertical-align: top;\n    }\n\n    .dataframe thead th {\n        text-align: right;\n    }\n</style>\n<table border=\"1\" class=\"dataframe\">\n  <thead>\n    <tr style=\"text-align: right;\">\n      <th></th>\n      <th>Text</th>\n      <th>Summary</th>\n      <th>decoder_input</th>\n      <th>decoder_target</th>\n    </tr>\n  </thead>\n  <tbody>\n    <tr>\n      <th>0</th>\n      <td>bought several vitality canned dog food produc...</td>\n      <td>good quality dog food</td>\n      <td>sostoken good quality dog food</td>\n      <td>good quality dog food eostoken</td>\n    </tr>\n    <tr>\n      <th>1</th>\n      <td>product arrived labeled jumbo salted peanuts p...</td>\n      <td>advertised</td>\n      <td>sostoken advertised</td>\n      <td>advertised eostoken</td>\n    </tr>\n    <tr>\n      <th>2</th>\n      <td>confection around centuries light pillowy citr...</td>\n      <td>delight says</td>\n      <td>sostoken delight says</td>\n      <td>delight says eostoken</td>\n    </tr>\n    <tr>\n      <th>3</th>\n      <td>looking secret ingredient robitussin believe f...</td>\n      <td>cough medicine</td>\n      <td>sostoken cough medicine</td>\n      <td>cough medicine eostoken</td>\n    </tr>\n    <tr>\n      <th>4</th>\n      <td>great taffy great price wide assortment yummy ...</td>\n      <td>great taffy</td>\n      <td>sostoken great taffy</td>\n      <td>great taffy eostoken</td>\n    </tr>\n    <tr>\n      <th>...</th>\n      <td>...</td>\n      <td>...</td>\n      <td>...</td>\n      <td>...</td>\n    </tr>\n    <tr>\n      <th>99993</th>\n      <td>stuff awesome best flavor boil water drain wat...</td>\n      <td>great stuff</td>\n      <td>sostoken great stuff</td>\n      <td>great stuff eostoken</td>\n    </tr>\n    <tr>\n      <th>99994</th>\n      <td>love noodle little spicy wife perfct</td>\n      <td>good stuff</td>\n      <td>sostoken good stuff</td>\n      <td>good stuff eostoken</td>\n    </tr>\n    <tr>\n      <th>99995</th>\n      <td>love buy another box done last one</td>\n      <td>yummy</td>\n      <td>sostoken yummy</td>\n      <td>yummy eostoken</td>\n    </tr>\n    <tr>\n      <th>99997</th>\n      <td>favorite brand korean ramen spicy used eating ...</td>\n      <td>great ramen</td>\n      <td>sostoken great ramen</td>\n      <td>great ramen eostoken</td>\n    </tr>\n    <tr>\n      <th>99998</th>\n      <td>like noodles although say spicy somewhat under...</td>\n      <td>spicy</td>\n      <td>sostoken spicy</td>\n      <td>spicy eostoken</td>\n    </tr>\n  </tbody>\n</table>\n<p>68052 rows × 4 columns</p>\n</div>"
     },
     "execution_count": 28,
     "metadata": {},
     "output_type": "execute_result"
    }
   ],
   "source": [
    "data['decoder_input'] = data['Summary'].fillna('').apply(lambda x : 'sostoken '+ x)\n",
    "data['decoder_target'] = data['Summary'].fillna('').apply(lambda x : x + ' eostoken')\n",
    "\n",
    "data"
   ],
   "metadata": {
    "collapsed": false,
    "ExecuteTime": {
     "end_time": "2024-01-04T12:55:20.315633Z",
     "start_time": "2024-01-04T12:55:20.278810Z"
    }
   },
   "id": "d84d108d555df9f1",
   "execution_count": 28
  },
  {
   "cell_type": "code",
   "outputs": [
    {
     "name": "stdout",
     "output_type": "stream",
     "text": [
      "Complete!\n"
     ]
    }
   ],
   "source": [
    "encoder_input = np.array(data['Text'])\n",
    "decoder_input = np.array(data['decoder_input'])\n",
    "decoder_target = np.array(data['decoder_target'])\n",
    "\n",
    "print('Complete!')"
   ],
   "metadata": {
    "collapsed": false,
    "ExecuteTime": {
     "end_time": "2024-01-04T12:55:20.316946Z",
     "start_time": "2024-01-04T12:55:20.308946Z"
    }
   },
   "id": "b513d806c5e83226",
   "execution_count": 29
  },
  {
   "cell_type": "code",
   "outputs": [
    {
     "name": "stdout",
     "output_type": "stream",
     "text": [
      "[45206 19952 19905 ...  8061 67260 48156]\n"
     ]
    }
   ],
   "source": [
    "indices = np.arange(encoder_input.shape[0])\n",
    "np.random.shuffle(indices)\n",
    "print(indices)"
   ],
   "metadata": {
    "collapsed": false,
    "ExecuteTime": {
     "end_time": "2024-01-04T12:55:20.328502Z",
     "start_time": "2024-01-04T12:55:20.314566Z"
    }
   },
   "id": "3bb8aed7ef33c98d",
   "execution_count": 30
  },
  {
   "cell_type": "code",
   "outputs": [],
   "source": [
    "encoder_input = encoder_input[indices]\n",
    "decoder_input = decoder_input[indices]\n",
    "decoder_target = decoder_target[indices]"
   ],
   "metadata": {
    "collapsed": false,
    "ExecuteTime": {
     "end_time": "2024-01-04T12:55:20.331661Z",
     "start_time": "2024-01-04T12:55:20.318828Z"
    }
   },
   "id": "aad1ab966a088e54",
   "execution_count": 31
  },
  {
   "cell_type": "code",
   "outputs": [
    {
     "name": "stdout",
     "output_type": "stream",
     "text": [
      "Number of validation data:  13610\n"
     ]
    }
   ],
   "source": [
    "n_of_val = int(len(encoder_input)*0.2)\n",
    "print('Number of validation data: ', n_of_val)"
   ],
   "metadata": {
    "collapsed": false,
    "ExecuteTime": {
     "end_time": "2024-01-04T12:55:20.356489Z",
     "start_time": "2024-01-04T12:55:20.329297Z"
    }
   },
   "id": "eb65c6b2f4a0aad5",
   "execution_count": 32
  },
  {
   "cell_type": "code",
   "outputs": [
    {
     "name": "stdout",
     "output_type": "stream",
     "text": [
      "Number of training data:  54442\n",
      "Number of training label:  54442\n",
      "Number of validation data:  13610\n",
      "Number of validation label:  13610\n"
     ]
    }
   ],
   "source": [
    "encoder_input_train = encoder_input[:-n_of_val]\n",
    "decoder_input_train = decoder_input[:-n_of_val]\n",
    "decoder_target_train = decoder_target[:-n_of_val]\n",
    "\n",
    "encoder_input_test = encoder_input[-n_of_val:]\n",
    "decoder_input_test = decoder_input[-n_of_val:]\n",
    "decoder_target_test = decoder_target[-n_of_val:]\n",
    "\n",
    "print('Number of training data: ', len(encoder_input_train))\n",
    "print('Number of training label: ', len(decoder_input_train))\n",
    "print('Number of validation data: ', len(encoder_input_test))\n",
    "print('Number of validation label: ', len(decoder_input_test))"
   ],
   "metadata": {
    "collapsed": false,
    "ExecuteTime": {
     "end_time": "2024-01-04T12:55:20.358599Z",
     "start_time": "2024-01-04T12:55:20.331566Z"
    }
   },
   "id": "fadb8f6da7d59131",
   "execution_count": 33
  },
  {
   "cell_type": "code",
   "outputs": [],
   "source": [
    "src_tokenizer = Tokenizer()\n",
    "src_tokenizer.fit_on_texts(encoder_input_train)"
   ],
   "metadata": {
    "collapsed": false,
    "ExecuteTime": {
     "end_time": "2024-01-04T13:16:00.889672Z",
     "start_time": "2024-01-04T13:16:00.225428Z"
    }
   },
   "id": "fdbda80adb86bde2",
   "execution_count": 36
  },
  {
   "cell_type": "code",
   "outputs": [
    {
     "name": "stdout",
     "output_type": "stream",
     "text": [
      "단어 집합(vocabulary)의 크기 : 32798\n",
      "등장 빈도가 6번 이하인 희귀 단어의 수: 24365\n",
      "단어 집합에서 희귀 단어를 제외시킬 경우의 단어 집합의 크기 8433\n",
      "단어 집합에서 희귀 단어의 비율: 74.28806634550888\n",
      "전체 등장 빈도에서 희귀 단어 등장 빈도 비율: 3.3251700680272114\n"
     ]
    }
   ],
   "source": [
    "threshold = 7\n",
    "total_cnt = len(src_tokenizer.word_index)\n",
    "rare_cnt = 0\n",
    "total_freq = 0\n",
    "rare_freq = 0\n",
    "\n",
    "for  key, value in src_tokenizer.word_counts.items():\n",
    "    total_freq += value\n",
    "    \n",
    "    if(value < threshold):\n",
    "        rare_cnt += 1\n",
    "        rare_freq += value\n",
    "\n",
    "print('단어 집합(vocabulary)의 크기 :', total_cnt)\n",
    "print('등장 빈도가 %s번 이하인 희귀 단어의 수: %s'%(threshold - 1, rare_cnt))\n",
    "print('단어 집합에서 희귀 단어를 제외시킬 경우의 단어 집합의 크기 %s'%(total_cnt - rare_cnt))\n",
    "print(\"단어 집합에서 희귀 단어의 비율:\", (rare_cnt / total_cnt)*100)\n",
    "print(\"전체 등장 빈도에서 희귀 단어 등장 빈도 비율:\", (rare_freq / total_freq)*100)"
   ],
   "metadata": {
    "collapsed": false,
    "ExecuteTime": {
     "end_time": "2024-01-04T13:22:10.320831Z",
     "start_time": "2024-01-04T13:22:10.298673Z"
    }
   },
   "id": "80e33e84b9690a03",
   "execution_count": 37
  },
  {
   "cell_type": "code",
   "outputs": [],
   "source": [
    "src_vocab = 8000\n",
    "src_tokenizer = Tokenizer(num_words=src_vocab)\n",
    "src_tokenizer.fit_on_texts(encoder_input_train)"
   ],
   "metadata": {
    "collapsed": false,
    "ExecuteTime": {
     "end_time": "2024-01-04T13:24:11.202240Z",
     "start_time": "2024-01-04T13:24:10.440416Z"
    }
   },
   "id": "a2b351b685ce63e",
   "execution_count": 39
  },
  {
   "cell_type": "code",
   "outputs": [
    {
     "ename": "AttributeError",
     "evalue": "'int' object has no attribute 'lower'",
     "output_type": "error",
     "traceback": [
      "\u001B[0;31m---------------------------------------------------------------------------\u001B[0m",
      "\u001B[0;31mAttributeError\u001B[0m                            Traceback (most recent call last)",
      "Cell \u001B[0;32mIn[42], line 2\u001B[0m\n\u001B[1;32m      1\u001B[0m \u001B[38;5;66;03m# 텍스트 시퀀스를 정수 시퀀스로 변환\u001B[39;00m\n\u001B[0;32m----> 2\u001B[0m encoder_input_train \u001B[38;5;241m=\u001B[39m src_tokenizer\u001B[38;5;241m.\u001B[39mtexts_to_sequences(encoder_input_train)\n\u001B[1;32m      3\u001B[0m encoder_input_test \u001B[38;5;241m=\u001B[39m src_tokenizer\u001B[38;5;241m.\u001B[39mtexts_to_sequences(encoder_input_test)\n\u001B[1;32m      5\u001B[0m \u001B[38;5;66;03m# 잘 진행되었는지 샘플 출력\u001B[39;00m\n",
      "File \u001B[0;32m~/anaconda3/lib/python3.11/site-packages/keras/src/preprocessing/text.py:357\u001B[0m, in \u001B[0;36mTokenizer.texts_to_sequences\u001B[0;34m(self, texts)\u001B[0m\n\u001B[1;32m    345\u001B[0m \u001B[38;5;28;01mdef\u001B[39;00m \u001B[38;5;21mtexts_to_sequences\u001B[39m(\u001B[38;5;28mself\u001B[39m, texts):\n\u001B[1;32m    346\u001B[0m \u001B[38;5;250m    \u001B[39m\u001B[38;5;124;03m\"\"\"Transforms each text in texts to a sequence of integers.\u001B[39;00m\n\u001B[1;32m    347\u001B[0m \n\u001B[1;32m    348\u001B[0m \u001B[38;5;124;03m    Only top `num_words-1` most frequent words will be taken into account.\u001B[39;00m\n\u001B[0;32m   (...)\u001B[0m\n\u001B[1;32m    355\u001B[0m \u001B[38;5;124;03m        A list of sequences.\u001B[39;00m\n\u001B[1;32m    356\u001B[0m \u001B[38;5;124;03m    \"\"\"\u001B[39;00m\n\u001B[0;32m--> 357\u001B[0m     \u001B[38;5;28;01mreturn\u001B[39;00m \u001B[38;5;28mlist\u001B[39m(\u001B[38;5;28mself\u001B[39m\u001B[38;5;241m.\u001B[39mtexts_to_sequences_generator(texts))\n",
      "File \u001B[0;32m~/anaconda3/lib/python3.11/site-packages/keras/src/preprocessing/text.py:380\u001B[0m, in \u001B[0;36mTokenizer.texts_to_sequences_generator\u001B[0;34m(self, texts)\u001B[0m\n\u001B[1;32m    378\u001B[0m \u001B[38;5;28;01mif\u001B[39;00m \u001B[38;5;28mself\u001B[39m\u001B[38;5;241m.\u001B[39mlower:\n\u001B[1;32m    379\u001B[0m     \u001B[38;5;28;01mif\u001B[39;00m \u001B[38;5;28misinstance\u001B[39m(text, \u001B[38;5;28mlist\u001B[39m):\n\u001B[0;32m--> 380\u001B[0m         text \u001B[38;5;241m=\u001B[39m [text_elem\u001B[38;5;241m.\u001B[39mlower() \u001B[38;5;28;01mfor\u001B[39;00m text_elem \u001B[38;5;129;01min\u001B[39;00m text]\n\u001B[1;32m    381\u001B[0m     \u001B[38;5;28;01melse\u001B[39;00m:\n\u001B[1;32m    382\u001B[0m         text \u001B[38;5;241m=\u001B[39m text\u001B[38;5;241m.\u001B[39mlower()\n",
      "File \u001B[0;32m~/anaconda3/lib/python3.11/site-packages/keras/src/preprocessing/text.py:380\u001B[0m, in \u001B[0;36m<listcomp>\u001B[0;34m(.0)\u001B[0m\n\u001B[1;32m    378\u001B[0m \u001B[38;5;28;01mif\u001B[39;00m \u001B[38;5;28mself\u001B[39m\u001B[38;5;241m.\u001B[39mlower:\n\u001B[1;32m    379\u001B[0m     \u001B[38;5;28;01mif\u001B[39;00m \u001B[38;5;28misinstance\u001B[39m(text, \u001B[38;5;28mlist\u001B[39m):\n\u001B[0;32m--> 380\u001B[0m         text \u001B[38;5;241m=\u001B[39m [text_elem\u001B[38;5;241m.\u001B[39mlower() \u001B[38;5;28;01mfor\u001B[39;00m text_elem \u001B[38;5;129;01min\u001B[39;00m text]\n\u001B[1;32m    381\u001B[0m     \u001B[38;5;28;01melse\u001B[39;00m:\n\u001B[1;32m    382\u001B[0m         text \u001B[38;5;241m=\u001B[39m text\u001B[38;5;241m.\u001B[39mlower()\n",
      "\u001B[0;31mAttributeError\u001B[0m: 'int' object has no attribute 'lower'"
     ]
    }
   ],
   "source": [
    "encoder_input_train = src_tokenizer.texts_to_sequences(encoder_input_train)\n",
    "encoder_input_test = src_tokenizer.texts_to_sequences(encoder_input_test)"
   ],
   "metadata": {
    "collapsed": false,
    "ExecuteTime": {
     "end_time": "2024-01-04T13:25:17.974794Z",
     "start_time": "2024-01-04T13:25:17.939631Z"
    }
   },
   "id": "b3d45d47446f9d2f",
   "execution_count": 42
  },
  {
   "cell_type": "code",
   "outputs": [
    {
     "name": "stdout",
     "output_type": "stream",
     "text": [
      "[[309, 536, 1227, 2325, 902, 566, 2693, 4490, 500, 536, 309, 38, 144, 2041, 2041, 276, 1175, 5790, 24, 2489, 536, 309, 1100, 187, 2693, 282, 2041, 3548, 99, 110, 91, 309, 592, 133, 2, 141], [572, 632, 100, 464, 1278, 3611, 105, 164, 51, 132, 194, 428, 291, 1753, 97, 211, 542, 718, 1729, 641, 611, 289, 593, 292, 212, 22, 356, 108, 1058, 352, 3053, 7001], [24, 11, 575, 5226, 1839, 474, 351, 7856, 3, 5, 57, 2887, 5072, 1742, 251, 1139, 11, 547, 350, 3, 26, 537, 2490, 994, 232, 4491, 277, 11, 100]]\n"
     ]
    }
   ],
   "source": [
    "print(encoder_input_train[:3])"
   ],
   "metadata": {
    "collapsed": false,
    "ExecuteTime": {
     "end_time": "2024-01-04T13:26:33.122559Z",
     "start_time": "2024-01-04T13:26:33.100918Z"
    }
   },
   "id": "7ddaccc555d12dc9",
   "execution_count": 43
  },
  {
   "cell_type": "code",
   "outputs": [],
   "source": [
    "tar_tokenizer = Tokenizer()\n",
    "tar_tokenizer.fit_on_texts(decoder_input_train)"
   ],
   "metadata": {
    "collapsed": false,
    "ExecuteTime": {
     "end_time": "2024-01-04T13:27:20.989489Z",
     "start_time": "2024-01-04T13:27:20.830617Z"
    }
   },
   "id": "8af3e45cfe788bd0",
   "execution_count": 44
  },
  {
   "cell_type": "code",
   "outputs": [
    {
     "name": "stdout",
     "output_type": "stream",
     "text": [
      "단어 집합(vocabulary)의 크기 : 10813\n",
      "등장 빈도가 5번 이하인 희귀 단어의 수: 8398\n",
      "단어 집합에서 희귀 단어를 제외시킬 경우의 단어 집합의 크기 2415\n",
      "단어 집합에서 희귀 단어의 비율: 77.66577268103208\n",
      "전체 등장 빈도에서 희귀 단어 등장 빈도 비율: 7.07905639299258\n"
     ]
    }
   ],
   "source": [
    "threshold = 6\n",
    "total_cnt = len(tar_tokenizer.word_index) # 단어의 수\n",
    "rare_cnt = 0 # 등장 빈도수가 threshold보다 작은 단어의 개수를 카운트\n",
    "total_freq = 0 # 훈련 데이터의 전체 단어 빈도수 총 합\n",
    "rare_freq = 0 # 등장 빈도수가 threshold보다 작은 단어의 등장 빈도수의 총 합\n",
    "\n",
    "# 단어와 빈도수의 쌍(pair)을 key와 value로 받는다.\n",
    "for key, value in tar_tokenizer.word_counts.items():\n",
    "    total_freq = total_freq + value\n",
    "\n",
    "    # 단어의 등장 빈도수가 threshold보다 작으면\n",
    "    if(value < threshold):\n",
    "        rare_cnt = rare_cnt + 1\n",
    "        rare_freq = rare_freq + value\n",
    "\n",
    "print('단어 집합(vocabulary)의 크기 :', total_cnt)\n",
    "print('등장 빈도가 %s번 이하인 희귀 단어의 수: %s'%(threshold - 1, rare_cnt))\n",
    "print('단어 집합에서 희귀 단어를 제외시킬 경우의 단어 집합의 크기 %s'%(total_cnt - rare_cnt))\n",
    "print(\"단어 집합에서 희귀 단어의 비율:\", (rare_cnt / total_cnt)*100)\n",
    "print(\"전체 등장 빈도에서 희귀 단어 등장 빈도 비율:\", (rare_freq / total_freq)*100)"
   ],
   "metadata": {
    "collapsed": false,
    "ExecuteTime": {
     "end_time": "2024-01-04T13:28:06.178588Z",
     "start_time": "2024-01-04T13:28:06.153310Z"
    }
   },
   "id": "c8ddb4f25702e80f",
   "execution_count": 45
  },
  {
   "cell_type": "code",
   "outputs": [
    {
     "name": "stdout",
     "output_type": "stream",
     "text": [
      "input\n",
      "input  [[1, 230, 104, 113], [1, 253], [1, 73, 360], [1, 6, 53, 31, 597], [1, 4, 1982, 1542]]\n",
      "target\n",
      "decoder  [[230, 104, 113, 2], [253, 2], [73, 360, 2], [6, 53, 31, 597, 2], [4, 1982, 1542, 2]]\n"
     ]
    }
   ],
   "source": [
    "tar_vocab = 2000\n",
    "tar_tokenizer = Tokenizer(num_words=tar_vocab)\n",
    "tar_tokenizer.fit_on_texts(decoder_input_train)\n",
    "tar_tokenizer.fit_on_texts(decoder_target_train)\n",
    "\n",
    "# 텍스트 시퀀스를 정수 시퀀스로 변환\n",
    "decoder_input_train = tar_tokenizer.texts_to_sequences(decoder_input_train)\n",
    "decoder_target_train = tar_tokenizer.texts_to_sequences(decoder_target_train)\n",
    "decoder_input_test = tar_tokenizer.texts_to_sequences(decoder_input_test)\n",
    "decoder_target_test = tar_tokenizer.texts_to_sequences(decoder_target_test)\n",
    "\n",
    "# 잘 변환되었는지 확인\n",
    "print('input')\n",
    "print('input ',decoder_input_train[:5])\n",
    "print('target')\n",
    "print('decoder ',decoder_target_train[:5])"
   ],
   "metadata": {
    "collapsed": false,
    "ExecuteTime": {
     "end_time": "2024-01-04T13:28:40.418231Z",
     "start_time": "2024-01-04T13:28:39.198626Z"
    }
   },
   "id": "2aa707fedc61f9d9",
   "execution_count": 46
  },
  {
   "cell_type": "code",
   "outputs": [
    {
     "name": "stdout",
     "output_type": "stream",
     "text": [
      "삭제할 훈련 데이터의 개수 : 1693\n",
      "삭제할 테스트 데이터의 개수 : 463\n",
      "훈련 데이터의 개수 : 52749\n",
      "훈련 레이블의 개수 : 52749\n",
      "테스트 데이터의 개수 : 13147\n",
      "테스트 레이블의 개수 : 13147\n"
     ]
    }
   ],
   "source": [
    "drop_train = [index for index, sentence in enumerate(decoder_input_train) if len(sentence) == 1]\n",
    "drop_test = [index for index, sentence in enumerate(decoder_input_test) if len(sentence) == 1]\n",
    "\n",
    "print('삭제할 훈련 데이터의 개수 :', len(drop_train))\n",
    "print('삭제할 테스트 데이터의 개수 :', len(drop_test))\n",
    "\n",
    "encoder_input_train = [sentence for index, sentence in enumerate(encoder_input_train) if index not in drop_train]\n",
    "decoder_input_train = [sentence for index, sentence in enumerate(decoder_input_train) if index not in drop_train]\n",
    "decoder_target_train = [sentence for index, sentence in enumerate(decoder_target_train) if index not in drop_train]\n",
    "\n",
    "encoder_input_test = [sentence for index, sentence in enumerate(encoder_input_test) if index not in drop_test]\n",
    "decoder_input_test = [sentence for index, sentence in enumerate(decoder_input_test) if index not in drop_test]\n",
    "decoder_target_test = [sentence for index, sentence in enumerate(decoder_target_test) if index not in drop_test]\n",
    "\n",
    "print('훈련 데이터의 개수 :', len(encoder_input_train))\n",
    "print('훈련 레이블의 개수 :', len(decoder_input_train))\n",
    "print('테스트 데이터의 개수 :', len(encoder_input_test))\n",
    "print('테스트 레이블의 개수 :', len(decoder_input_test))"
   ],
   "metadata": {
    "collapsed": false,
    "ExecuteTime": {
     "end_time": "2024-01-04T13:30:28.715514Z",
     "start_time": "2024-01-04T13:30:26.615189Z"
    }
   },
   "id": "dac52434fee43b09",
   "execution_count": 47
  },
  {
   "cell_type": "code",
   "outputs": [],
   "source": [
    "encoder_input_train = pad_sequences(encoder_input_train, maxlen=text_max_len, padding='post')\n",
    "encoder_input_test = pad_sequences(encoder_input_test, maxlen=text_max_len, padding='post')\n",
    "decoder_input_train = pad_sequences(decoder_input_train, maxlen=summary_max_len, padding='post')\n",
    "decoder_target_train = pad_sequences(decoder_target_train, maxlen=summary_max_len, padding='post')\n",
    "decoder_input_test = pad_sequences(decoder_input_test, maxlen=summary_max_len, padding='post')\n",
    "decoder_target_test = pad_sequences(decoder_target_test, maxlen=summary_max_len, padding='post')"
   ],
   "metadata": {
    "collapsed": false,
    "ExecuteTime": {
     "end_time": "2024-01-04T13:30:58.301703Z",
     "start_time": "2024-01-04T13:30:58.109363Z"
    }
   },
   "id": "d72a196bc0a50aee",
   "execution_count": 48
  },
  {
   "cell_type": "code",
   "outputs": [],
   "source": [
    "from tensorflow.keras.layers import Input, LSTM, Embedding, Dense, Concatenate, TimeDistributed\n",
    "from tensorflow.keras.models import Model\n",
    "from tensorflow.keras.callbacks import EarlyStopping, ModelCheckpoint\n",
    "\n",
    "\n",
    "# 인코더 설계 시작\n",
    "embedding_dim = 128\n",
    "hidden_size = 256\n",
    "\n",
    "# 인코더\n",
    "encoder_inputs = Input(shape=(text_max_len,))\n",
    "\n",
    "# 인코더의 임베딩 층\n",
    "enc_emb = Embedding(src_vocab, embedding_dim)(encoder_inputs)\n",
    "\n",
    "# 인코더의 LSTM 1\n",
    "# encoder_lstm1 = LSTM(hidden_size, return_sequences=True, return_state=True ,dropout = 0.4, recurrent_dropout = 0.4)\n",
    "encoder_lstm1 = LSTM(hidden_size, return_sequences=True, return_state=True ,dropout = 0.4)\n",
    "encoder_output1, state_h1, state_c1 = encoder_lstm1(enc_emb)\n",
    "\n",
    "# 인코더의 LSTM 2\n",
    "encoder_lstm2 = LSTM(hidden_size, return_sequences=True, return_state=True, dropout=0.4, recurrent_dropout=0.4)\n",
    "encoder_output2, state_h2, state_c2 = encoder_lstm2(encoder_output1)\n",
    "\n",
    "# 인코더의 LSTM 3\n",
    "encoder_lstm3 = LSTM(hidden_size, return_sequences=True, return_state=True, dropout=0.4, recurrent_dropout=0.4)\n",
    "encoder_output3, state_h3, state_c3 = encoder_lstm3(encoder_output2)"
   ],
   "metadata": {
    "collapsed": false,
    "ExecuteTime": {
     "end_time": "2024-01-04T13:35:52.174439Z",
     "start_time": "2024-01-04T13:35:51.890854Z"
    }
   },
   "id": "fcfda288dbbd59f5",
   "execution_count": 49
  },
  {
   "cell_type": "code",
   "outputs": [],
   "source": [
    "# 디코더 설계\n",
    "decoder_inputs = Input(shape=(None,))\n",
    "\n",
    "# 디코더의 임베딩 층\n",
    "dec_emb_layer = Embedding(tar_vocab, embedding_dim)\n",
    "dec_emb = dec_emb_layer(decoder_inputs)\n",
    "\n",
    "# 디코더의 LSTM\n",
    "# decoder_lstm = LSTM(hidden_size, return_sequences=True, return_state=True, dropout=0.4, recurrent_dropout=0.2)\n",
    "decoder_lstm = LSTM(hidden_size, return_sequences=True, return_state=True, dropout=0.4)\n",
    "decoder_outputs, _, _ = decoder_lstm(dec_emb, initial_state=[state_h3, state_c3])"
   ],
   "metadata": {
    "collapsed": false,
    "ExecuteTime": {
     "end_time": "2024-01-04T13:47:18.066202Z",
     "start_time": "2024-01-04T13:47:17.948797Z"
    }
   },
   "id": "5e33d8a696271635",
   "execution_count": 50
  },
  {
   "cell_type": "code",
   "outputs": [
    {
     "name": "stdout",
     "output_type": "stream",
     "text": [
      "Model: \"model\"\n",
      "__________________________________________________________________________________________________\n",
      " Layer (type)                Output Shape                 Param #   Connected to                  \n",
      "==================================================================================================\n",
      " input_1 (InputLayer)        [(None, 50)]                 0         []                            \n",
      "                                                                                                  \n",
      " embedding (Embedding)       (None, 50, 128)              1024000   ['input_1[0][0]']             \n",
      "                                                                                                  \n",
      " lstm (LSTM)                 [(None, 50, 256),            394240    ['embedding[0][0]']           \n",
      "                              (None, 256),                                                        \n",
      "                              (None, 256)]                                                        \n",
      "                                                                                                  \n",
      " input_2 (InputLayer)        [(None, None)]               0         []                            \n",
      "                                                                                                  \n",
      " lstm_1 (LSTM)               [(None, 50, 256),            525312    ['lstm[0][0]']                \n",
      "                              (None, 256),                                                        \n",
      "                              (None, 256)]                                                        \n",
      "                                                                                                  \n",
      " embedding_1 (Embedding)     (None, None, 128)            256000    ['input_2[0][0]']             \n",
      "                                                                                                  \n",
      " lstm_2 (LSTM)               [(None, 50, 256),            525312    ['lstm_1[0][0]']              \n",
      "                              (None, 256),                                                        \n",
      "                              (None, 256)]                                                        \n",
      "                                                                                                  \n",
      " lstm_3 (LSTM)               [(None, None, 256),          394240    ['embedding_1[0][0]',         \n",
      "                              (None, 256),                           'lstm_2[0][1]',              \n",
      "                              (None, 256)]                           'lstm_2[0][2]']              \n",
      "                                                                                                  \n",
      " dense (Dense)               (None, None, 2000)           514000    ['lstm_3[0][0]']              \n",
      "                                                                                                  \n",
      "==================================================================================================\n",
      "Total params: 3633104 (13.86 MB)\n",
      "Trainable params: 3633104 (13.86 MB)\n",
      "Non-trainable params: 0 (0.00 Byte)\n",
      "__________________________________________________________________________________________________\n"
     ]
    }
   ],
   "source": [
    "# 디코더의 출력층\n",
    "decoder_softmax_layer = Dense(tar_vocab, activation='softmax')\n",
    "decoder_softmax_outputs = decoder_softmax_layer(decoder_outputs)\n",
    "\n",
    "# 모델 정의\n",
    "model = Model([encoder_inputs, decoder_inputs], decoder_softmax_outputs)\n",
    "model.summary()"
   ],
   "metadata": {
    "collapsed": false,
    "ExecuteTime": {
     "end_time": "2024-01-04T13:47:46.718035Z",
     "start_time": "2024-01-04T13:47:46.677142Z"
    }
   },
   "id": "a3af75867db68813",
   "execution_count": 51
  },
  {
   "cell_type": "code",
   "outputs": [
    {
     "name": "stdout",
     "output_type": "stream",
     "text": [
      "Model: \"model_1\"\n",
      "__________________________________________________________________________________________________\n",
      " Layer (type)                Output Shape                 Param #   Connected to                  \n",
      "==================================================================================================\n",
      " input_1 (InputLayer)        [(None, 50)]                 0         []                            \n",
      "                                                                                                  \n",
      " embedding (Embedding)       (None, 50, 128)              1024000   ['input_1[0][0]']             \n",
      "                                                                                                  \n",
      " lstm (LSTM)                 [(None, 50, 256),            394240    ['embedding[0][0]']           \n",
      "                              (None, 256),                                                        \n",
      "                              (None, 256)]                                                        \n",
      "                                                                                                  \n",
      " input_2 (InputLayer)        [(None, None)]               0         []                            \n",
      "                                                                                                  \n",
      " lstm_1 (LSTM)               [(None, 50, 256),            525312    ['lstm[0][0]']                \n",
      "                              (None, 256),                                                        \n",
      "                              (None, 256)]                                                        \n",
      "                                                                                                  \n",
      " embedding_1 (Embedding)     (None, None, 128)            256000    ['input_2[0][0]']             \n",
      "                                                                                                  \n",
      " lstm_2 (LSTM)               [(None, 50, 256),            525312    ['lstm_1[0][0]']              \n",
      "                              (None, 256),                                                        \n",
      "                              (None, 256)]                                                        \n",
      "                                                                                                  \n",
      " lstm_3 (LSTM)               [(None, None, 256),          394240    ['embedding_1[0][0]',         \n",
      "                              (None, 256),                           'lstm_2[0][1]',              \n",
      "                              (None, 256)]                           'lstm_2[0][2]']              \n",
      "                                                                                                  \n",
      " attention_layer (AdditiveA  (None, None, 256)            256       ['lstm_3[0][0]',              \n",
      " ttention)                                                           'lstm_2[0][0]']              \n",
      "                                                                                                  \n",
      " concat_layer (Concatenate)  (None, None, 512)            0         ['lstm_3[0][0]',              \n",
      "                                                                     'attention_layer[0][0]']     \n",
      "                                                                                                  \n",
      " dense_1 (Dense)             (None, None, 2000)           1026000   ['concat_layer[0][0]']        \n",
      "                                                                                                  \n",
      "==================================================================================================\n",
      "Total params: 4145360 (15.81 MB)\n",
      "Trainable params: 4145360 (15.81 MB)\n",
      "Non-trainable params: 0 (0.00 Byte)\n",
      "__________________________________________________________________________________________________\n"
     ]
    }
   ],
   "source": [
    "from tensorflow.keras.layers import AdditiveAttention\n",
    "\n",
    "# 어텐션 층(어텐션 함수)\n",
    "attn_layer = AdditiveAttention(name='attention_layer')\n",
    "\n",
    "# 인코더와 디코더의 모든 time step의 hidden state를 어텐션 층에 전달하고 결과를 리턴\n",
    "attn_out = attn_layer([decoder_outputs, encoder_output3])\n",
    "\n",
    "\n",
    "# 어텐션의 결과와 디코더의 hidden state들을 연결\n",
    "decoder_concat_input = Concatenate(axis=-1, name='concat_layer')([decoder_outputs, attn_out])\n",
    "\n",
    "# 디코더의 출력층\n",
    "decoder_softmax_layer = Dense(tar_vocab, activation='softmax')\n",
    "decoder_softmax_outputs = decoder_softmax_layer(decoder_concat_input)\n",
    "\n",
    "# 모델 정의\n",
    "model = Model([encoder_inputs, decoder_inputs], decoder_softmax_outputs)\n",
    "model.summary()"
   ],
   "metadata": {
    "collapsed": false,
    "ExecuteTime": {
     "end_time": "2024-01-04T13:50:08.160034Z",
     "start_time": "2024-01-04T13:50:08.060814Z"
    }
   },
   "id": "6123740c63e25864",
   "execution_count": 52
  },
  {
   "cell_type": "code",
   "outputs": [
    {
     "name": "stdout",
     "output_type": "stream",
     "text": [
      "Epoch 1/50\n"
     ]
    },
    {
     "name": "stderr",
     "output_type": "stream",
     "text": [
      "WARNING: All log messages before absl::InitializeLog() is called are written to STDERR\n",
      "W0000 00:00:1704376229.258293       1 op_level_cost_estimator.cc:699] Error in PredictCost() for the op: op: \"Softmax\" attr { key: \"T\" value { type: DT_FLOAT } } inputs { dtype: DT_FLOAT shape { unknown_rank: true } } device { type: \"CPU\" model: \"0\" frequency: 2400 num_cores: 8 environment { key: \"cpu_instruction_set\" value: \"ARM NEON\" } environment { key: \"eigen\" value: \"3.4.90\" } l1_cache_size: 16384 l2_cache_size: 524288 l3_cache_size: 524288 memory_size: 268435456 } outputs { dtype: DT_FLOAT shape { unknown_rank: true } }\n"
     ]
    },
    {
     "name": "stdout",
     "output_type": "stream",
     "text": [
      "207/207 [==============================] - ETA: 0s - loss: 2.1943"
     ]
    },
    {
     "name": "stderr",
     "output_type": "stream",
     "text": [
      "W0000 00:00:1704376419.636567       1 op_level_cost_estimator.cc:699] Error in PredictCost() for the op: op: \"Softmax\" attr { key: \"T\" value { type: DT_FLOAT } } inputs { dtype: DT_FLOAT shape { unknown_rank: true } } device { type: \"CPU\" model: \"0\" frequency: 2400 num_cores: 8 environment { key: \"cpu_instruction_set\" value: \"ARM NEON\" } environment { key: \"eigen\" value: \"3.4.90\" } l1_cache_size: 16384 l2_cache_size: 524288 l3_cache_size: 524288 memory_size: 268435456 } outputs { dtype: DT_FLOAT shape { unknown_rank: true } }\n"
     ]
    },
    {
     "name": "stdout",
     "output_type": "stream",
     "text": [
      "207/207 [==============================] - 210s 992ms/step - loss: 2.1943 - val_loss: 2.0093\n",
      "Epoch 2/50\n",
      "207/207 [==============================] - 277s 1s/step - loss: 1.9188 - val_loss: 1.8626\n",
      "Epoch 3/50\n",
      "207/207 [==============================] - 293s 1s/step - loss: 1.8225 - val_loss: 1.8105\n",
      "Epoch 4/50\n",
      "207/207 [==============================] - 272s 1s/step - loss: 1.7558 - val_loss: 1.7680\n",
      "Epoch 5/50\n",
      "207/207 [==============================] - 273s 1s/step - loss: 1.7121 - val_loss: 1.7354\n",
      "Epoch 6/50\n",
      "207/207 [==============================] - 266s 1s/step - loss: 1.6759 - val_loss: 1.7253\n",
      "Epoch 7/50\n",
      "207/207 [==============================] - 296s 1s/step - loss: 1.6400 - val_loss: 1.7308\n",
      "Epoch 8/50\n",
      "207/207 [==============================] - 235s 1s/step - loss: 1.6071 - val_loss: 1.6832\n",
      "Epoch 9/50\n",
      "207/207 [==============================] - 262s 1s/step - loss: 1.5764 - val_loss: 1.6716\n",
      "Epoch 10/50\n",
      "207/207 [==============================] - 265s 1s/step - loss: 1.5463 - val_loss: 1.6501\n",
      "Epoch 11/50\n",
      "207/207 [==============================] - 261s 1s/step - loss: 1.5179 - val_loss: 1.6499\n",
      "Epoch 12/50\n",
      "207/207 [==============================] - 262s 1s/step - loss: 1.4922 - val_loss: 1.6389\n",
      "Epoch 13/50\n",
      "207/207 [==============================] - 261s 1s/step - loss: 1.4664 - val_loss: 1.6496\n",
      "Epoch 14/50\n",
      "207/207 [==============================] - 264s 1s/step - loss: 1.4424 - val_loss: 1.6398\n",
      "Epoch 14: early stopping\n"
     ]
    }
   ],
   "source": [
    "model.compile(optimizer='rmsprop', loss='sparse_categorical_crossentropy')\n",
    "es = EarlyStopping(monitor='val_loss', patience=2, verbose=1)\n",
    "history = model.fit(x=[encoder_input_train, decoder_input_train], y=decoder_target_train, \\\n",
    "                    validation_data=([encoder_input_test, decoder_input_test], decoder_target_test), \\\n",
    "                    batch_size=256, callbacks=[es], epochs=50)"
   ],
   "metadata": {
    "collapsed": false,
    "ExecuteTime": {
     "end_time": "2024-01-04T14:52:02.295418Z",
     "start_time": "2024-01-04T13:50:25.761198Z"
    }
   },
   "id": "664406c86edd3a48",
   "execution_count": 53
  },
  {
   "cell_type": "code",
   "outputs": [
    {
     "data": {
      "text/plain": "<Figure size 640x480 with 1 Axes>",
      "image/png": "[encoded data removed]"
     },
     "metadata": {},
     "output_type": "display_data"
    }
   ],
   "source": [
    "plt.plot(history.history['loss'], label='train')\n",
    "plt.plot(history.history['val_loss'], label='test')\n",
    "plt.legend()\n",
    "plt.show()"
   ],
   "metadata": {
    "collapsed": false,
    "ExecuteTime": {
     "end_time": "2024-01-04T14:52:16.217206Z",
     "start_time": "2024-01-04T14:52:16.125708Z"
    }
   },
   "id": "dde74da273d2df1a",
   "execution_count": 54
  },
  {
   "cell_type": "code",
   "outputs": [],
   "source": [
    "src_index_to_word = src_tokenizer.index_word # 원문 단어 집합에서 정수 -> 단어를 얻음\n",
    "tar_word_to_index = tar_tokenizer.word_index # 요약 단어 집합에서 단어 -> 정수를 얻음\n",
    "tar_index_to_word = tar_tokenizer.index_word # 요약 단어 집합에서 정수 -> 단어를 얻음"
   ],
   "metadata": {
    "collapsed": false,
    "ExecuteTime": {
     "end_time": "2024-01-04T14:54:20.920308Z",
     "start_time": "2024-01-04T14:54:20.909213Z"
    }
   },
   "id": "72c0fd888998bd10",
   "execution_count": 55
  },
  {
   "cell_type": "code",
   "outputs": [],
   "source": [
    "# 인코더 설계\n",
    "encoder_model = Model(inputs=encoder_inputs, outputs=[encoder_output3, state_h3, state_c3])\n",
    "\n",
    "# 이전 시점의 상태들을 저장하는 텐서\n",
    "decoder_state_input_h = Input(shape=(hidden_size,))\n",
    "decoder_state_input_c = Input(shape=(hidden_size,))\n",
    "\n",
    "dec_emb2 = dec_emb_layer(decoder_inputs)\n",
    "\n",
    "# 문장의 다음 단어를 예측하기 위해서 초기 상태(initial_state)를 이전 시점의 상태로 사용. 이는 뒤의 함수 decode_sequence()에 구현\n",
    "# 훈련 과정에서와 달리 LSTM의 리턴하는 은닉 상태와 셀 상태인 state_h와 state_c를 버리지 않음.\n",
    "decoder_outputs2, state_h2, state_c2 = decoder_lstm(dec_emb2, initial_state=[decoder_state_input_h, decoder_state_input_c])"
   ],
   "metadata": {
    "collapsed": false,
    "ExecuteTime": {
     "end_time": "2024-01-04T14:55:18.220431Z",
     "start_time": "2024-01-04T14:55:18.122435Z"
    }
   },
   "id": "685f35590299de9d",
   "execution_count": 56
  },
  {
   "cell_type": "code",
   "outputs": [],
   "source": [
    "# 어텐션 함수\n",
    "decoder_hidden_state_input = Input(shape=(text_max_len, hidden_size))\n",
    "attn_out_inf = attn_layer([decoder_outputs2, decoder_hidden_state_input])\n",
    "decoder_inf_concat = Concatenate(axis=-1, name='concat')([decoder_outputs2, attn_out_inf])\n",
    "\n",
    "# 디코더의 출력층\n",
    "decoder_outputs2 = decoder_softmax_layer(decoder_inf_concat)\n",
    "\n",
    "# 최종 디코더 모델\n",
    "decoder_model = Model(\n",
    "    [decoder_inputs] + [decoder_hidden_state_input,decoder_state_input_h, decoder_state_input_c],\n",
    "    [decoder_outputs2] + [state_h2, state_c2])"
   ],
   "metadata": {
    "collapsed": false,
    "ExecuteTime": {
     "end_time": "2024-01-04T14:55:42.997728Z",
     "start_time": "2024-01-04T14:55:42.976799Z"
    }
   },
   "id": "d5aff785a6a3cc06",
   "execution_count": 57
  },
  {
   "cell_type": "code",
   "outputs": [],
   "source": [
    "def decode_sequence(input_seq):\n",
    "    # 입력으로부터 인코더의 상태를 얻음\n",
    "    e_out, e_h, e_c = encoder_model.predict(input_seq)\n",
    "\n",
    "    # <SOS>에 해당하는 토큰 생성\n",
    "    target_seq = np.zeros((1,1))\n",
    "    target_seq[0, 0] = tar_word_to_index['sostoken']\n",
    "\n",
    "    stop_condition = False\n",
    "    decoded_sentence = ''\n",
    "    while not stop_condition: # stop_condition이 True가 될 때까지 루프 반복\n",
    "\n",
    "        output_tokens, h, c = decoder_model.predict([target_seq] + [e_out, e_h, e_c])\n",
    "        sampled_token_index = np.argmax(output_tokens[0, -1, :])\n",
    "        sampled_token = tar_index_to_word[sampled_token_index]\n",
    "\n",
    "        if (sampled_token!='eostoken'):\n",
    "            decoded_sentence += ' '+sampled_token\n",
    "\n",
    "        #  <eos>에 도달하거나 최대 길이를 넘으면 중단.\n",
    "        if (sampled_token == 'eostoken'  or len(decoded_sentence.split()) >= (summary_max_len-1)):\n",
    "            stop_condition = True\n",
    "\n",
    "        # 길이가 1인 타겟 시퀀스를 업데이트\n",
    "        target_seq = np.zeros((1,1))\n",
    "        target_seq[0, 0] = sampled_token_index\n",
    "\n",
    "        # 상태를 업데이트 합니다.\n",
    "        e_h, e_c = h, c\n",
    "\n",
    "    return decoded_sentence"
   ],
   "metadata": {
    "collapsed": false,
    "ExecuteTime": {
     "end_time": "2024-01-04T14:56:12.855926Z",
     "start_time": "2024-01-04T14:56:12.817201Z"
    }
   },
   "id": "49f8229f714e0a50",
   "execution_count": 58
  },
  {
   "cell_type": "code",
   "outputs": [],
   "source": [
    "# 원문의 정수 시퀀스를 텍스트 시퀀스로 변환\n",
    "def seq2text(input_seq):\n",
    "    temp=''\n",
    "    for i in input_seq:\n",
    "        if (i!=0):\n",
    "            temp = temp + src_index_to_word[i]+' '\n",
    "    return temp\n",
    "\n",
    "# 요약문의 정수 시퀀스를 텍스트 시퀀스로 변환\n",
    "def seq2summary(input_seq):\n",
    "    temp = ''\n",
    "    for i in input_seq:\n",
    "        if i == 0:\n",
    "            continue\n",
    "        if i == tar_word_to_index['eostoken']:\n",
    "            break\n",
    "        temp += tar_index_to_word[i] + ' '\n",
    "    return temp"
   ],
   "metadata": {
    "collapsed": false,
    "ExecuteTime": {
     "end_time": "2024-01-04T15:03:50.242723Z",
     "start_time": "2024-01-04T15:03:50.213115Z"
    }
   },
   "id": "bee486bfffe9dd55",
   "execution_count": 60
  },
  {
   "cell_type": "code",
   "outputs": [
    {
     "name": "stdout",
     "output_type": "stream",
     "text": [
      "원문 : dog really enjoys daily treat however next physical really cannot properly try remember update physical report back tartar build reduced eliminated vet said work dog chews slowly dog goes pretty fast sure going effective decided give year see happens \n",
      "실제 요약 : sostoken fine know next \n",
      "1/1 [==============================] - 0s 375ms/step\n",
      "1/1 [==============================] - 0s 154ms/step\n",
      "1/1 [==============================] - 0s 9ms/step\n",
      "1/1 [==============================] - 0s 9ms/step\n",
      "예측 요약 :  dog loves\n",
      "\n",
      "\n",
      "원문 : guys rock nice refreshing drink little extra kick help wind reorder thanks mood mind \n",
      "실제 요약 : sostoken nice refreshing relaxing \n",
      "1/1 [==============================] - 0s 35ms/step\n",
      "1/1 [==============================] - 0s 10ms/step\n",
      "1/1 [==============================] - ETA: 0s"
     ]
    },
    {
     "name": "stderr",
     "output_type": "stream",
     "text": [
      "W0000 00:00:1704380774.202233       1 op_level_cost_estimator.cc:699] Error in PredictCost() for the op: op: \"Softmax\" attr { key: \"T\" value { type: DT_FLOAT } } inputs { dtype: DT_FLOAT shape { unknown_rank: true } } device { type: \"CPU\" model: \"0\" frequency: 2400 num_cores: 8 environment { key: \"cpu_instruction_set\" value: \"ARM NEON\" } environment { key: \"eigen\" value: \"3.4.90\" } l1_cache_size: 16384 l2_cache_size: 524288 l3_cache_size: 524288 memory_size: 268435456 } outputs { dtype: DT_FLOAT shape { unknown_rank: true } }\n"
     ]
    },
    {
     "name": "stdout",
     "output_type": "stream",
     "text": [
      "1/1 [==============================] - 0s 10ms/step\n",
      "1/1 [==============================] - 0s 9ms/step\n",
      "예측 요약 :  ginger ginger\n",
      "\n",
      "\n",
      "원문 : bought montana gas station try believe best soda find locally save shipping would definitely give try looking locally also wisconsin real cherry sodas \n",
      "실제 요약 : sostoken pricey best cherry soda found \n",
      "1/1 [==============================] - 0s 52ms/step\n",
      "1/1 [==============================] - 0s 9ms/step\n",
      "1/1 [==============================] - 0s 9ms/step\n",
      "예측 요약 :  best\n",
      "\n",
      "\n",
      "원문 : presented quick ship thank cat loves crunchy ones much better teeth \n",
      "실제 요약 : sostoken quick ship thank \n",
      "1/1 [==============================] - 0s 49ms/step\n",
      "1/1 [==============================] - 0s 9ms/step\n",
      "1/1 [==============================] - 0s 9ms/step\n",
      "1/1 [==============================] - 0s 9ms/step\n",
      "예측 요약 :  cat loves\n",
      "\n",
      "\n",
      "원문 : become hesitant giving american bulldog dental chews tends gulp two bites vet recommended oral hygiene chews dog chew properly ends gagging based good reviews decided try checkups far working great dog eager get treat chews slowly used many yet tell breath better looks like teeth improving upset sensitive stomach \n",
      "실제 요약 : sostoken dental treats \n",
      "1/1 [==============================] - 0s 47ms/step\n",
      "1/1 [==============================] - 0s 9ms/step\n",
      "1/1 [==============================] - 0s 9ms/step\n",
      "1/1 [==============================] - 0s 10ms/step\n",
      "예측 요약 :  great product\n",
      "\n",
      "\n",
      "원문 : product information tell tea includes processed sweetener butterscotch flavoring processed ingredients original recipe yogi tea though implies even yogi tea website mention added artificial ingredients love old original yogi tea would never buy \n",
      "실제 요약 : sostoken deceiving \n",
      "1/1 [==============================] - 0s 50ms/step\n",
      "1/1 [==============================] - 0s 10ms/step\n",
      "1/1 [==============================] - 0s 9ms/step\n",
      "예측 요약 :  tea\n",
      "\n",
      "\n",
      "원문 : bought costco cents less figure either double price never stock glad know amazon good deep dark chocolate flavor looking choc cherries nicely \n",
      "실제 요약 : sostoken tasty \n",
      "1/1 [==============================] - 0s 49ms/step\n",
      "1/1 [==============================] - 0s 10ms/step\n",
      "1/1 [==============================] - 0s 10ms/step\n",
      "1/1 [==============================] - 0s 10ms/step\n",
      "예측 요약 :  great price\n",
      "\n",
      "\n",
      "원문 : pleased quality coffee cups makes great cup coffee leaves less container going landfills \n",
      "실제 요약 : sostoken great value \n",
      "1/1 [==============================] - 0s 47ms/step\n",
      "1/1 [==============================] - 0s 10ms/step\n",
      "1/1 [==============================] - 0s 9ms/step\n",
      "1/1 [==============================] - 0s 10ms/step\n",
      "예측 요약 :  great coffee\n",
      "\n",
      "\n",
      "원문 : cereal wonderful crunchy savory kellogg general mills look blue buffalo coming big \n",
      "실제 요약 : sostoken great \n",
      "1/1 [==============================] - 0s 49ms/step\n",
      "1/1 [==============================] - 0s 10ms/step\n",
      "1/1 [==============================] - 0s 10ms/step\n",
      "1/1 [==============================] - 0s 9ms/step\n",
      "예측 요약 :  best cereal\n",
      "\n",
      "\n",
      "원문 : heard read reviews reviewers absolutely right saying flavorful delectable chewy gummy candy ever family opened one bags started raving taste amazing amazon best price could find far less lbs candy bargain english rock \n",
      "실제 요약 : sostoken best \n",
      "1/1 [==============================] - 0s 44ms/step\n",
      "1/1 [==============================] - 0s 10ms/step\n",
      "1/1 [==============================] - 0s 9ms/step\n",
      "예측 요약 :  best\n",
      "\n",
      "\n",
      "원문 : flavors tried excellent one would suggest \n",
      "실제 요약 : sostoken good others \n",
      "1/1 [==============================] - 0s 47ms/step\n",
      "1/1 [==============================] - 0s 9ms/step\n",
      "1/1 [==============================] - 0s 9ms/step\n",
      "1/1 [==============================] - 0s 9ms/step\n",
      "예측 요약 :  great taste\n",
      "\n",
      "\n",
      "원문 : regularly purchase coffee orders free shipping take days order early coffee dark roast medium light roast gives full flavor without bitterness drip coffee fantastic satisfying \n",
      "실제 요약 : sostoken fantastic coffee fantastic price \n",
      "1/1 [==============================] - 0s 49ms/step\n",
      "1/1 [==============================] - 0s 10ms/step\n",
      "1/1 [==============================] - 0s 9ms/step\n",
      "1/1 [==============================] - 0s 10ms/step\n",
      "예측 요약 :  good coffee\n",
      "\n",
      "\n",
      "원문 : love flavorful wholesome hooked unlike heavily salted roasted almonds found grocery stores actually taste like real food \n",
      "실제 요약 : sostoken love \n",
      "1/1 [==============================] - 0s 45ms/step\n",
      "1/1 [==============================] - 0s 10ms/step\n",
      "1/1 [==============================] - 0s 9ms/step\n",
      "예측 요약 :  best\n",
      "\n",
      "\n",
      "원문 : love easiest way put purchased always looked delicious complaint might could last everyone house ate right would purchase one thing stopped shipping price quite simply put outrageous maybe next time bunch extra cash pick another batch hide well \n",
      "실제 요약 : sostoken amazing taste \n",
      "1/1 [==============================] - 0s 45ms/step\n",
      "1/1 [==============================] - 0s 9ms/step\n",
      "1/1 [==============================] - 0s 9ms/step\n",
      "1/1 [==============================] - 0s 9ms/step\n",
      "예측 요약 :  best price\n",
      "\n",
      "\n",
      "원문 : love tea easy make keeps lazy buying soda bring bottle fill water make tea anytime anywhere different bottle straw fill ice pour brewed tea string makes really easy get also keeps steeping long pour first glass \n",
      "실제 요약 : sostoken keeps soda \n",
      "1/1 [==============================] - 0s 48ms/step\n",
      "1/1 [==============================] - 0s 10ms/step\n",
      "1/1 [==============================] - 0s 9ms/step\n",
      "1/1 [==============================] - 0s 10ms/step\n",
      "예측 요약 :  great tea\n",
      "\n",
      "\n",
      "원문 : love cherry candy didnt disappoint would liked little stronger cherry flavor chewy ate whole bag weeks good idea \n",
      "실제 요약 : sostoken wow tasty \n",
      "1/1 [==============================] - 0s 51ms/step\n",
      "1/1 [==============================] - 0s 11ms/step\n",
      "1/1 [==============================] - 0s 10ms/step\n",
      "예측 요약 :  good\n",
      "\n",
      "\n",
      "원문 : bonsai fine cannot immediately tell artificial looks like healthy little tree said pretty much exact identical set three also purchased online could bought another set three money paid one picture used makes look like larger bonsai clearly one receive live learn \n",
      "실제 요약 : sostoken overpriced \n",
      "1/1 [==============================] - 0s 50ms/step\n",
      "1/1 [==============================] - 0s 10ms/step\n",
      "1/1 [==============================] - 0s 11ms/step\n",
      "1/1 [==============================] - 0s 10ms/step\n",
      "1/1 [==============================] - 0s 10ms/step\n",
      "예측 요약 :  wrong customer service\n",
      "\n",
      "\n",
      "원문 : thought days delicious grinders cuban midnight sandwiches treats found children celiac disease make kinds goodies mix keep pantry staple quick easy mix needing egg oil milk unlike lot gluten free sticky makes easy roll form shapes love \n",
      "실제 요약 : sostoken happy mix \n",
      "1/1 [==============================] - 0s 52ms/step\n",
      "1/1 [==============================] - 0s 11ms/step\n",
      "1/1 [==============================] - 0s 10ms/step\n",
      "예측 요약 :  best\n",
      "\n",
      "\n",
      "원문 : wafers much better american version sickeningly sweet heavy like bright pink ones find american stores \n",
      "실제 요약 : sostoken sooooo yummy \n",
      "1/1 [==============================] - 0s 53ms/step\n",
      "1/1 [==============================] - 0s 11ms/step\n",
      "1/1 [==============================] - 0s 9ms/step\n",
      "예측 요약 :  good\n",
      "\n",
      "\n",
      "원문 : onion power fine almost like baby powder great flavor aroma love fact also organic great value money \n",
      "실제 요약 : sostoken fine \n",
      "1/1 [==============================] - 0s 53ms/step\n",
      "1/1 [==============================] - 0s 11ms/step\n",
      "1/1 [==============================] - 0s 11ms/step\n",
      "1/1 [==============================] - 0s 10ms/step\n",
      "예측 요약 :  great product\n",
      "\n",
      "\n",
      "원문 : never expected powdered peanut butter good favorite thing use vanilla ice cream serving weight watchers diet great product \n",
      "실제 요약 : sostoken yum \n",
      "1/1 [==============================] - 0s 42ms/step\n",
      "1/1 [==============================] - 0s 9ms/step\n",
      "1/1 [==============================] - 0s 9ms/step\n",
      "예측 요약 :  best\n",
      "\n",
      "\n",
      "원문 : impressed quality vegetables buying contents look taste appealing lot potatoes expect find mixed vegetables \n",
      "실제 요약 : sostoken buy \n",
      "1/1 [==============================] - 0s 46ms/step\n",
      "1/1 [==============================] - 0s 9ms/step\n",
      "1/1 [==============================] - 0s 9ms/step\n",
      "1/1 [==============================] - 0s 10ms/step\n",
      "예측 요약 :  great product\n",
      "\n",
      "\n",
      "원문 : love way packaged coffee several others try impressed either liked packages like coffee \n",
      "실제 요약 : sostoken great packaging fair coffee \n",
      "1/1 [==============================] - 0s 48ms/step\n",
      "1/1 [==============================] - 0s 10ms/step\n",
      "1/1 [==============================] - 0s 10ms/step\n",
      "1/1 [==============================] - 0s 9ms/step\n",
      "예측 요약 :  good coffee\n",
      "\n",
      "\n",
      "원문 : enjoy soup try different brand next time \n",
      "실제 요약 : sostoken bad soup \n",
      "1/1 [==============================] - 0s 46ms/step\n",
      "1/1 [==============================] - 0s 10ms/step\n",
      "1/1 [==============================] - 0s 10ms/step\n",
      "1/1 [==============================] - 0s 10ms/step\n",
      "예측 요약 :  best soup\n",
      "\n",
      "\n",
      "원문 : expecting get like goodness product however box mallomars received stale white residue cookies lacked questions raised storage problems amazon shipping problems cookies expire still ok sure cookies \n",
      "실제 요약 : sostoken awful stale cookies received \n",
      "1/1 [==============================] - 0s 49ms/step\n",
      "1/1 [==============================] - 0s 10ms/step\n",
      "1/1 [==============================] - 0s 9ms/step\n",
      "예측 요약 :  stale\n",
      "\n",
      "\n",
      "원문 : took star high fat sodium content primarily concerned protein carbs calories bad snack yes salty pizza jalapeno white cheddar grilled cheese like consistent price good husband like quick crunchy snack good satisfy \n",
      "실제 요약 : sostoken yummy \n",
      "1/1 [==============================] - 0s 45ms/step\n",
      "1/1 [==============================] - 0s 11ms/step\n",
      "1/1 [==============================] - 0s 8ms/step\n",
      "예측 요약 :  tasty\n",
      "\n",
      "\n",
      "원문 : tea might taste delicious ok flavor effects body wonderful helps acid reflux works wonders feel nauseated \n",
      "실제 요약 : sostoken wonderful \n",
      "1/1 [==============================] - 0s 51ms/step\n",
      "1/1 [==============================] - 0s 10ms/step\n",
      "1/1 [==============================] - 0s 9ms/step\n",
      "1/1 [==============================] - 0s 9ms/step\n",
      "예측 요약 :  great tea\n",
      "\n",
      "\n",
      "원문 : given basket others gifts recipients always thank items high quality presentation always great definitely use company basket companies use cheap stuff everything truly gourmet quality \n",
      "실제 요약 : sostoken high quality stuff usual foods \n",
      "1/1 [==============================] - 0s 45ms/step\n",
      "1/1 [==============================] - 0s 10ms/step\n",
      "1/1 [==============================] - 0s 10ms/step\n",
      "1/1 [==============================] - 0s 10ms/step\n",
      "예측 요약 :  great gift\n",
      "\n",
      "\n",
      "원문 : live overseas taste good ol american coffee something hate without good price well \n",
      "실제 요약 : sostoken coffee \n",
      "1/1 [==============================] - 0s 47ms/step\n",
      "1/1 [==============================] - 0s 10ms/step\n",
      "1/1 [==============================] - 0s 10ms/step\n",
      "1/1 [==============================] - 0s 9ms/step\n",
      "예측 요약 :  great coffee\n",
      "\n",
      "\n",
      "원문 : learned tim book sprinkle anything eggs morning left turkey whatever suddenly everything eating fine cuisine sprinkled piece cheese yesterday omg sublime \n",
      "실제 요약 : sostoken divine \n",
      "1/1 [==============================] - 0s 45ms/step\n",
      "1/1 [==============================] - 0s 10ms/step\n",
      "1/1 [==============================] - 0s 9ms/step\n",
      "예측 요약 :  best\n",
      "\n",
      "\n",
      "원문 : best food price loves forth try food happy stuck never give anything \n",
      "실제 요약 : sostoken love love love product \n",
      "1/1 [==============================] - 0s 44ms/step\n",
      "1/1 [==============================] - 0s 10ms/step\n",
      "1/1 [==============================] - 0s 9ms/step\n",
      "1/1 [==============================] - 0s 11ms/step\n",
      "예측 요약 :  great product\n",
      "\n",
      "\n",
      "원문 : san bay nice inexpensive alternative cup like bold cup coffee one comes money brand well worth trying purchase works well keurig \n",
      "실제 요약 : sostoken well worth buying \n",
      "1/1 [==============================] - 0s 52ms/step\n",
      "1/1 [==============================] - 0s 11ms/step\n",
      "1/1 [==============================] - 0s 9ms/step\n",
      "1/1 [==============================] - 0s 9ms/step\n",
      "예측 요약 :  good coffee\n",
      "\n",
      "\n",
      "원문 : like diet teas good energy pick without jitters crash feel caffeine energy drinks flavor taste little like apple juice although bad still like lemon flavor best great product \n",
      "실제 요약 : sostoken great pick \n",
      "1/1 [==============================] - 0s 45ms/step\n",
      "1/1 [==============================] - 0s 9ms/step\n",
      "1/1 [==============================] - 0s 9ms/step\n",
      "1/1 [==============================] - 0s 10ms/step\n",
      "예측 요약 :  great tea\n",
      "\n",
      "\n",
      "원문 : tasty texture good downside end eating many one sitting \n",
      "실제 요약 : sostoken yummy \n",
      "1/1 [==============================] - 0s 51ms/step\n",
      "1/1 [==============================] - 0s 9ms/step\n",
      "1/1 [==============================] - 0s 9ms/step\n",
      "예측 요약 :  good\n",
      "\n",
      "\n",
      "원문 : bought box vacation new zealand brought back shared co workers dilmah started selling online ever someone traveled oz orders taken shipped back states \n",
      "실제 요약 : sostoken good stuff \n",
      "1/1 [==============================] - 0s 45ms/step\n",
      "1/1 [==============================] - 0s 10ms/step\n",
      "1/1 [==============================] - 0s 9ms/step\n",
      "예측 요약 :  chocolate\n",
      "\n",
      "\n",
      "원문 : buying product number years recommend highly varieties enjoy enjoy \n",
      "실제 요약 : sostoken cake \n",
      "1/1 [==============================] - 0s 45ms/step\n",
      "1/1 [==============================] - 0s 9ms/step\n",
      "1/1 [==============================] - 0s 9ms/step\n",
      "예측 요약 :  great\n",
      "\n",
      "\n",
      "원문 : little apprehensive ordered pleasantly surprised arrived cookies broken tasted fresh majority fortunes like well worth money \n",
      "실제 요약 : sostoken pleased \n",
      "1/1 [==============================] - 0s 47ms/step\n",
      "1/1 [==============================] - 0s 9ms/step\n",
      "1/1 [==============================] - 0s 10ms/step\n",
      "1/1 [==============================] - 0s 9ms/step\n",
      "예측 요약 :  great cookies\n",
      "\n",
      "\n",
      "원문 : satisfied transaction seller second time ordering unable find product area one available source closed grateful know still find online thanks \n",
      "실제 요약 : sostoken great \n",
      "1/1 [==============================] - 0s 48ms/step\n",
      "1/1 [==============================] - 0s 9ms/step\n",
      "1/1 [==============================] - 0s 10ms/step\n",
      "1/1 [==============================] - 0s 9ms/step\n",
      "예측 요약 :  great product\n",
      "\n",
      "\n",
      "원문 : great tasting drink full things good found longer appetite checked ingredient super internet found appetite thought perhaps lost appetite since cut drastically drinking appetite seems returning slowly want cut eating might drink already light eater might want caution \n",
      "실제 요약 : sostoken might \n",
      "1/1 [==============================] - 0s 57ms/step\n",
      "1/1 [==============================] - 0s 11ms/step\n",
      "1/1 [==============================] - 0s 12ms/step\n",
      "예측 요약 :  good\n",
      "\n",
      "\n",
      "원문 : roland sushi ginger husband favorite far also think tastes best right balance ginger flavor sweet sour tried two brands found wanting one salty enough ginger taste patiently waiting amazon return brand stock hope wait much longer please please bring back \n",
      "실제 요약 : sostoken favorite sushi ginger \n",
      "1/1 [==============================] - 0s 48ms/step\n",
      "1/1 [==============================] - 0s 10ms/step\n",
      "1/1 [==============================] - 0s 9ms/step\n",
      "1/1 [==============================] - 0s 10ms/step\n",
      "예측 요약 :  ginger ginger\n",
      "\n",
      "\n",
      "원문 : cashews tasted ok broken little bits maybe handful whole cashews bag would stick grocery store \n",
      "실제 요약 : sostoken would order \n",
      "1/1 [==============================] - 0s 47ms/step\n",
      "1/1 [==============================] - 0s 9ms/step\n",
      "1/1 [==============================] - 0s 10ms/step\n",
      "예측 요약 :  salty\n",
      "\n",
      "\n",
      "원문 : taste texture ok prep little complicated lots packaging apparently recyclable good variety keep around case \n",
      "실제 요약 : sostoken ok \n",
      "1/1 [==============================] - 0s 47ms/step\n",
      "1/1 [==============================] - 0s 9ms/step\n",
      "1/1 [==============================] - 0s 9ms/step\n",
      "예측 요약 :  good\n",
      "\n",
      "\n",
      "원문 : idea reviews brand dieters tea talking followed directions nothing happened brewed stronger cup still nothing even measured water oz let tea bag seep five minutes nothing stronger tasting tea box tells drink cup hour period drank three day even thinking nothing happened tasted like cranberry tea nothing else strange \n",
      "실제 요약 : sostoken nothing \n",
      "1/1 [==============================] - 0s 59ms/step\n",
      "1/1 [==============================] - 0s 13ms/step\n",
      "1/1 [==============================] - 0s 12ms/step\n",
      "예측 요약 :  tea\n",
      "\n",
      "\n",
      "원문 : fantastic taste low calories easy prepare like eating fat free dairy whipped topping really want go nuts put jello banana cream pudding pre made mini graham cracker crust spray top eat resulting miniature banana cream pie \n",
      "실제 요약 : sostoken delicious \n",
      "1/1 [==============================] - 0s 62ms/step\n",
      "1/1 [==============================] - 0s 14ms/step\n",
      "1/1 [==============================] - 0s 14ms/step\n",
      "예측 요약 :  best\n",
      "\n",
      "\n",
      "원문 : great handy sweet cereal makes feel like kid lot sugar back oatmeal rest week \n",
      "실제 요약 : sostoken love cereal child \n",
      "1/1 [==============================] - 0s 54ms/step\n",
      "1/1 [==============================] - 0s 13ms/step\n",
      "1/1 [==============================] - 0s 13ms/step\n",
      "1/1 [==============================] - 0s 11ms/step\n",
      "예측 요약 :  great cereal\n",
      "\n",
      "\n",
      "원문 : ordered item tuesday received made absolutely wonderful taste like kind thai restaurants searching tea glad found buying thank \n",
      "실제 요약 : sostoken finally found \n",
      "1/1 [==============================] - 0s 58ms/step\n",
      "1/1 [==============================] - 0s 10ms/step\n",
      "1/1 [==============================] - 0s 10ms/step\n",
      "1/1 [==============================] - 0s 11ms/step\n",
      "1/1 [==============================] - 0s 11ms/step\n",
      "예측 요약 :  best tea ever\n",
      "\n",
      "\n",
      "원문 : lightly brush syrup steaks bbq ing gives meat slightly sweet taste contrast hot salsa use eating tacos \n",
      "실제 요약 : sostoken syrup steak \n",
      "1/1 [==============================] - 0s 55ms/step\n",
      "1/1 [==============================] - 0s 13ms/step\n",
      "1/1 [==============================] - 0s 13ms/step\n",
      "예측 요약 :  best\n",
      "\n",
      "\n",
      "원문 : sent mail amazon couple years ago barbecue spices sauces rubs first tried bad butt rub seasoning put steaks chops friends noticed barbecue turned several onto also true every thing goes better little butt rub \n",
      "실제 요약 : sostoken label says \n",
      "1/1 [==============================] - 0s 60ms/step\n",
      "1/1 [==============================] - 0s 13ms/step\n",
      "1/1 [==============================] - 0s 12ms/step\n",
      "1/1 [==============================] - 0s 11ms/step\n",
      "예측 요약 :  best balsamic\n",
      "\n",
      "\n",
      "원문 : take short vacation family member first brought home thought salt combination sounded like novelty item opinion changed completely ate chocolate delicious right taste texture large pieces salt make excellent whatever sit piece try sorry \n",
      "실제 요약 : sostoken yum non combination flavors \n",
      "1/1 [==============================] - 0s 51ms/step\n",
      "1/1 [==============================] - 0s 13ms/step\n",
      "1/1 [==============================] - 0s 11ms/step\n",
      "1/1 [==============================] - 0s 12ms/step\n",
      "예측 요약 :  great salt\n",
      "\n",
      "\n",
      "원문 : love make sun tea tea bags nice hot day sit chilled glass tasty sweet highly recommended \n",
      "실제 요약 : sostoken super tasty \n",
      "1/1 [==============================] - 0s 58ms/step\n",
      "1/1 [==============================] - 0s 13ms/step\n",
      "1/1 [==============================] - 0s 11ms/step\n",
      "1/1 [==============================] - 0s 12ms/step\n",
      "예측 요약 :  great tea\n"
     ]
    }
   ],
   "source": [
    "for i in range(50, 100):\n",
    "    print(\"원문 :\", seq2text(encoder_input_test[i]))\n",
    "    print(\"실제 요약 :\", seq2summary(decoder_input_test[i]))\n",
    "    print(\"예측 요약 :\", decode_sequence(encoder_input_test[i].reshape(1, text_max_len)))\n",
    "    print(\"\\n\")"
   ],
   "metadata": {
    "collapsed": false,
    "ExecuteTime": {
     "end_time": "2024-01-04T15:06:21.500728Z",
     "start_time": "2024-01-04T15:06:13.655519Z"
    }
   },
   "id": "ed70641319bcfaff",
   "execution_count": 61
  },
  {
   "cell_type": "code",
   "outputs": [
    {
     "ename": "ModuleNotFoundError",
     "evalue": "No module named 'summa'",
     "output_type": "error",
     "traceback": [
      "\u001B[0;31m---------------------------------------------------------------------------\u001B[0m",
      "\u001B[0;31mModuleNotFoundError\u001B[0m                       Traceback (most recent call last)",
      "Cell \u001B[0;32mIn[63], line 2\u001B[0m\n\u001B[1;32m      1\u001B[0m \u001B[38;5;28;01mimport\u001B[39;00m \u001B[38;5;21;01mrequests\u001B[39;00m\n\u001B[0;32m----> 2\u001B[0m \u001B[38;5;28;01mfrom\u001B[39;00m \u001B[38;5;21;01msumma\u001B[39;00m\u001B[38;5;21;01m.\u001B[39;00m\u001B[38;5;21;01msummarizer\u001B[39;00m \u001B[38;5;28;01mimport\u001B[39;00m summarize\n",
      "\u001B[0;31mModuleNotFoundError\u001B[0m: No module named 'summa'"
     ]
    }
   ],
   "source": [
    "import requests\n",
    "from summa.summarizer import summarize"
   ],
   "metadata": {
    "collapsed": false,
    "ExecuteTime": {
     "end_time": "2024-01-04T15:08:29.762258Z",
     "start_time": "2024-01-04T15:08:29.706125Z"
    }
   },
   "id": "4b0726b3b28b621f",
   "execution_count": 63
  },
  {
   "cell_type": "code",
   "outputs": [],
   "source": [
    "text = requests.get('http://rare-technologies.com/the_matrix_synopsis.txt').text"
   ],
   "metadata": {
    "collapsed": false
   },
   "id": "6fad243ad4ca91cb"
  }
 ],
 "metadata": {
  "kernelspec": {
   "display_name": "Python 3",
   "language": "python",
   "name": "python3"
  },
  "language_info": {
   "codemirror_mode": {
    "name": "ipython",
    "version": 2
   },
   "file_extension": ".py",
   "mimetype": "text/x-python",
   "name": "python",
   "nbconvert_exporter": "python",
   "pygments_lexer": "ipython2",
   "version": "2.7.6"
  }
 },
 "nbformat": 4,
 "nbformat_minor": 5
}
