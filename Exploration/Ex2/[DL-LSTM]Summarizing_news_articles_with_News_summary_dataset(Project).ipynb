{
 "cells": [
  {
   "cell_type": "code",
   "execution_count": 1,
   "id": "49d82bfb",
   "metadata": {},
   "outputs": [
    {
     "name": "stderr",
     "output_type": "stream",
     "text": [
      "[nltk_data] Downloading package stopwords to /aiffel/nltk_data...\n",
      "[nltk_data]   Package stopwords is already up-to-date!\n"
     ]
    },
    {
     "name": "stdout",
     "output_type": "stream",
     "text": [
      "3.6.5\n",
      "2.6.0\n",
      "1.3.3\n",
      "1.2.0\n"
     ]
    }
   ],
   "source": [
    "# 필요한 라이브러리 import\n",
    "from importlib.metadata import version\n",
    "import nltk\n",
    "nltk.download('stopwords')\n",
    "\n",
    "import tensorflow as tf\n",
    "import summa\n",
    "import pandas as pd\n",
    "import numpy as np\n",
    "import os\n",
    "import re\n",
    "import matplotlib.pyplot as plt\n",
    "from nltk.corpus import stopwords\n",
    "from bs4 import BeautifulSoup \n",
    "from tensorflow.keras.preprocessing.text import Tokenizer \n",
    "from tensorflow.keras.preprocessing.sequence import pad_sequences\n",
    "import urllib.request\n",
    "import warnings\n",
    "warnings.filterwarnings(\"ignore\", category=UserWarning, module='bs4')\n",
    "\n",
    "# 버전 호환/충돌에 대비하여 각 라이브러리 버전 확인\n",
    "print(nltk.__version__)\n",
    "print(tf.__version__)\n",
    "print(pd.__version__)\n",
    "print(version('summa'))"
   ]
  },
  {
   "cell_type": "code",
   "execution_count": 2,
   "id": "5a493a05",
   "metadata": {},
   "outputs": [
    {
     "name": "stdout",
     "output_type": "stream",
     "text": [
      "전체 샘플 수:  98401\n"
     ]
    }
   ],
   "source": [
    "import urllib.request\n",
    "\n",
    "# 뉴스 데이터 다운로드\n",
    "urllib.request.urlretrieve(\"https://raw.githubusercontent.com/sunnysai12345/News_Summary/master/news_summary_more.csv\", filename=\"news_summary_more.csv\")\n",
    "data = pd.read_csv('news_summary_more.csv', encoding='iso-8859-1')\n",
    "\n",
    "print('전체 샘플 수: ',(len(data)))"
   ]
  },
  {
   "cell_type": "markdown",
   "id": "bda427ea",
   "metadata": {},
   "source": [
    "오늘 우리가 다뤄야할 데이터는 총 98401개이다."
   ]
  },
  {
   "cell_type": "code",
   "execution_count": 3,
   "id": "dab1f0df",
   "metadata": {},
   "outputs": [
    {
     "data": {
      "text/html": [
       "<div>\n",
       "<style scoped>\n",
       "    .dataframe tbody tr th:only-of-type {\n",
       "        vertical-align: middle;\n",
       "    }\n",
       "\n",
       "    .dataframe tbody tr th {\n",
       "        vertical-align: top;\n",
       "    }\n",
       "\n",
       "    .dataframe thead th {\n",
       "        text-align: right;\n",
       "    }\n",
       "</style>\n",
       "<table border=\"1\" class=\"dataframe\">\n",
       "  <thead>\n",
       "    <tr style=\"text-align: right;\">\n",
       "      <th></th>\n",
       "      <th>headlines</th>\n",
       "      <th>text</th>\n",
       "    </tr>\n",
       "  </thead>\n",
       "  <tbody>\n",
       "    <tr>\n",
       "      <th>9616</th>\n",
       "      <td>US teen shoots dead 61-yr-old Indian-origin ma...</td>\n",
       "      <td>A 61-year-old Indian-origin man has been shot ...</td>\n",
       "    </tr>\n",
       "    <tr>\n",
       "      <th>30864</th>\n",
       "      <td>RCom shares sink 20% after tribunal admits ins...</td>\n",
       "      <td>Shares of billionaire Anil Ambani-led Reliance...</td>\n",
       "    </tr>\n",
       "    <tr>\n",
       "      <th>18019</th>\n",
       "      <td>Serena fined Ã¢ÂÂ¹12 lakh for violations duri...</td>\n",
       "      <td>Twenty-three-time Grand Slam champion Serena W...</td>\n",
       "    </tr>\n",
       "    <tr>\n",
       "      <th>85160</th>\n",
       "      <td>Truth always wins: Uber whistleblower on compa...</td>\n",
       "      <td>Uber's former employee Susan Fowler, who first...</td>\n",
       "    </tr>\n",
       "    <tr>\n",
       "      <th>41511</th>\n",
       "      <td>1,000 students may have accessed leaked CBSE p...</td>\n",
       "      <td>The Delhi Police Crime Branch on Friday claime...</td>\n",
       "    </tr>\n",
       "    <tr>\n",
       "      <th>51016</th>\n",
       "      <td>Spain develops AI that can predict corruption ...</td>\n",
       "      <td>Scientists in Spain have developed an artifici...</td>\n",
       "    </tr>\n",
       "    <tr>\n",
       "      <th>70435</th>\n",
       "      <td>IndiGo reports unruly flyer days after No-Fly ...</td>\n",
       "      <td>A female passenger on a Jaipur-Mumbai IndiGo f...</td>\n",
       "    </tr>\n",
       "    <tr>\n",
       "      <th>76278</th>\n",
       "      <td>Will ask Centre to ban Blue Whale Game in coun...</td>\n",
       "      <td>The Kerala CM on Wednesday said that the state...</td>\n",
       "    </tr>\n",
       "    <tr>\n",
       "      <th>11706</th>\n",
       "      <td>Pic of stranger holding sleeping baby as mom f...</td>\n",
       "      <td>A picture of a stranger holding a baby as the ...</td>\n",
       "    </tr>\n",
       "    <tr>\n",
       "      <th>62499</th>\n",
       "      <td>US Prez Trump blames Iran for missile fired at...</td>\n",
       "      <td>US President Donald Trump has accused Iran of ...</td>\n",
       "    </tr>\n",
       "  </tbody>\n",
       "</table>\n",
       "</div>"
      ],
      "text/plain": [
       "                                               headlines  \\\n",
       "9616   US teen shoots dead 61-yr-old Indian-origin ma...   \n",
       "30864  RCom shares sink 20% after tribunal admits ins...   \n",
       "18019  Serena fined Ã¢ÂÂ¹12 lakh for violations duri...   \n",
       "85160  Truth always wins: Uber whistleblower on compa...   \n",
       "41511  1,000 students may have accessed leaked CBSE p...   \n",
       "51016  Spain develops AI that can predict corruption ...   \n",
       "70435  IndiGo reports unruly flyer days after No-Fly ...   \n",
       "76278  Will ask Centre to ban Blue Whale Game in coun...   \n",
       "11706  Pic of stranger holding sleeping baby as mom f...   \n",
       "62499  US Prez Trump blames Iran for missile fired at...   \n",
       "\n",
       "                                                    text  \n",
       "9616   A 61-year-old Indian-origin man has been shot ...  \n",
       "30864  Shares of billionaire Anil Ambani-led Reliance...  \n",
       "18019  Twenty-three-time Grand Slam champion Serena W...  \n",
       "85160  Uber's former employee Susan Fowler, who first...  \n",
       "41511  The Delhi Police Crime Branch on Friday claime...  \n",
       "51016  Scientists in Spain have developed an artifici...  \n",
       "70435  A female passenger on a Jaipur-Mumbai IndiGo f...  \n",
       "76278  The Kerala CM on Wednesday said that the state...  \n",
       "11706  A picture of a stranger holding a baby as the ...  \n",
       "62499  US President Donald Trump has accused Iran of ...  "
      ]
     },
     "execution_count": 3,
     "metadata": {},
     "output_type": "execute_result"
    }
   ],
   "source": [
    "# 데이터 확인\n",
    "data.sample(10)"
   ]
  },
  {
   "cell_type": "markdown",
   "id": "1bcdcc81",
   "metadata": {},
   "source": [
    "headlines와 text 컬럼만 존재하는 것을 확인할 수 있다. 추상적 요약을 하는 경우에는 text 컬럼을 본문, headlines 컬럼을 요약된 데이터로 사용할 수 있고, 추출적 요약의 경우에는 오직 text 컬럼만 사용한다."
   ]
  },
  {
   "cell_type": "code",
   "execution_count": 4,
   "id": "d828e750",
   "metadata": {},
   "outputs": [
    {
     "name": "stdout",
     "output_type": "stream",
     "text": [
      "text 컬럼의 중복되지 않은 데이터 개수:  98360\n",
      "headlines 컬럼의 중복되지 않은 데이터 개수:  98280\n"
     ]
    }
   ],
   "source": [
    "print('text 컬럼의 중복되지 않은 데이터 개수: ', data['text'].nunique())\n",
    "print('headlines 컬럼의 중복되지 않은 데이터 개수: ', data['headlines'].nunique())"
   ]
  },
  {
   "cell_type": "markdown",
   "id": "2d821d51",
   "metadata": {},
   "source": [
    "text와 headlines컬럼의 중복되지 않은 데이터 개수는 각각 98,360개와 98,280개로 headlines의 경우 아주 간단한 요약들이 중복될 수 있지만, text의 경우 중복된 데이터는 말 그대로 중복 샘플이므로 제거해야 한다."
   ]
  },
  {
   "cell_type": "code",
   "execution_count": 5,
   "id": "05d99f12",
   "metadata": {},
   "outputs": [
    {
     "name": "stdout",
     "output_type": "stream",
     "text": [
      "전체 샘플 수: 98360\n"
     ]
    }
   ],
   "source": [
    "# text 컬럼에서 중복되는 샘플 제거\n",
    "data.drop_duplicates(subset = ['text'], inplace=True)\n",
    "print('전체 샘플 수:', len(data))"
   ]
  },
  {
   "cell_type": "markdown",
   "id": "c4550182",
   "metadata": {},
   "source": [
    "중복되는 text 샘플을 제거하여 전체 샘플 수가 98,401개에서 98,360개로 41개의 데이터가 배제되었다.  \n",
    "drop_duplicates가 Null값을 제거해주긴 하지만, 깔끔한 처리를 위해 한 번 더 Null 값을 지워주도록 한다."
   ]
  },
  {
   "cell_type": "code",
   "execution_count": 6,
   "id": "a75684e7",
   "metadata": {},
   "outputs": [
    {
     "name": "stdout",
     "output_type": "stream",
     "text": [
      "headlines    0\n",
      "text         0\n",
      "dtype: int64\n"
     ]
    }
   ],
   "source": [
    "print(data.isnull().sum())"
   ]
  },
  {
   "cell_type": "markdown",
   "id": "e88e41d5",
   "metadata": {},
   "source": [
    "Null값이 존재하지 않으니, Null 제거 작업은 하지 않아도 될 것 같다."
   ]
  },
  {
   "cell_type": "code",
   "execution_count": 7,
   "id": "d8e1063b",
   "metadata": {},
   "outputs": [
    {
     "name": "stdout",
     "output_type": "stream",
     "text": [
      "정규화 사전의 수:  120\n"
     ]
    }
   ],
   "source": [
    "# 텍스트 정규화를 위한 사전 구성\n",
    "contractions = {\"ain't\": \"is not\", \"aren't\": \"are not\",\"can't\": \"cannot\", \"'cause\": \"because\", \"could've\": \"could have\", \"couldn't\": \"could not\",\n",
    "                           \"didn't\": \"did not\",  \"doesn't\": \"does not\", \"don't\": \"do not\", \"hadn't\": \"had not\", \"hasn't\": \"has not\", \"haven't\": \"have not\",\n",
    "                           \"he'd\": \"he would\",\"he'll\": \"he will\", \"he's\": \"he is\", \"how'd\": \"how did\", \"how'd'y\": \"how do you\", \"how'll\": \"how will\", \"how's\": \"how is\",\n",
    "                           \"I'd\": \"I would\", \"I'd've\": \"I would have\", \"I'll\": \"I will\", \"I'll've\": \"I will have\",\"I'm\": \"I am\", \"I've\": \"I have\", \"i'd\": \"i would\",\n",
    "                           \"i'd've\": \"i would have\", \"i'll\": \"i will\",  \"i'll've\": \"i will have\",\"i'm\": \"i am\", \"i've\": \"i have\", \"isn't\": \"is not\", \"it'd\": \"it would\",\n",
    "                           \"it'd've\": \"it would have\", \"it'll\": \"it will\", \"it'll've\": \"it will have\",\"it's\": \"it is\", \"let's\": \"let us\", \"ma'am\": \"madam\",\n",
    "                           \"mayn't\": \"may not\", \"might've\": \"might have\",\"mightn't\": \"might not\",\"mightn't've\": \"might not have\", \"must've\": \"must have\",\n",
    "                           \"mustn't\": \"must not\", \"mustn't've\": \"must not have\", \"needn't\": \"need not\", \"needn't've\": \"need not have\",\"o'clock\": \"of the clock\",\n",
    "                           \"oughtn't\": \"ought not\", \"oughtn't've\": \"ought not have\", \"shan't\": \"shall not\", \"sha'n't\": \"shall not\", \"shan't've\": \"shall not have\",\n",
    "                           \"she'd\": \"she would\", \"she'd've\": \"she would have\", \"she'll\": \"she will\", \"she'll've\": \"she will have\", \"she's\": \"she is\",\n",
    "                           \"should've\": \"should have\", \"shouldn't\": \"should not\", \"shouldn't've\": \"should not have\", \"so've\": \"so have\",\"so's\": \"so as\",\n",
    "                           \"this's\": \"this is\",\"that'd\": \"that would\", \"that'd've\": \"that would have\", \"that's\": \"that is\", \"there'd\": \"there would\",\n",
    "                           \"there'd've\": \"there would have\", \"there's\": \"there is\", \"here's\": \"here is\",\"they'd\": \"they would\", \"they'd've\": \"they would have\",\n",
    "                           \"they'll\": \"they will\", \"they'll've\": \"they will have\", \"they're\": \"they are\", \"they've\": \"they have\", \"to've\": \"to have\",\n",
    "                           \"wasn't\": \"was not\", \"we'd\": \"we would\", \"we'd've\": \"we would have\", \"we'll\": \"we will\", \"we'll've\": \"we will have\", \"we're\": \"we are\",\n",
    "                           \"we've\": \"we have\", \"weren't\": \"were not\", \"what'll\": \"what will\", \"what'll've\": \"what will have\", \"what're\": \"what are\",\n",
    "                           \"what's\": \"what is\", \"what've\": \"what have\", \"when's\": \"when is\", \"when've\": \"when have\", \"where'd\": \"where did\", \"where's\": \"where is\",\n",
    "                           \"where've\": \"where have\", \"who'll\": \"who will\", \"who'll've\": \"who will have\", \"who's\": \"who is\", \"who've\": \"who have\",\n",
    "                           \"why's\": \"why is\", \"why've\": \"why have\", \"will've\": \"will have\", \"won't\": \"will not\", \"won't've\": \"will not have\",\n",
    "                           \"would've\": \"would have\", \"wouldn't\": \"would not\", \"wouldn't've\": \"would not have\", \"y'all\": \"you all\",\n",
    "                           \"y'all'd\": \"you all would\",\"y'all'd've\": \"you all would have\",\"y'all're\": \"you all are\",\"y'all've\": \"you all have\",\n",
    "                           \"you'd\": \"you would\", \"you'd've\": \"you would have\", \"you'll\": \"you will\", \"you'll've\": \"you will have\",\n",
    "                           \"you're\": \"you are\", \"you've\": \"you have\"}\n",
    "\n",
    "print(\"정규화 사전의 수: \", len(contractions))"
   ]
  },
  {
   "cell_type": "markdown",
   "id": "0dbdc6b9",
   "metadata": {},
   "source": [
    "I will, I'll과 같은 뜻이 같은 표현들은 연산량 조절을 위해 미리 제작된 정규화 딕셔너리를 사용하여 표현을 통일시켜 정규화를 진행하기로 한다.  \n",
    "또한 학습에 도움이 되지 않는 불용어를 확인하고 제거하는 작업을 진행한다."
   ]
  },
  {
   "cell_type": "code",
   "execution_count": 8,
   "id": "6e6cc9ea",
   "metadata": {},
   "outputs": [
    {
     "name": "stdout",
     "output_type": "stream",
     "text": [
      "불용어 개수 : 179\n",
      "['i', 'me', 'my', 'myself', 'we', 'our', 'ours', 'ourselves', 'you', \"you're\", \"you've\", \"you'll\", \"you'd\", 'your', 'yours', 'yourself', 'yourselves', 'he', 'him', 'his', 'himself', 'she', \"she's\", 'her', 'hers', 'herself', 'it', \"it's\", 'its', 'itself', 'they', 'them', 'their', 'theirs', 'themselves', 'what', 'which', 'who', 'whom', 'this', 'that', \"that'll\", 'these', 'those', 'am', 'is', 'are', 'was', 'were', 'be', 'been', 'being', 'have', 'has', 'had', 'having', 'do', 'does', 'did', 'doing', 'a', 'an', 'the', 'and', 'but', 'if', 'or', 'because', 'as', 'until', 'while', 'of', 'at', 'by', 'for', 'with', 'about', 'against', 'between', 'into', 'through', 'during', 'before', 'after', 'above', 'below', 'to', 'from', 'up', 'down', 'in', 'out', 'on', 'off', 'over', 'under', 'again', 'further', 'then', 'once', 'here', 'there', 'when', 'where', 'why', 'how', 'all', 'any', 'both', 'each', 'few', 'more', 'most', 'other', 'some', 'such', 'no', 'nor', 'not', 'only', 'own', 'same', 'so', 'than', 'too', 'very', 's', 't', 'can', 'will', 'just', 'don', \"don't\", 'should', \"should've\", 'now', 'd', 'll', 'm', 'o', 're', 've', 'y', 'ain', 'aren', \"aren't\", 'couldn', \"couldn't\", 'didn', \"didn't\", 'doesn', \"doesn't\", 'hadn', \"hadn't\", 'hasn', \"hasn't\", 'haven', \"haven't\", 'isn', \"isn't\", 'ma', 'mightn', \"mightn't\", 'mustn', \"mustn't\", 'needn', \"needn't\", 'shan', \"shan't\", 'shouldn', \"shouldn't\", 'wasn', \"wasn't\", 'weren', \"weren't\", 'won', \"won't\", 'wouldn', \"wouldn't\"]\n"
     ]
    }
   ],
   "source": [
    "# stopwords 영어 부분에 속해 있는 단어 개수 및 종류 확인\n",
    "print('불용어 개수 :', len(stopwords.words('english') ))\n",
    "print(stopwords.words('english'))"
   ]
  },
  {
   "cell_type": "markdown",
   "id": "bc66e0e4",
   "metadata": {},
   "source": [
    "stopwords에 들어있는 영문 불용어는 총 179개의 데이터가 있는 것을 알 수 있고, 우리는 데이터 전처리를 통해 데이터셋에 포함된 불용어를 제거할 것이다."
   ]
  },
  {
   "cell_type": "code",
   "execution_count": 9,
   "id": "ead0efe6",
   "metadata": {},
   "outputs": [],
   "source": [
    "# 데이터 전처리 함수\n",
    "def preprocess_sentence(sentence, remove_stopwords=True):\n",
    "    # 데이터를 소문자로 변환\n",
    "    sentence = sentence.lower()\n",
    "    # html 태그 제거\n",
    "    sentence = BeautifulSoup(sentence, \"lxml\").text\n",
    "    # 괄호 포함 그 안에 갇힌 문자열 제거\n",
    "    sentence = re.sub(r'\\([^)]*\\)', '', sentence)\n",
    "    # 쌍따옴표 제거\n",
    "    sentence = re.sub('\"','', sentence)\n",
    "    # 약어 정규화\n",
    "    sentence = ' '.join([contractions[t] if t in contractions else t for t in sentence.split(\" \")])\n",
    "    # 소유격 제거\n",
    "    sentence = re.sub(r\"'s\\b\",\"\", sentence)\n",
    "    # 영어 외의 문자를 공백으로 변환\n",
    "    sentence = re.sub(\"[^a-zA-Z]\", \" \", sentence)\n",
    "    # m이 세 개 이상 들어가면 mm으로 변환\n",
    "    sentence = re.sub('[m]{2,}', 'mm', sentence)\n",
    "    \n",
    "    # remove_stopwords를 flag로 text와 headlines를 구분\n",
    "    # 불용어 제거 (text)\n",
    "    if remove_stopwords:\n",
    "        tokens = ' '.join(word for word in sentence.split() if not word in stopwords.words('english') if len(word) > 1)\n",
    "    # 불용어 미제거 (headlines)\n",
    "    else:\n",
    "        tokens = ' '.join(word for word in sentence.split() if len(word) > 1)\n",
    "    return tokens"
   ]
  },
  {
   "cell_type": "markdown",
   "id": "de4b433e",
   "metadata": {},
   "source": [
    "실제 데이터셋을 전처리 하기 전에 정의한 함수가 잘 동작하는지 확인해본다."
   ]
  },
  {
   "cell_type": "code",
   "execution_count": 10,
   "id": "49a3d491",
   "metadata": {},
   "outputs": [
    {
     "name": "stdout",
     "output_type": "stream",
     "text": [
      "text:  everything bought great infact ordered twice third ordered wasfor mother father\n",
      "summary: great way to start the day\n"
     ]
    }
   ],
   "source": [
    "temp_text = 'Everything I bought was great, infact I ordered twice and the third ordered was<br />for my mother and father.'\n",
    "temp_summary = 'Great way to start (or finish) the day!!!'\n",
    "\n",
    "print(\"text: \", preprocess_sentence(temp_text))\n",
    "print(\"summary:\", preprocess_sentence(temp_summary, False))"
   ]
  },
  {
   "cell_type": "markdown",
   "id": "3dd2f941",
   "metadata": {},
   "source": [
    "전처리 함수에 설계한대로 임의의 데이터가 올바르게 변환되었으므로 실제 데이터셋의 전처리를 진행한다."
   ]
  },
  {
   "cell_type": "code",
   "execution_count": 11,
   "id": "b5ac92b0",
   "metadata": {},
   "outputs": [
    {
     "name": "stdout",
     "output_type": "stream",
     "text": [
      "text 전처리 결과:  ['saurav kant alumnus upgrad iiit pg program machine learning artificial intelligence sr systems engineer infosys almost years work experience program upgrad degree career support helped transition data scientist tech mahindra salary hike upgrad online power learning powered lakh careers', 'kunal shah credit card bill payment platform cred gave users chance win free food swiggy one year pranav kaushik delhi techie bagged reward spending cred coins users get one cred coin per rupee bill paid used avail rewards brands like ixigo bookmyshow ubereats cult fit', 'new zealand defeated india wickets fourth odi hamilton thursday win first match five match odi series india lost international match rohit sharma captaincy consecutive victories dating back march match witnessed india getting seventh lowest total odi cricket history', 'aegon life iterm insurance plan customers enjoy tax benefits premiums paid save taxes plan provides life cover age years also customers options insure critical illnesses disability accidental death benefit rider life cover age years', 'speaking sexual harassment allegations rajkumar hirani sonam kapoor said known hirani many years true metoo movement get derailed metoo movement always believe woman case need reserve judgment added hirani accused assistant worked sanju']\n",
      "headlines 전처리 결과:  ['upgrad learner switches to career in ml al with salary hike', 'delhi techie wins free food from swiggy for one year on cred', 'new zealand end rohit sharma led india match winning streak', 'aegon life iterm insurance plan helps customers save tax', 'have known hirani for yrs what if metoo claims are not true sonam']\n"
     ]
    }
   ],
   "source": [
    "clean_text = []\n",
    "clean_headlines = []\n",
    "\n",
    "# text 데이터 전처리 진행 - 불용어 제거\n",
    "for i in data['text']:\n",
    "    clean_text.append(preprocess_sentence(i))\n",
    "    \n",
    "# headlines 데이터 전처리 진행 - 불용어 미제거\n",
    "for i in data['headlines']:\n",
    "    clean_headlines.append(preprocess_sentence(i, False))\n",
    "\n",
    "\n",
    "# 각각의 데이터 일부 전처리 확인\n",
    "print('text 전처리 결과: ', clean_text[:5])\n",
    "print('headlines 전처리 결과: ', clean_headlines[:5])"
   ]
  },
  {
   "cell_type": "code",
   "execution_count": 12,
   "id": "e5ab75c4",
   "metadata": {},
   "outputs": [],
   "source": [
    "data['text'] = clean_text\n",
    "data['headlines'] = clean_headlines\n",
    "\n",
    "# 빈 값을 Null 값으로 변환\n",
    "data.replace('', np.nan, inplace=True)"
   ]
  },
  {
   "cell_type": "markdown",
   "id": "1e9a23ac",
   "metadata": {},
   "source": [
    "정제 과정에서 문장의 모든 단어가 사라지는 경우가 있기 때문에 빈 값을 가진 샘플의 값을 Null로 대체하는 작업을 한다."
   ]
  },
  {
   "cell_type": "code",
   "execution_count": 13,
   "id": "0d21601c",
   "metadata": {},
   "outputs": [
    {
     "data": {
      "text/plain": [
       "headlines    0\n",
       "text         0\n",
       "dtype: int64"
      ]
     },
     "execution_count": 13,
     "metadata": {},
     "output_type": "execute_result"
    }
   ],
   "source": [
    "data.isnull().sum()"
   ]
  },
  {
   "cell_type": "code",
   "execution_count": 14,
   "id": "53b13056",
   "metadata": {},
   "outputs": [
    {
     "name": "stdout",
     "output_type": "stream",
     "text": [
      "텍스트의 최소 길이 : 1\n",
      "텍스트의 최대 길이 : 60\n",
      "텍스트의 평균 길이 : 35.09968483123221\n",
      "헤드라인의 최소 길이 : 1\n",
      "헤드라인의 최대 길이 : 16\n",
      "헤드라인의 평균 길이 : 9.299532330215534\n"
     ]
    },
    {
     "data": {
      "image/png": "[encoded data removed]",
      "text/plain": [
       "<Figure size 432x288 with 2 Axes>"
      ]
     },
     "metadata": {
      "needs_background": "light"
     },
     "output_type": "display_data"
    },
    {
     "data": {
      "image/png": "[encoded data removed]",
      "text/plain": [
       "<Figure size 432x288 with 1 Axes>"
      ]
     },
     "metadata": {
      "needs_background": "light"
     },
     "output_type": "display_data"
    },
    {
     "data": {
      "image/png": "[encoded data removed]",
      "text/plain": [
       "<Figure size 432x288 with 1 Axes>"
      ]
     },
     "metadata": {
      "needs_background": "light"
     },
     "output_type": "display_data"
    }
   ],
   "source": [
    "import matplotlib.pyplot as plt\n",
    "\n",
    "# 각 로우 별 샘플 개수\n",
    "text_len = [len(s.split()) for s in data['text']]\n",
    "headlines_len = [len(s.split()) for s in data['headlines']]\n",
    "\n",
    "print('텍스트의 최소 길이 : {}'.format(np.min(text_len)))\n",
    "print('텍스트의 최대 길이 : {}'.format(np.max(text_len)))\n",
    "print('텍스트의 평균 길이 : {}'.format(np.mean(text_len)))\n",
    "print('헤드라인의 최소 길이 : {}'.format(np.min(headlines_len)))\n",
    "print('헤드라인의 최대 길이 : {}'.format(np.max(headlines_len)))\n",
    "print('헤드라인의 평균 길이 : {}'.format(np.mean(headlines_len)))\n",
    "\n",
    "# text와 headline 샘플의 분포 시각화\n",
    "plt.subplot(1,2,1)\n",
    "plt.boxplot(text_len)\n",
    "plt.title('text')\n",
    "plt.subplot(1,2,2)\n",
    "plt.boxplot(headlines_len)\n",
    "plt.title('headlines')\n",
    "plt.tight_layout()\n",
    "plt.show()\n",
    "\n",
    "plt.title('text')\n",
    "plt.hist(text_len, bins = 40)\n",
    "plt.xlabel('length of samples')\n",
    "plt.ylabel('number of samples')\n",
    "plt.show()\n",
    "\n",
    "plt.title('headlines')\n",
    "plt.hist(headlines_len, bins = 40)\n",
    "plt.xlabel('length of samples')\n",
    "plt.ylabel('number of samples')\n",
    "plt.show()"
   ]
  },
  {
   "cell_type": "markdown",
   "id": "98a75c19",
   "metadata": {},
   "source": [
    "text의 경우 샘플의 길이는 1부터 60까지로 평균 값은 약 35를 가지고, headlines의 경우 샘플의 길이는 1부터 16까지 평균은 약 9를 가진다."
   ]
  },
  {
   "cell_type": "code",
   "execution_count": 15,
   "id": "70bd84a1",
   "metadata": {},
   "outputs": [],
   "source": [
    "# 패딩 값을 정하기 위해 지정 값 이하의 샘플 수의 비율을 찾는 함수 정의\n",
    "def below_threshold_len(max_len, nested_list):\n",
    "  cnt = 0\n",
    "  for s in nested_list:\n",
    "    if(len(s.split()) <= max_len):\n",
    "        cnt = cnt + 1\n",
    "  print('전체 샘플 중 길이가 %s 이하인 샘플의 비율: %s'%(max_len, (cnt / len(nested_list))))"
   ]
  },
  {
   "cell_type": "code",
   "execution_count": 16,
   "id": "935390c1",
   "metadata": {},
   "outputs": [
    {
     "name": "stdout",
     "output_type": "stream",
     "text": [
      "전체 샘플 중 길이가 35 이하인 샘플의 비율: 0.5412464416429443\n",
      "전체 샘플 중 길이가 9 이하인 샘플의 비율: 0.5666022773485156\n"
     ]
    }
   ],
   "source": [
    "# 일단 평균값인 35와 9로 지정\n",
    "below_threshold_len(35, data['text'])\n",
    "below_threshold_len(9,  data['headlines'])"
   ]
  },
  {
   "cell_type": "code",
   "execution_count": 17,
   "id": "a2b8af24",
   "metadata": {},
   "outputs": [
    {
     "name": "stdout",
     "output_type": "stream",
     "text": [
      "전체 샘플 중 길이가 60 이하인 샘플의 비율: 1.0\n",
      "전체 샘플 중 길이가 16 이하인 샘플의 비율: 1.0\n"
     ]
    }
   ],
   "source": [
    "# 최댓값인 60과 16으로 지정\n",
    "below_threshold_len(60, data['text'])\n",
    "below_threshold_len(16,  data['headlines'])"
   ]
  },
  {
   "cell_type": "code",
   "execution_count": 18,
   "id": "d397d791",
   "metadata": {},
   "outputs": [
    {
     "name": "stdout",
     "output_type": "stream",
     "text": [
      "전체 샘플 중 길이가 40 이하인 샘플의 비율: 0.9238714924766165\n",
      "전체 샘플 중 길이가 12 이하인 샘플의 비율: 0.9880337535583571\n"
     ]
    }
   ],
   "source": [
    "# 그래프를 확인하여 임의의 값인 40과 12로 지정\n",
    "below_threshold_len(40, data['text'])\n",
    "below_threshold_len(12,  data['headlines'])"
   ]
  },
  {
   "cell_type": "code",
   "execution_count": 19,
   "id": "edec29fd",
   "metadata": {},
   "outputs": [
    {
     "name": "stdout",
     "output_type": "stream",
     "text": [
      "전체 샘플 중 길이가 38 이하인 샘플의 비율: 0.8163379422529483\n",
      "전체 샘플 중 길이가 11 이하인 샘플의 비율: 0.9449877999186661\n"
     ]
    }
   ],
   "source": [
    "# 그래프를 확인하여 임의의 값인 38과 11로 지정\n",
    "below_threshold_len(38, data['text'])\n",
    "below_threshold_len(11,  data['headlines'])"
   ]
  },
  {
   "cell_type": "markdown",
   "id": "9f16cda2",
   "metadata": {},
   "source": [
    "적절한 최대 길이는 각각 38과 11로 지정하는 것이 적당할 것 같다."
   ]
  },
  {
   "cell_type": "code",
   "execution_count": 20,
   "id": "75aa0b32",
   "metadata": {},
   "outputs": [],
   "source": [
    "text_max_len = 38\n",
    "headlines_max_len = 11"
   ]
  },
  {
   "cell_type": "code",
   "execution_count": 21,
   "id": "d693305b",
   "metadata": {},
   "outputs": [
    {
     "name": "stdout",
     "output_type": "stream",
     "text": [
      "전체 샘플수 : 75754\n"
     ]
    }
   ],
   "source": [
    "# 길이가 38보다 긴 샘플을 공백으로 치환\n",
    "data['text'] = data['text'].apply(lambda x: x if len(x.split()) <= text_max_len else '')\n",
    "# 길이가 11보다 긴 샘플을 공백으로 치환\n",
    "data['headlines'] = data['headlines'].apply(lambda x: x if len(x.split()) <= headlines_max_len else '')\n",
    "\n",
    "# 공백인 샘플을 NaN으로 치환\n",
    "data = data.replace('', np.nan)\n",
    "# NaN 값인 샘플 제거\n",
    "data.dropna(axis=0, inplace=True)\n",
    "\n",
    "print('전체 샘플수 :', (len(data)))"
   ]
  },
  {
   "cell_type": "markdown",
   "id": "35773c2a",
   "metadata": {},
   "source": [
    "데이터 길이를 정제하는 작업을 통해 샘플의 수가 98,360개에서 75,754개로 감량되었다."
   ]
  },
  {
   "cell_type": "code",
   "execution_count": 22,
   "id": "55d3375e",
   "metadata": {},
   "outputs": [
    {
     "data": {
      "text/html": [
       "<div>\n",
       "<style scoped>\n",
       "    .dataframe tbody tr th:only-of-type {\n",
       "        vertical-align: middle;\n",
       "    }\n",
       "\n",
       "    .dataframe tbody tr th {\n",
       "        vertical-align: top;\n",
       "    }\n",
       "\n",
       "    .dataframe thead th {\n",
       "        text-align: right;\n",
       "    }\n",
       "</style>\n",
       "<table border=\"1\" class=\"dataframe\">\n",
       "  <thead>\n",
       "    <tr style=\"text-align: right;\">\n",
       "      <th></th>\n",
       "      <th>headlines</th>\n",
       "      <th>text</th>\n",
       "      <th>decoder_input</th>\n",
       "      <th>decoder_target</th>\n",
       "    </tr>\n",
       "  </thead>\n",
       "  <tbody>\n",
       "    <tr>\n",
       "      <th>2</th>\n",
       "      <td>new zealand end rohit sharma led india match w...</td>\n",
       "      <td>new zealand defeated india wickets fourth odi ...</td>\n",
       "      <td>sostoken new zealand end rohit sharma led indi...</td>\n",
       "      <td>new zealand end rohit sharma led india match w...</td>\n",
       "    </tr>\n",
       "    <tr>\n",
       "      <th>3</th>\n",
       "      <td>aegon life iterm insurance plan helps customer...</td>\n",
       "      <td>aegon life iterm insurance plan customers enjo...</td>\n",
       "      <td>sostoken aegon life iterm insurance plan helps...</td>\n",
       "      <td>aegon life iterm insurance plan helps customer...</td>\n",
       "    </tr>\n",
       "    <tr>\n",
       "      <th>5</th>\n",
       "      <td>rahat fateh ali khan denies getting notice for...</td>\n",
       "      <td>pakistani singer rahat fateh ali khan denied r...</td>\n",
       "      <td>sostoken rahat fateh ali khan denies getting n...</td>\n",
       "      <td>rahat fateh ali khan denies getting notice for...</td>\n",
       "    </tr>\n",
       "    <tr>\n",
       "      <th>7</th>\n",
       "      <td>govt directs alok verma to join work day befor...</td>\n",
       "      <td>weeks ex cbi director alok verma told departme...</td>\n",
       "      <td>sostoken govt directs alok verma to join work ...</td>\n",
       "      <td>govt directs alok verma to join work day befor...</td>\n",
       "    </tr>\n",
       "    <tr>\n",
       "      <th>8</th>\n",
       "      <td>called pm modi sir times to satisfy his ego an...</td>\n",
       "      <td>andhra pradesh cm chandrababu naidu said met u...</td>\n",
       "      <td>sostoken called pm modi sir times to satisfy h...</td>\n",
       "      <td>called pm modi sir times to satisfy his ego an...</td>\n",
       "    </tr>\n",
       "  </tbody>\n",
       "</table>\n",
       "</div>"
      ],
      "text/plain": [
       "                                           headlines  \\\n",
       "2  new zealand end rohit sharma led india match w...   \n",
       "3  aegon life iterm insurance plan helps customer...   \n",
       "5  rahat fateh ali khan denies getting notice for...   \n",
       "7  govt directs alok verma to join work day befor...   \n",
       "8  called pm modi sir times to satisfy his ego an...   \n",
       "\n",
       "                                                text  \\\n",
       "2  new zealand defeated india wickets fourth odi ...   \n",
       "3  aegon life iterm insurance plan customers enjo...   \n",
       "5  pakistani singer rahat fateh ali khan denied r...   \n",
       "7  weeks ex cbi director alok verma told departme...   \n",
       "8  andhra pradesh cm chandrababu naidu said met u...   \n",
       "\n",
       "                                       decoder_input  \\\n",
       "2  sostoken new zealand end rohit sharma led indi...   \n",
       "3  sostoken aegon life iterm insurance plan helps...   \n",
       "5  sostoken rahat fateh ali khan denies getting n...   \n",
       "7  sostoken govt directs alok verma to join work ...   \n",
       "8  sostoken called pm modi sir times to satisfy h...   \n",
       "\n",
       "                                      decoder_target  \n",
       "2  new zealand end rohit sharma led india match w...  \n",
       "3  aegon life iterm insurance plan helps customer...  \n",
       "5  rahat fateh ali khan denies getting notice for...  \n",
       "7  govt directs alok verma to join work day befor...  \n",
       "8  called pm modi sir times to satisfy his ego an...  "
      ]
     },
     "execution_count": 22,
     "metadata": {},
     "output_type": "execute_result"
    }
   ],
   "source": [
    "# headlines의 샘플마다 앞/뒤에 토큰을 붙여 새로운 컬럼에 추가\n",
    "data['decoder_input'] = data['headlines'].apply(lambda x : 'sostoken '+ x)\n",
    "data['decoder_target'] = data['headlines'].apply(lambda x : x + ' eostoken')\n",
    "data.head()"
   ]
  },
  {
   "cell_type": "markdown",
   "id": "05de3769",
   "metadata": {},
   "source": [
    "seeq2seq 훈련을 위해서는 디코더의 입력과 레이블에 sos 토큰과 eos 토큰을 추가해야 한다. 디코더의 입력에 해당하며 맨 앞에 시작 토큰이 있는 문장의 이름을 decoder_input, 디코더의 레이블에 해당하면서 맨 뒤에 종료 토큰이 붙은 문장 이름을 decoder_target이라고 명명한다."
   ]
  },
  {
   "cell_type": "code",
   "execution_count": 23,
   "id": "45a9c82a",
   "metadata": {},
   "outputs": [
    {
     "name": "stdout",
     "output_type": "stream",
     "text": [
      "['new zealand defeated india wickets fourth odi hamilton thursday win first match five match odi series india lost international match rohit sharma captaincy consecutive victories dating back march match witnessed india getting seventh lowest total odi cricket history'\n",
      " 'aegon life iterm insurance plan customers enjoy tax benefits premiums paid save taxes plan provides life cover age years also customers options insure critical illnesses disability accidental death benefit rider life cover age years'\n",
      " 'pakistani singer rahat fateh ali khan denied receiving notice enforcement directorate allegedly smuggling foreign currency india would better authorities would served notice first publicised reads press release issued behalf rahat statement called allegation bizarre'\n",
      " ...\n",
      " 'uff yeh first song sonakshi sinha starrer upcoming drama film noor released song composed amaal mallik vocals armaan malik lyrics manoj muntashir sonakshi seen portraying pakistani journalist writer film directed sunhil sippy film scheduled release april'\n",
      " 'according reports new version science fiction film matrix development michael jordan reportedly play lead role film screenwriter zak penn talks write script film reports added actor keanu reeves starred original film followed two sequels'\n",
      " 'madhesi morcha alliance seven political parties withdrawn support pm pushpa kamal dahal led nepal government failed meet seven day ultimatum fulfil demands including endorsement revised constitution amendment bill morcha seats parliament despite withdrawal support immediate threat government']\n",
      "['sostoken new zealand end rohit sharma led india match winning streak'\n",
      " 'sostoken aegon life iterm insurance plan helps customers save tax'\n",
      " 'sostoken rahat fateh ali khan denies getting notice for smuggling currency'\n",
      " ... 'sostoken first song from sonakshi sinha noor titled uff yeh out'\n",
      " 'sostoken the matrix film to get reboot reports'\n",
      " 'sostoken madhesi morcha withdraws support to nepalese government']\n",
      "['new zealand end rohit sharma led india match winning streak eostoken'\n",
      " 'aegon life iterm insurance plan helps customers save tax eostoken'\n",
      " 'rahat fateh ali khan denies getting notice for smuggling currency eostoken'\n",
      " ... 'first song from sonakshi sinha noor titled uff yeh out eostoken'\n",
      " 'the matrix film to get reboot reports eostoken'\n",
      " 'madhesi morcha withdraws support to nepalese government eostoken']\n"
     ]
    }
   ],
   "source": [
    "encoder_input = np.array(data['text']) # 인코더의 입력\n",
    "decoder_input = np.array(data['decoder_input']) # 디코더의 입력\n",
    "decoder_target = np.array(data['decoder_target']) # 디코더의 레이블\n",
    "\n",
    "print(encoder_input)\n",
    "print(decoder_input)\n",
    "print(decoder_target)"
   ]
  },
  {
   "cell_type": "markdown",
   "id": "efd7ebf6",
   "metadata": {},
   "source": [
    "인코더와 디코더의 입력과 디코더의 레이블을 각각 배열의 형태로 변환해준다."
   ]
  },
  {
   "cell_type": "code",
   "execution_count": 24,
   "id": "22f345de",
   "metadata": {},
   "outputs": [
    {
     "data": {
      "text/plain": [
       "(75754,)"
      ]
     },
     "execution_count": 24,
     "metadata": {},
     "output_type": "execute_result"
    }
   ],
   "source": [
    "encoder_input.shape"
   ]
  },
  {
   "cell_type": "code",
   "execution_count": 25,
   "id": "c1fe3443",
   "metadata": {},
   "outputs": [
    {
     "name": "stdout",
     "output_type": "stream",
     "text": [
      "[65453 57863 15220 ...  9016 12891 55174]\n"
     ]
    }
   ],
   "source": [
    "# 샘플의 개수 크기의 변수 정의\n",
    "indices = np.arange(encoder_input.shape[0])\n",
    "# 각 인덱스 섞기\n",
    "np.random.shuffle(indices)\n",
    "print(indices)"
   ]
  },
  {
   "cell_type": "markdown",
   "id": "3e866697",
   "metadata": {},
   "source": [
    "샘플의 크기와 형태가 같은 순서가 섞인 정수 시퀀스가 만들어졌다. 이 정수 시퀀스를 사용하여 데이터의 샘플 순서를 정의하면 잘 섞인 샘플이 될 것이다."
   ]
  },
  {
   "cell_type": "code",
   "execution_count": 26,
   "id": "7bb908b0",
   "metadata": {},
   "outputs": [],
   "source": [
    "# 섞인 인덱스로 각 샘플 재정의\n",
    "encoder_input = encoder_input[indices]\n",
    "decoder_input = decoder_input[indices]\n",
    "decoder_target = decoder_target[indices]"
   ]
  },
  {
   "cell_type": "code",
   "execution_count": 27,
   "id": "ee61500f",
   "metadata": {},
   "outputs": [
    {
     "name": "stdout",
     "output_type": "stream",
     "text": [
      "검증 데이터의 수 : 15150\n"
     ]
    }
   ],
   "source": [
    "# 샘플 개수의 20%\n",
    "n_of_val = int(len(encoder_input)*0.2)\n",
    "print('검증 데이터의 수 :', n_of_val)"
   ]
  },
  {
   "cell_type": "code",
   "execution_count": 28,
   "id": "06f5b274",
   "metadata": {},
   "outputs": [
    {
     "name": "stdout",
     "output_type": "stream",
     "text": [
      "훈련 데이터의 개수 : 60604\n",
      "훈련 레이블의 개수 : 60604\n",
      "테스트 데이터의 개수 : 15150\n",
      "테스트 레이블의 개수 : 15150\n"
     ]
    }
   ],
   "source": [
    "# 0부터 샘플의 뒤에서 20%지점까지의 데이터\n",
    "encoder_input_train = encoder_input[:-n_of_val]\n",
    "decoder_input_train = decoder_input[:-n_of_val]\n",
    "decoder_target_train = decoder_target[:-n_of_val]\n",
    "\n",
    "# 샘플의 뒤에서 20%지점부터 끝까지의 데이터\n",
    "encoder_input_test = encoder_input[-n_of_val:]\n",
    "decoder_input_test = decoder_input[-n_of_val:]\n",
    "decoder_target_test = decoder_target[-n_of_val:]\n",
    "\n",
    "print('훈련 데이터의 개수 :', len(encoder_input_train))\n",
    "print('훈련 레이블의 개수 :', len(decoder_input_train))\n",
    "print('테스트 데이터의 개수 :', len(encoder_input_test))\n",
    "print('테스트 레이블의 개수 :', len(decoder_input_test))"
   ]
  },
  {
   "cell_type": "markdown",
   "id": "1c6b1f9c",
   "metadata": {},
   "source": [
    "학습 데이터와 검증 데이터가 8:2의 비율로 나뉜 것을 확인할 수 있다."
   ]
  },
  {
   "cell_type": "code",
   "execution_count": 29,
   "id": "7c3a64be",
   "metadata": {},
   "outputs": [],
   "source": [
    "# keras의 토크나이저 정의\n",
    "src_tokenizer = Tokenizer()\n",
    "# 입력된 학습 데이터로 단어집합 생성\n",
    "src_tokenizer.fit_on_texts(encoder_input_train)\n",
    "\n",
    "tar_tokenizer = Tokenizer()\n",
    "# 입력된 학습 레이블로 단어집합 생성\n",
    "tar_tokenizer.fit_on_texts(decoder_input_train)"
   ]
  },
  {
   "cell_type": "markdown",
   "id": "c2f96687",
   "metadata": {},
   "source": [
    "학습을 위해서는 데이터를 각각의 샘플이 고유한 정수와 매핑된 **단어 집합**을 만드는 작업이 필요하다.  \n",
    "keras의 Tokenizer 모듈을 이용하면 단어 집합이 생성되는 동시에 각 단어에 고유한 정수가 부여되고, 이는 src_tokenizer.word_index와 tar_tokenizer.word_index 저장이 되어 있다."
   ]
  },
  {
   "cell_type": "code",
   "execution_count": 30,
   "id": "02d8f105",
   "metadata": {},
   "outputs": [],
   "source": [
    "# 희소 단어의 빈도 수를 확인할 수 있는 함수 정의\n",
    "def count_rare(tokenizer):\n",
    "    # 기준 빈도 수\n",
    "    threshold = 7\n",
    "    # 총 단어 수\n",
    "    total_cnt = len(tokenizer.word_index)\n",
    "    # 기준 빈도 수 이하의 단어 빈도 수\n",
    "    rare_cnt = 0\n",
    "    # 훈련 데이터 전체 단어 빈도 수 총합\n",
    "    total_freq = 0\n",
    "    # 기준 빈도 수 이하의 단어 빈도 수 총합\n",
    "    rare_freq = 0\n",
    "\n",
    "    # 단어와 빈도수의 쌍(pair)을 key와 value로 받는다.\n",
    "    for key, value in tokenizer.word_counts.items():\n",
    "        total_freq += value\n",
    "\n",
    "        # 단어의 등장 빈도수가 threshold보다 작을 경우 조건문\n",
    "        if(value < threshold):\n",
    "            rare_cnt += 1\n",
    "            rare_freq += value\n",
    "\n",
    "    print('단어 집합(vocabulary)의 크기 :', total_cnt)\n",
    "    print('등장 빈도가 %s번 이하인 희귀 단어의 수: %s'%(threshold - 1, rare_cnt))\n",
    "    print('단어 집합에서 희귀 단어를 제외시킬 경우의 단어 집합의 크기 %s'%(total_cnt - rare_cnt))\n",
    "    print(\"단어 집합에서 희귀 단어의 비율:\", (rare_cnt / total_cnt)*100)\n",
    "    print(\"전체 등장 빈도에서 희귀 단어 등장 빈도 비율:\", (rare_freq / total_freq)*100)"
   ]
  },
  {
   "cell_type": "code",
   "execution_count": 31,
   "id": "ec7a973c",
   "metadata": {},
   "outputs": [
    {
     "name": "stdout",
     "output_type": "stream",
     "text": [
      "단어 집합(vocabulary)의 크기 : 60199\n",
      "등장 빈도가 6번 이하인 희귀 단어의 수: 41128\n",
      "단어 집합에서 희귀 단어를 제외시킬 경우의 단어 집합의 크기 19071\n",
      "단어 집합에서 희귀 단어의 비율: 68.3200717619894\n",
      "전체 등장 빈도에서 희귀 단어 등장 빈도 비율: 4.080263357141361\n"
     ]
    }
   ],
   "source": [
    "count_rare(src_tokenizer)"
   ]
  },
  {
   "cell_type": "markdown",
   "id": "b8274f10",
   "metadata": {},
   "source": [
    "등장 빈도가 6회 이하인 단어들은 단어집합에서 약 68%를 차지한다. 하지만 전체 훈련 데이터에서는 약 4%밖에 차지하지 않기 때문에 빈도 수가 낮은 단어들을 원할한 훈련을 위해 정수 인코딩 과정에서 배제 시키기로 한다.  \n",
    "이를 제외한 단어 집합의 크기가 19,057이므로 단어집합의 크기를 19,000으로 제한해보도록 한다."
   ]
  },
  {
   "cell_type": "code",
   "execution_count": 32,
   "id": "a3961acc",
   "metadata": {},
   "outputs": [],
   "source": [
    "src_vocab = 19000\n",
    "# 단어 집합의 크기를 19000으로 제한\n",
    "src_tokenizer = Tokenizer(num_words=src_vocab)\n",
    "# 단어 집합 재정의\n",
    "src_tokenizer.fit_on_texts(encoder_input_train)"
   ]
  },
  {
   "cell_type": "code",
   "execution_count": 33,
   "id": "6ad428d4",
   "metadata": {},
   "outputs": [
    {
     "name": "stdout",
     "output_type": "stream",
     "text": [
      "단어 집합(vocabulary)의 크기 : 27107\n",
      "등장 빈도가 6번 이하인 희귀 단어의 수: 18877\n",
      "단어 집합에서 희귀 단어를 제외시킬 경우의 단어 집합의 크기 8230\n",
      "단어 집합에서 희귀 단어의 비율: 69.63883867635666\n",
      "전체 등장 빈도에서 희귀 단어 등장 빈도 비율: 6.396784493591968\n"
     ]
    }
   ],
   "source": [
    "count_rare(tar_tokenizer)"
   ]
  },
  {
   "cell_type": "markdown",
   "id": "e0f6a87b",
   "metadata": {},
   "source": [
    "학습 데이터와 마찬가지로 학습 레이블의 수도 희소 단어를 제외한 약 8000개로 제한한다."
   ]
  },
  {
   "cell_type": "code",
   "execution_count": 34,
   "id": "74b549a6",
   "metadata": {},
   "outputs": [],
   "source": [
    "tar_vocab = 8000\n",
    "tar_tokenizer = Tokenizer(num_words=tar_vocab)\n",
    "\n",
    "# decoder 입력 데이터와 레이블 재정의\n",
    "tar_tokenizer.fit_on_texts(decoder_input_train)\n",
    "tar_tokenizer.fit_on_texts(decoder_target_train)"
   ]
  },
  {
   "cell_type": "code",
   "execution_count": 35,
   "id": "76912f64",
   "metadata": {},
   "outputs": [
    {
     "name": "stdout",
     "output_type": "stream",
     "text": [
      "encoder_input_train: [[32, 19, 69, 57, 390, 7596, 296, 279, 5200, 54, 4660, 1329, 36, 1947, 6312, 453, 6227, 5200, 171, 17, 425, 794, 37, 464, 5821, 4851, 282, 5200, 114, 951, 650, 199], [612, 3940, 3669, 1031, 930, 391, 4, 2207, 155, 217, 93, 12481, 4425, 1903, 2058, 4959, 14191, 89, 175, 217, 173, 3758, 11, 343, 175, 1575, 384, 175, 217, 2464, 636, 790, 16683, 154], [1034, 546, 375, 147, 4808, 817, 1260, 82, 1, 2350, 1677, 8383, 471, 215, 3855, 579, 802, 437, 471, 1, 744, 740, 2, 1260, 1, 278, 5560, 135, 193, 4808]]\n",
      "decoder_input_train: [[1, 3645, 281, 171, 66, 4, 950, 641], [1, 144, 19, 225, 282, 7, 1251, 314, 91, 828], [1, 1974, 1158, 7, 2563, 3, 3762, 10, 7550, 6, 1401, 595], [1, 270, 158, 3, 67, 173, 430, 1382], [1, 48, 1159, 447, 107, 14, 248, 67, 745, 5, 1519]]\n",
      "decoder_target_train: [[3645, 281, 171, 66, 4, 950, 641, 2], [144, 19, 225, 282, 7, 1251, 314, 91, 828, 2], [1974, 1158, 7, 2563, 3, 3762, 10, 7550, 6, 1401, 595, 2], [270, 158, 3, 67, 173, 430, 1382, 2], [48, 1159, 447, 107, 14, 248, 67, 745, 5, 1519, 2]]\n"
     ]
    }
   ],
   "source": [
    "# 텍스트 시퀀스를 정수 시퀀스로 변환\n",
    "encoder_input_train = src_tokenizer.texts_to_sequences(encoder_input_train) \n",
    "encoder_input_test = src_tokenizer.texts_to_sequences(encoder_input_test)\n",
    "\n",
    "decoder_input_train = tar_tokenizer.texts_to_sequences(decoder_input_train) \n",
    "decoder_target_train = tar_tokenizer.texts_to_sequences(decoder_target_train)\n",
    "\n",
    "decoder_input_test = tar_tokenizer.texts_to_sequences(decoder_input_test)\n",
    "decoder_target_test = tar_tokenizer.texts_to_sequences(decoder_target_test)\n",
    "\n",
    "print(f'encoder_input_train: {encoder_input_train[:3]}')\n",
    "print(f'decoder_input_train: {decoder_input_train[:5]}')\n",
    "print(f'decoder_target_train: {decoder_target_train[:5]}')"
   ]
  },
  {
   "cell_type": "markdown",
   "id": "322dcfa2",
   "metadata": {},
   "source": [
    "각각의 데이터가 텍스트가 아닌 정수형으로 올바르게 변환된 것을 확인할 수 있다."
   ]
  },
  {
   "cell_type": "markdown",
   "id": "632ab439",
   "metadata": {},
   "source": [
    "데이터를 다시 점검하여 빈 데이터를 걸러내는 작업을 해보도록 한다.  \n",
    "애초에 headlines 데이터의 평균 길이가 9밖에 되지 않아 빈 값이 생겼을 가능성이 있다. 이 같은 경우에는 0이 아니라 1이 되는데, 그 이유는 decoder_input과 decoder_target에는 각각 sostoken과 eostoken이 추가가 되었고 이 토큰의 빈도는 샘플 수와 동일하기에 제거되지 않았기 때문이다.  \n",
    "그래서 headlines의 길이가 1인 인덱스를 추출하여 제거하는 작업이 필요하다."
   ]
  },
  {
   "cell_type": "code",
   "execution_count": 36,
   "id": "53c1027b",
   "metadata": {},
   "outputs": [
    {
     "name": "stdout",
     "output_type": "stream",
     "text": [
      "삭제할 훈련 데이터의 개수 : 1\n",
      "삭제할 테스트 데이터의 개수 : 0\n",
      "훈련 데이터의 개수 : 60603\n",
      "훈련 레이블의 개수 : 60603\n",
      "테스트 데이터의 개수 : 15150\n",
      "테스트 레이블의 개수 : 15150\n"
     ]
    }
   ],
   "source": [
    "# decoder_input_train에서 값이 1인 인덱스 추출\n",
    "drop_train = [index for index, sentence in enumerate(decoder_input_train) if len(sentence) == 1]\n",
    "# decoder_input_test에서 값이 1인 인덱스 추출\n",
    "drop_test = [index for index, sentence in enumerate(decoder_input_test) if len(sentence) == 1]\n",
    "\n",
    "print('삭제할 훈련 데이터의 개수 :', len(drop_train))\n",
    "print('삭제할 테스트 데이터의 개수 :', len(drop_test))\n",
    "\n",
    "# 각각의 데이터에서 추출한 인덱스에 해당하는 값 제거\n",
    "encoder_input_train = [sentence for index, sentence in enumerate(encoder_input_train) if index not in drop_train]\n",
    "decoder_input_train = [sentence for index, sentence in enumerate(decoder_input_train) if index not in drop_train]\n",
    "decoder_target_train = [sentence for index, sentence in enumerate(decoder_target_train) if index not in drop_train]\n",
    "\n",
    "encoder_input_test = [sentence for index, sentence in enumerate(encoder_input_test) if index not in drop_test]\n",
    "decoder_input_test = [sentence for index, sentence in enumerate(decoder_input_test) if index not in drop_test]\n",
    "decoder_target_test = [sentence for index, sentence in enumerate(decoder_target_test) if index not in drop_test]\n",
    "\n",
    "print('훈련 데이터의 개수 :', len(encoder_input_train))\n",
    "print('훈련 레이블의 개수 :', len(decoder_input_train))\n",
    "print('테스트 데이터의 개수 :', len(encoder_input_test))\n",
    "print('테스트 레이블의 개수 :', len(decoder_input_test))"
   ]
  },
  {
   "cell_type": "markdown",
   "id": "63a536cc",
   "metadata": {},
   "source": [
    "정수형 변환까지의 작업에서 새로 생성된 Null값은 없는 것을 확인할 수 있다."
   ]
  },
  {
   "cell_type": "code",
   "execution_count": 37,
   "id": "7e7f5ed7",
   "metadata": {},
   "outputs": [],
   "source": [
    "# 각각의 데이터에 최대 길이에 맞춰 패딩 씌우기\n",
    "encoder_input_train = pad_sequences(encoder_input_train, maxlen=text_max_len, padding='post')\n",
    "encoder_input_test = pad_sequences(encoder_input_test, maxlen=text_max_len, padding='post')\n",
    "decoder_input_train = pad_sequences(decoder_input_train, maxlen=headlines_max_len, padding='post')\n",
    "decoder_target_train = pad_sequences(decoder_target_train, maxlen=headlines_max_len, padding='post')\n",
    "decoder_input_test = pad_sequences(decoder_input_test, maxlen=headlines_max_len, padding='post')\n",
    "decoder_target_test = pad_sequences(decoder_target_test, maxlen=headlines_max_len, padding='post')"
   ]
  },
  {
   "cell_type": "code",
   "execution_count": 38,
   "id": "e7010e60",
   "metadata": {},
   "outputs": [],
   "source": [
    "# 모델 설계에 필요한 라이브러리 불러오기\n",
    "from tensorflow.keras.layers import Input, LSTM, Embedding, Dense, Concatenate, TimeDistributed\n",
    "from tensorflow.keras.models import Model\n",
    "from tensorflow.keras.callbacks import EarlyStopping\n",
    "\n",
    "\n",
    "# 인코더 설계 시작\n",
    "# 임베딩 벡터의 차원 지정\n",
    "embedding_dim = 128\n",
    "# LSTM 은닉 상태 크기 지정\n",
    "hidden_size = 128\n",
    "\n",
    "# 인코더 입력은 입력 시퀀스의 최대 길이\n",
    "encoder_inputs = Input(shape=(text_max_len,))\n",
    "\n",
    "# 인코더의 임베딩 층\n",
    "enc_emb = Embedding(src_vocab, embedding_dim)(encoder_inputs)\n",
    "\n",
    "# 인코더의 LSTM 1\n",
    "encoder_lstm1 = LSTM(hidden_size, return_sequences=True, return_state=True ,dropout = 0.4)\n",
    "encoder_outputs1, state_h1, state_c1 = encoder_lstm1(enc_emb)\n",
    "\n",
    "# 인코더의 LSTM 2\n",
    "encoder_lstm2 = LSTM(hidden_size, return_sequences=True, return_state=True, dropout=0.4)\n",
    "encoder_outputs2, state_h2, state_c2 = encoder_lstm2(encoder_outputs1)\n",
    "\n",
    "# 인코더의 LSTM 3\n",
    "encoder_lstm3 = LSTM(hidden_size, return_sequences=True, return_state=True, dropout=0.4)\n",
    "encoder_outputs3, state_h3, state_c3 = encoder_lstm3(encoder_outputs2)\n",
    "\n",
    "# 인코더의 LSTM 4\n",
    "encoder_lstm4 = LSTM(hidden_size, return_sequences=True, return_state=True, dropout=0.4)\n",
    "encoder_outputs4, state_h4, state_c4 = encoder_lstm4(encoder_outputs3)"
   ]
  },
  {
   "cell_type": "markdown",
   "id": "13e848c7",
   "metadata": {},
   "source": [
    "앞선 예제보다 은닉 상태를 줄이고 LSTM 셀을 한 층 더 늘려본다. 학습 시간을 고려하여 recurrent_dropout은 사용하지 않는다."
   ]
  },
  {
   "cell_type": "code",
   "execution_count": 40,
   "id": "8d4c7177",
   "metadata": {},
   "outputs": [
    {
     "name": "stdout",
     "output_type": "stream",
     "text": [
      "WARNING:tensorflow:Layer lstm_5 will not use cuDNN kernels since it doesn't meet the criteria. It will use a generic GPU kernel as fallback when running on GPU.\n",
      "Model: \"model\"\n",
      "__________________________________________________________________________________________________\n",
      "Layer (type)                    Output Shape         Param #     Connected to                     \n",
      "==================================================================================================\n",
      "input_1 (InputLayer)            [(None, 38)]         0                                            \n",
      "__________________________________________________________________________________________________\n",
      "embedding (Embedding)           (None, 38, 128)      2432000     input_1[0][0]                    \n",
      "__________________________________________________________________________________________________\n",
      "lstm (LSTM)                     [(None, 38, 128), (N 131584      embedding[0][0]                  \n",
      "__________________________________________________________________________________________________\n",
      "lstm_1 (LSTM)                   [(None, 38, 128), (N 131584      lstm[0][0]                       \n",
      "__________________________________________________________________________________________________\n",
      "input_3 (InputLayer)            [(None, None)]       0                                            \n",
      "__________________________________________________________________________________________________\n",
      "lstm_2 (LSTM)                   [(None, 38, 128), (N 131584      lstm_1[0][0]                     \n",
      "__________________________________________________________________________________________________\n",
      "embedding_2 (Embedding)         (None, None, 128)    1024000     input_3[0][0]                    \n",
      "__________________________________________________________________________________________________\n",
      "lstm_3 (LSTM)                   [(None, 38, 128), (N 131584      lstm_2[0][0]                     \n",
      "__________________________________________________________________________________________________\n",
      "lstm_5 (LSTM)                   [(None, None, 128),  131584      embedding_2[0][0]                \n",
      "                                                                 lstm_3[0][1]                     \n",
      "                                                                 lstm_3[0][2]                     \n",
      "__________________________________________________________________________________________________\n",
      "dense (Dense)                   (None, None, 8000)   1032000     lstm_5[0][0]                     \n",
      "==================================================================================================\n",
      "Total params: 5,145,920\n",
      "Trainable params: 5,145,920\n",
      "Non-trainable params: 0\n",
      "__________________________________________________________________________________________________\n"
     ]
    }
   ],
   "source": [
    "from tensorflow.keras.layers import AdditiveAttention\n",
    "\n",
    "# 디코더 설계\n",
    "decoder_inputs = Input(shape=(None,))\n",
    "\n",
    "# 디코더의 임베딩 층\n",
    "dec_emb_layer = Embedding(tar_vocab, embedding_dim)\n",
    "dec_emb = dec_emb_layer(decoder_inputs)\n",
    "\n",
    "# 디코더의 LSTM\n",
    "decoder_lstm = LSTM(hidden_size, return_sequences=True, return_state=True, dropout=0.4, recurrent_dropout=0.2)\n",
    "decoder_outputs, _, _ = decoder_lstm(dec_emb, initial_state=[state_h4, state_c4])\n",
    "\n",
    "# 어텐션 층(어텐션 함수)\n",
    "attn_layer = AdditiveAttention(name='attention_layer')\n",
    "\n",
    "# 인코더와 디코더의 모든 time step의 hidden state를 어텐션 층에 전달하고 결과를 리턴\n",
    "attn_out = attn_layer([decoder_outputs, encoder_outputs4])\n",
    "\n",
    "\n",
    "# 어텐션의 결과와 디코더의 hidden state들을 연결\n",
    "decoder_concat_input = Concatenate(axis=-1, name='concat_layer')([decoder_outputs, attn_out])\n",
    "\n",
    "# 디코더의 출력층\n",
    "decoder_softmax_layer = Dense(tar_vocab, activation='softmax')\n",
    "decoder_softmax_outputs = decoder_softmax_layer(decoder_outputs) \n",
    "\n",
    "# 모델 정의\n",
    "model = Model([encoder_inputs, decoder_inputs], decoder_softmax_outputs)\n",
    "model.summary()"
   ]
  },
  {
   "cell_type": "markdown",
   "id": "dc9f10a5",
   "metadata": {},
   "source": [
    "Attension 메커니즘을 결합하여 모델의 성능을 향상시킨다."
   ]
  },
  {
   "cell_type": "code",
   "execution_count": 41,
   "id": "06d3d5a0",
   "metadata": {},
   "outputs": [
    {
     "name": "stdout",
     "output_type": "stream",
     "text": [
      "Epoch 1/50\n",
      "237/237 [==============================] - 54s 69ms/step - loss: 6.3494 - val_loss: 5.7592\n",
      "Epoch 2/50\n",
      "237/237 [==============================] - 15s 63ms/step - loss: 5.7124 - val_loss: 5.5816\n",
      "Epoch 3/50\n",
      "237/237 [==============================] - 15s 64ms/step - loss: 5.5707 - val_loss: 5.4728\n",
      "Epoch 4/50\n",
      "237/237 [==============================] - 15s 64ms/step - loss: 5.4424 - val_loss: 5.3630\n",
      "Epoch 5/50\n",
      "237/237 [==============================] - 15s 64ms/step - loss: 5.3195 - val_loss: 5.2448\n",
      "Epoch 6/50\n",
      "237/237 [==============================] - 15s 63ms/step - loss: 5.1766 - val_loss: 5.1168\n",
      "Epoch 7/50\n",
      "237/237 [==============================] - 15s 64ms/step - loss: 5.0307 - val_loss: 4.9943\n",
      "Epoch 8/50\n",
      "237/237 [==============================] - 15s 63ms/step - loss: 4.8928 - val_loss: 4.8851\n",
      "Epoch 9/50\n",
      "237/237 [==============================] - 15s 64ms/step - loss: 4.7690 - val_loss: 4.7939\n",
      "Epoch 10/50\n",
      "237/237 [==============================] - 15s 63ms/step - loss: 4.6553 - val_loss: 4.7039\n",
      "Epoch 11/50\n",
      "237/237 [==============================] - 15s 64ms/step - loss: 4.5423 - val_loss: 4.6176\n",
      "Epoch 12/50\n",
      "237/237 [==============================] - 15s 63ms/step - loss: 4.4345 - val_loss: 4.5401\n",
      "Epoch 13/50\n",
      "237/237 [==============================] - 15s 63ms/step - loss: 4.3364 - val_loss: 4.4707\n",
      "Epoch 14/50\n",
      "237/237 [==============================] - 15s 63ms/step - loss: 4.2482 - val_loss: 4.4147\n",
      "Epoch 15/50\n",
      "237/237 [==============================] - 15s 64ms/step - loss: 4.1685 - val_loss: 4.3652\n",
      "Epoch 16/50\n",
      "237/237 [==============================] - 15s 63ms/step - loss: 4.0953 - val_loss: 4.3206\n",
      "Epoch 17/50\n",
      "237/237 [==============================] - 15s 63ms/step - loss: 4.0277 - val_loss: 4.2866\n",
      "Epoch 18/50\n",
      "237/237 [==============================] - 15s 63ms/step - loss: 3.9664 - val_loss: 4.2528\n",
      "Epoch 19/50\n",
      "237/237 [==============================] - 15s 63ms/step - loss: 3.9091 - val_loss: 4.2271\n",
      "Epoch 20/50\n",
      "237/237 [==============================] - 15s 63ms/step - loss: 3.8541 - val_loss: 4.1969\n",
      "Epoch 21/50\n",
      "237/237 [==============================] - 15s 63ms/step - loss: 3.8056 - val_loss: 4.1761\n",
      "Epoch 22/50\n",
      "237/237 [==============================] - 15s 63ms/step - loss: 3.7587 - val_loss: 4.1577\n",
      "Epoch 23/50\n",
      "237/237 [==============================] - 15s 64ms/step - loss: 3.7139 - val_loss: 4.1389\n",
      "Epoch 24/50\n",
      "237/237 [==============================] - 15s 63ms/step - loss: 3.6718 - val_loss: 4.1211\n",
      "Epoch 25/50\n",
      "237/237 [==============================] - 15s 63ms/step - loss: 3.6327 - val_loss: 4.1125\n",
      "Epoch 26/50\n",
      "237/237 [==============================] - 15s 63ms/step - loss: 3.5924 - val_loss: 4.0962\n",
      "Epoch 27/50\n",
      "237/237 [==============================] - 15s 63ms/step - loss: 3.5554 - val_loss: 4.0876\n",
      "Epoch 28/50\n",
      "237/237 [==============================] - 15s 63ms/step - loss: 3.5197 - val_loss: 4.0795\n",
      "Epoch 29/50\n",
      "237/237 [==============================] - 15s 63ms/step - loss: 3.4852 - val_loss: 4.0679\n",
      "Epoch 30/50\n",
      "237/237 [==============================] - 15s 63ms/step - loss: 3.4530 - val_loss: 4.0554\n",
      "Epoch 31/50\n",
      "237/237 [==============================] - 15s 63ms/step - loss: 3.4222 - val_loss: 4.0495\n",
      "Epoch 32/50\n",
      "237/237 [==============================] - 15s 63ms/step - loss: 3.3911 - val_loss: 4.0384\n",
      "Epoch 33/50\n",
      "237/237 [==============================] - 15s 63ms/step - loss: 3.3605 - val_loss: 4.0356\n",
      "Epoch 34/50\n",
      "237/237 [==============================] - 15s 63ms/step - loss: 3.3335 - val_loss: 4.0261\n",
      "Epoch 35/50\n",
      "237/237 [==============================] - 15s 63ms/step - loss: 3.3058 - val_loss: 4.0257\n",
      "Epoch 36/50\n",
      "237/237 [==============================] - 15s 63ms/step - loss: 3.2789 - val_loss: 4.0205\n",
      "Epoch 37/50\n",
      "237/237 [==============================] - 15s 63ms/step - loss: 3.2530 - val_loss: 4.0148\n",
      "Epoch 38/50\n",
      "237/237 [==============================] - 15s 63ms/step - loss: 3.2290 - val_loss: 4.0194\n",
      "Epoch 39/50\n",
      "237/237 [==============================] - 15s 63ms/step - loss: 3.2045 - val_loss: 4.0102\n",
      "Epoch 40/50\n",
      "237/237 [==============================] - 15s 63ms/step - loss: 3.1805 - val_loss: 4.0073\n",
      "Epoch 41/50\n",
      "237/237 [==============================] - 15s 63ms/step - loss: 3.1578 - val_loss: 4.0065\n",
      "Epoch 42/50\n",
      "237/237 [==============================] - 15s 63ms/step - loss: 3.1336 - val_loss: 4.0039\n",
      "Epoch 43/50\n",
      "237/237 [==============================] - 15s 63ms/step - loss: 3.1124 - val_loss: 4.0071\n",
      "Epoch 44/50\n",
      "237/237 [==============================] - 15s 63ms/step - loss: 3.0922 - val_loss: 4.0062\n",
      "Epoch 45/50\n",
      "237/237 [==============================] - 15s 63ms/step - loss: 3.0711 - val_loss: 4.0058\n",
      "Epoch 46/50\n",
      "237/237 [==============================] - 15s 63ms/step - loss: 3.0508 - val_loss: 3.9991\n",
      "Epoch 47/50\n",
      "237/237 [==============================] - 15s 63ms/step - loss: 3.0316 - val_loss: 4.0022\n",
      "Epoch 48/50\n",
      "237/237 [==============================] - 15s 63ms/step - loss: 3.0118 - val_loss: 4.0008\n",
      "Epoch 49/50\n",
      "237/237 [==============================] - 15s 63ms/step - loss: 2.9936 - val_loss: 3.9996\n",
      "Epoch 50/50\n",
      "237/237 [==============================] - 15s 63ms/step - loss: 2.9767 - val_loss: 4.0021\n"
     ]
    }
   ],
   "source": [
    "from tensorflow.keras.optimizers import Adam\n",
    "\n",
    "# Adam 옵티마이저 생성\n",
    "optimizer = Adam(learning_rate=0.001)\n",
    "\n",
    "# 옵티마이져: Adam, 학습률: 0.001, 손실함수: CrossEntropy, 콜백: 검증 손실의 변화가 5회동안 미비하면 학습 조기 종료\n",
    "model.compile(optimizer=optimizer, loss='sparse_categorical_crossentropy')\n",
    "es = EarlyStopping(monitor='val_loss', patience=5, verbose=1)\n",
    "\n",
    "history = model.fit(x=[encoder_input_train, decoder_input_train], y=decoder_target_train, \\\n",
    "          validation_data=([encoder_input_test, decoder_input_test], decoder_target_test), \\\n",
    "          batch_size=256, callbacks=[es], epochs=50)"
   ]
  },
  {
   "cell_type": "code",
   "execution_count": 42,
   "id": "d2ac8069",
   "metadata": {},
   "outputs": [
    {
     "data": {
      "image/png": "[encoded data removed]",
      "text/plain": [
       "<Figure size 432x288 with 1 Axes>"
      ]
     },
     "metadata": {
      "needs_background": "light"
     },
     "output_type": "display_data"
    }
   ],
   "source": [
    "# 학습 손실값과 검증 손실값 비교 시각화\n",
    "plt.plot(history.history['loss'], label='train')\n",
    "plt.plot(history.history['val_loss'], label='test')\n",
    "plt.legend()\n",
    "plt.show()"
   ]
  },
  {
   "cell_type": "markdown",
   "id": "0cf01cea",
   "metadata": {},
   "source": [
    "과적합 문제는 발생한 것 같지 않지만, 모델의 성능이 너무 떨어진다.  \n",
    "하이퍼 파라미터 및 모델 구조를 변경한 다음 다시 학습을 시켜보도록 한다."
   ]
  },
  {
   "cell_type": "code",
   "execution_count": 44,
   "id": "8ce35111",
   "metadata": {},
   "outputs": [
    {
     "name": "stdout",
     "output_type": "stream",
     "text": [
      "WARNING:tensorflow:Layer lstm_10 will not use cuDNN kernels since it doesn't meet the criteria. It will use a generic GPU kernel as fallback when running on GPU.\n",
      "WARNING:tensorflow:Layer lstm_11 will not use cuDNN kernels since it doesn't meet the criteria. It will use a generic GPU kernel as fallback when running on GPU.\n",
      "WARNING:tensorflow:Layer lstm_12 will not use cuDNN kernels since it doesn't meet the criteria. It will use a generic GPU kernel as fallback when running on GPU.\n",
      "WARNING:tensorflow:Layer lstm_13 will not use cuDNN kernels since it doesn't meet the criteria. It will use a generic GPU kernel as fallback when running on GPU.\n",
      "Model: \"model_1\"\n",
      "__________________________________________________________________________________________________\n",
      "Layer (type)                    Output Shape         Param #     Connected to                     \n",
      "==================================================================================================\n",
      "input_6 (InputLayer)            [(None, 38)]         0                                            \n",
      "__________________________________________________________________________________________________\n",
      "embedding_5 (Embedding)         (None, 38, 128)      2432000     input_6[0][0]                    \n",
      "__________________________________________________________________________________________________\n",
      "lstm_10 (LSTM)                  [(None, 38, 256), (N 394240      embedding_5[0][0]                \n",
      "__________________________________________________________________________________________________\n",
      "input_7 (InputLayer)            [(None, None)]       0                                            \n",
      "__________________________________________________________________________________________________\n",
      "lstm_11 (LSTM)                  [(None, 38, 256), (N 525312      lstm_10[0][0]                    \n",
      "__________________________________________________________________________________________________\n",
      "embedding_6 (Embedding)         (None, None, 128)    1024000     input_7[0][0]                    \n",
      "__________________________________________________________________________________________________\n",
      "lstm_12 (LSTM)                  [(None, 38, 256), (N 525312      lstm_11[0][0]                    \n",
      "__________________________________________________________________________________________________\n",
      "lstm_13 (LSTM)                  [(None, None, 256),  394240      embedding_6[0][0]                \n",
      "                                                                 lstm_12[0][1]                    \n",
      "                                                                 lstm_12[0][2]                    \n",
      "__________________________________________________________________________________________________\n",
      "dense_1 (Dense)                 (None, None, 8000)   2056000     lstm_13[0][0]                    \n",
      "==================================================================================================\n",
      "Total params: 7,351,104\n",
      "Trainable params: 7,351,104\n",
      "Non-trainable params: 0\n",
      "__________________________________________________________________________________________________\n",
      "Epoch 1/50\n",
      "237/237 [==============================] - 133s 532ms/step - loss: 5.8268 - val_loss: 5.3720\n",
      "Epoch 2/50\n",
      "237/237 [==============================] - 126s 530ms/step - loss: 5.2048 - val_loss: 4.9654\n",
      "Epoch 3/50\n",
      "237/237 [==============================] - 126s 531ms/step - loss: 4.8237 - val_loss: 4.7477\n",
      "Epoch 4/50\n",
      "237/237 [==============================] - 125s 527ms/step - loss: 4.5696 - val_loss: 4.6250\n",
      "Epoch 5/50\n",
      "237/237 [==============================] - 125s 527ms/step - loss: 4.3698 - val_loss: 4.5334\n",
      "Epoch 6/50\n",
      "237/237 [==============================] - 124s 525ms/step - loss: 4.2041 - val_loss: 4.4724\n",
      "Epoch 7/50\n",
      "237/237 [==============================] - 124s 524ms/step - loss: 4.0601 - val_loss: 4.4096\n",
      "Epoch 8/50\n",
      "237/237 [==============================] - 124s 525ms/step - loss: 3.9239 - val_loss: 4.3622\n",
      "Epoch 9/50\n",
      "237/237 [==============================] - 124s 524ms/step - loss: 3.8036 - val_loss: 4.3308\n",
      "Epoch 10/50\n",
      "237/237 [==============================] - 124s 524ms/step - loss: 3.6940 - val_loss: 4.3011\n",
      "Epoch 11/50\n",
      "237/237 [==============================] - 124s 523ms/step - loss: 3.5958 - val_loss: 4.2780\n",
      "Epoch 12/50\n",
      "237/237 [==============================] - 124s 522ms/step - loss: 3.5115 - val_loss: 4.2687\n",
      "Epoch 13/50\n",
      "237/237 [==============================] - 124s 521ms/step - loss: 3.4319 - val_loss: 4.2634\n",
      "Epoch 14/50\n",
      "237/237 [==============================] - 123s 519ms/step - loss: 3.3596 - val_loss: 4.2589\n",
      "Epoch 15/50\n",
      "237/237 [==============================] - 124s 522ms/step - loss: 3.2935 - val_loss: 4.2447\n",
      "Epoch 16/50\n",
      "237/237 [==============================] - 123s 519ms/step - loss: 3.2318 - val_loss: 4.2428\n",
      "Epoch 17/50\n",
      "237/237 [==============================] - 124s 523ms/step - loss: 3.1718 - val_loss: 4.2477\n",
      "Epoch 18/50\n",
      "237/237 [==============================] - 124s 522ms/step - loss: 3.1195 - val_loss: 4.2508\n",
      "Epoch 19/50\n",
      "237/237 [==============================] - 123s 521ms/step - loss: 3.0697 - val_loss: 4.2529\n",
      "Epoch 20/50\n",
      "237/237 [==============================] - 123s 521ms/step - loss: 3.0211 - val_loss: 4.2610\n",
      "Epoch 21/50\n",
      "237/237 [==============================] - 124s 522ms/step - loss: 2.9755 - val_loss: 4.2660\n",
      "Epoch 00021: early stopping\n"
     ]
    },
    {
     "data": {
      "image/png": "[encoded data removed]",
      "text/plain": [
       "<Figure size 432x288 with 1 Axes>"
      ]
     },
     "metadata": {
      "needs_background": "light"
     },
     "output_type": "display_data"
    }
   ],
   "source": [
    "embedding_dim = 128\n",
    "# 은닉 상태 크기 128에서 256으로 변경\n",
    "hidden_size = 256\n",
    "\n",
    "encoder_inputs = Input(shape=(text_max_len,))\n",
    "enc_emb = Embedding(src_vocab, embedding_dim)(encoder_inputs)\n",
    "\n",
    "# LSTM셀 4개에서 3개로 변경, recurrent_dropout 추가\n",
    "encoder_lstm1 = LSTM(hidden_size, return_sequences=True, return_state=True ,dropout = 0.4, recurrent_dropout=0.4)\n",
    "encoder_outputs1, state_h1, state_c1 = encoder_lstm1(enc_emb)\n",
    "\n",
    "encoder_lstm2 = LSTM(hidden_size, return_sequences=True, return_state=True, dropout=0.4, recurrent_dropout=0.4)\n",
    "encoder_outputs2, state_h2, state_c2 = encoder_lstm2(encoder_outputs1)\n",
    "\n",
    "encoder_lstm3 = LSTM(hidden_size, return_sequences=True, return_state=True, dropout=0.4, recurrent_dropout=0.4)\n",
    "encoder_outputs3, state_h3, state_c3 = encoder_lstm3(encoder_outputs2)\n",
    "\n",
    "\n",
    "decoder_inputs = Input(shape=(None,))\n",
    "dec_emb_layer = Embedding(tar_vocab, embedding_dim)\n",
    "dec_emb = dec_emb_layer(decoder_inputs)\n",
    "\n",
    "decoder_lstm = LSTM(hidden_size, return_sequences=True, return_state=True, dropout=0.4, recurrent_dropout=0.2)\n",
    "decoder_outputs, _, _ = decoder_lstm(dec_emb, initial_state=[state_h3, state_c3])\n",
    "\n",
    "attn_layer = AdditiveAttention(name='attention_layer')\n",
    "attn_out = attn_layer([decoder_outputs, encoder_outputs3])\n",
    "decoder_concat_input = Concatenate(axis=-1, name='concat_layer')([decoder_outputs, attn_out])\n",
    "\n",
    "decoder_softmax_layer = Dense(tar_vocab, activation='softmax')\n",
    "decoder_softmax_outputs = decoder_softmax_layer(decoder_outputs) \n",
    "\n",
    "model = Model([encoder_inputs, decoder_inputs], decoder_softmax_outputs)\n",
    "model.summary()\n",
    "\n",
    "optimizer = Adam(learning_rate=0.005)\n",
    "# 학습률 0.001에서 0.005로 변경\n",
    "model.compile(optimizer=optimizer, loss='sparse_categorical_crossentropy')\n",
    "es = EarlyStopping(monitor='val_loss', patience=5, verbose=1)\n",
    "\n",
    "history = model.fit(x=[encoder_input_train, decoder_input_train], y=decoder_target_train, \\\n",
    "          validation_data=([encoder_input_test, decoder_input_test], decoder_target_test), \\\n",
    "          batch_size=256, callbacks=[es], epochs=50)\n",
    "\n",
    "plt.plot(history.history['loss'], label='train')\n",
    "plt.plot(history.history['val_loss'], label='test')\n",
    "plt.legend()\n",
    "plt.show()"
   ]
  },
  {
   "cell_type": "markdown",
   "id": "8b510a85",
   "metadata": {},
   "source": [
    "어째 성능이 더 안좋아졌지만, 시간 관계 상 계속 진행하도록 한다."
   ]
  },
  {
   "cell_type": "code",
   "execution_count": 45,
   "id": "3d32eaad",
   "metadata": {},
   "outputs": [],
   "source": [
    "# 정수형으로 변환했던 데이터들을 원문으로 복원\n",
    "src_index_to_word = src_tokenizer.index_word\n",
    "tar_word_to_index = tar_tokenizer.word_index\n",
    "tar_index_to_word = tar_tokenizer.index_word"
   ]
  },
  {
   "cell_type": "markdown",
   "id": "35ef126d",
   "metadata": {},
   "source": [
    "학습이 끝났으면 정수 인덱스 행렬로 존재하던 텍스트 데이터를 실제 데이터로 복원하도록한다."
   ]
  },
  {
   "cell_type": "code",
   "execution_count": 47,
   "id": "24e4753f",
   "metadata": {},
   "outputs": [],
   "source": [
    "# 인코더 설계\n",
    "encoder_model = Model(inputs=encoder_inputs, outputs=[encoder_outputs3, state_h3, state_c3])\n",
    "\n",
    "# 이전 시점의 상태들을 저장하는 텐서\n",
    "decoder_state_input_h = Input(shape=(hidden_size,))\n",
    "decoder_state_input_c = Input(shape=(hidden_size,))\n",
    "\n",
    "dec_emb2 = dec_emb_layer(decoder_inputs)\n",
    "\n",
    "# 문장의 다음 단어를 예측하기 위해서 초기 상태(initial_state)를 이전 시점의 상태로 사용. 이는 뒤의 함수 decode_sequence()에 구현\n",
    "decoder_outputs2, state_h2, state_c2 = decoder_lstm(dec_emb2, initial_state=[decoder_state_input_h, decoder_state_input_c])"
   ]
  },
  {
   "cell_type": "markdown",
   "id": "08f25a18",
   "metadata": {},
   "source": [
    "훈련 단계에서는 디코더의 입력부에 정답이 되는 문장 전체를 한꺼번에 넣고 디코더의 출력과 한 번에 비교할 수 있으므로, 인코더와 디코더를 엮은 통짜 모델을 준비한다.  \n",
    "그러나 정답 문장이 없는 인퍼런스 단계에서는 만들어야 할 문장의 길이만큼 디코더가 반봅 구조로 동작하기 때문에 부득이하게 인퍼런스를 위한 모델 설계를 변도로 해줘야 한다. 이 때는 인코더와 디코더 모델을 분리해서 설계한다."
   ]
  },
  {
   "cell_type": "code",
   "execution_count": 48,
   "id": "2ca19a48",
   "metadata": {},
   "outputs": [],
   "source": [
    "# 어텐션 함수\n",
    "decoder_hidden_state_input = Input(shape=(text_max_len, hidden_size))\n",
    "attn_out_inf = attn_layer([decoder_outputs2, decoder_hidden_state_input])\n",
    "decoder_inf_concat = Concatenate(axis=-1, name='concat')([decoder_outputs2, attn_out_inf])\n",
    "\n",
    "# 디코더의 출력층\n",
    "decoder_outputs2 = decoder_softmax_layer(decoder_inf_concat) \n",
    "\n",
    "# 최종 디코더 모델\n",
    "decoder_model = Model(\n",
    "    [decoder_inputs] + [decoder_hidden_state_input,decoder_state_input_h, decoder_state_input_c],\n",
    "    [decoder_outputs2] + [state_h2, state_c2])"
   ]
  },
  {
   "cell_type": "markdown",
   "id": "8fa745f1",
   "metadata": {},
   "source": [
    "Attention 메커니즘을 사용해서 출력층을 설계한다."
   ]
  },
  {
   "cell_type": "code",
   "execution_count": 53,
   "id": "dabbeb90",
   "metadata": {},
   "outputs": [],
   "source": [
    "# 단어 시퀀스를 완성하는 함수 정의\n",
    "def decode_sequence(input_seq):\n",
    "    # 입력으로부터 인코더의 상태를 얻음\n",
    "    e_out, e_h, e_c = encoder_model.predict(input_seq)\n",
    "\n",
    "    # <SOS>에 해당하는 토큰 생성\n",
    "    target_seq = np.zeros((1,1))\n",
    "    target_seq[0, 0] = tar_word_to_index['sostoken']\n",
    "\n",
    "    stop_condition = False\n",
    "    decoded_sentence = ''\n",
    "    while not stop_condition: # stop_condition이 True가 될 때까지 루프 반복\n",
    "\n",
    "        output_tokens, h, c = decoder_model.predict([target_seq] + [e_out, e_h, e_c])\n",
    "        sampled_token_index = np.argmax(output_tokens[0, -1, :])\n",
    "        sampled_token = tar_index_to_word[sampled_token_index]\n",
    "\n",
    "        if (sampled_token!='eostoken'):\n",
    "            decoded_sentence += ' '+sampled_token\n",
    "\n",
    "        #  <eos>에 도달하거나 최대 길이를 넘으면 중단.\n",
    "        if (sampled_token == 'eostoken'  or len(decoded_sentence.split()) >= (headlines_max_len-1)):\n",
    "            stop_condition = True\n",
    "\n",
    "        # 길이가 1인 타겟 시퀀스를 업데이트\n",
    "        target_seq = np.zeros((1,1))\n",
    "        target_seq[0, 0] = sampled_token_index\n",
    "\n",
    "        # 상태를 업데이트 합니다.\n",
    "        e_h, e_c = h, c\n",
    "\n",
    "    return decoded_sentence"
   ]
  },
  {
   "cell_type": "code",
   "execution_count": 54,
   "id": "ef8a7351",
   "metadata": {},
   "outputs": [],
   "source": [
    "# 원문의 정수 시퀀스를 텍스트 시퀀스로 변환\n",
    "def seq2text(input_seq):\n",
    "    temp=''\n",
    "    for i in input_seq:\n",
    "        if (i!=0):\n",
    "            temp = temp + src_index_to_word[i]+' '\n",
    "    return temp\n",
    "\n",
    "# 머릿글의 정수 시퀀스를 텍스트 시퀀스로 변환\n",
    "def seq2headlines(input_seq):\n",
    "    temp = ''\n",
    "    for i in input_seq:\n",
    "        if i == 0:\n",
    "            continue\n",
    "        if i == tar_word_to_index['eostoken']:\n",
    "            break\n",
    "        temp += tar_index_to_word[i] + ' '\n",
    "    return temp"
   ]
  },
  {
   "cell_type": "markdown",
   "id": "6136aa6d",
   "metadata": {},
   "source": [
    "text의 정수 시퀀스에서는 0을 제거하고, headlines의 정수 시쿼스에서는 0과 시작/종료 토큰의 인덱스를 제거한다."
   ]
  },
  {
   "cell_type": "code",
   "execution_count": 55,
   "id": "4bc48f1b",
   "metadata": {},
   "outputs": [
    {
     "name": "stdout",
     "output_type": "stream",
     "text": [
      "원문 : congress monday criticised jammu kashmir cm mehbooba mufti urging centre follow footsteps former pm atal bihari vajpayee dealing kashmir unrest kashmir evolved upa years whether form opening bus roads internal security situations party spokesperson manish tewari said \n",
      "실제 요약 : sostoken kashmir under upa govt cong on vajpayee \n"
     ]
    },
    {
     "ename": "ValueError",
     "evalue": "in user code:\n\n    /opt/conda/lib/python3.9/site-packages/keras/engine/training.py:1586 predict_function  *\n        return step_function(self, iterator)\n    /opt/conda/lib/python3.9/site-packages/keras/engine/training.py:1576 step_function  **\n        outputs = model.distribute_strategy.run(run_step, args=(data,))\n    /opt/conda/lib/python3.9/site-packages/tensorflow/python/distribute/distribute_lib.py:1286 run\n        return self._extended.call_for_each_replica(fn, args=args, kwargs=kwargs)\n    /opt/conda/lib/python3.9/site-packages/tensorflow/python/distribute/distribute_lib.py:2849 call_for_each_replica\n        return self._call_for_each_replica(fn, args, kwargs)\n    /opt/conda/lib/python3.9/site-packages/tensorflow/python/distribute/distribute_lib.py:3632 _call_for_each_replica\n        return fn(*args, **kwargs)\n    /opt/conda/lib/python3.9/site-packages/keras/engine/training.py:1569 run_step  **\n        outputs = model.predict_step(data)\n    /opt/conda/lib/python3.9/site-packages/keras/engine/training.py:1537 predict_step\n        return self(x, training=False)\n    /opt/conda/lib/python3.9/site-packages/keras/engine/base_layer.py:1037 __call__\n        outputs = call_fn(inputs, *args, **kwargs)\n    /opt/conda/lib/python3.9/site-packages/keras/engine/functional.py:414 call\n        return self._run_internal_graph(\n    /opt/conda/lib/python3.9/site-packages/keras/engine/functional.py:550 _run_internal_graph\n        outputs = node.layer(*args, **kwargs)\n    /opt/conda/lib/python3.9/site-packages/keras/engine/base_layer.py:1020 __call__\n        input_spec.assert_input_compatibility(self.input_spec, inputs, self.name)\n    /opt/conda/lib/python3.9/site-packages/keras/engine/input_spec.py:250 assert_input_compatibility\n        raise ValueError(\n\n    ValueError: Input 0 of layer dense_1 is incompatible with the layer: expected axis -1 of input shape to have value 256 but received input with shape (None, 1, 512)\n",
     "output_type": "error",
     "traceback": [
      "\u001b[0;31m---------------------------------------------------------------------------\u001b[0m",
      "\u001b[0;31mValueError\u001b[0m                                Traceback (most recent call last)",
      "\u001b[0;32m/tmp/ipykernel_127/1252104734.py\u001b[0m in \u001b[0;36m<module>\u001b[0;34m\u001b[0m\n\u001b[1;32m      2\u001b[0m     \u001b[0mprint\u001b[0m\u001b[0;34m(\u001b[0m\u001b[0;34m\"원문 :\"\u001b[0m\u001b[0;34m,\u001b[0m \u001b[0mseq2text\u001b[0m\u001b[0;34m(\u001b[0m\u001b[0mencoder_input_test\u001b[0m\u001b[0;34m[\u001b[0m\u001b[0mi\u001b[0m\u001b[0;34m]\u001b[0m\u001b[0;34m)\u001b[0m\u001b[0;34m)\u001b[0m\u001b[0;34m\u001b[0m\u001b[0;34m\u001b[0m\u001b[0m\n\u001b[1;32m      3\u001b[0m     \u001b[0mprint\u001b[0m\u001b[0;34m(\u001b[0m\u001b[0;34m\"실제 요약 :\"\u001b[0m\u001b[0;34m,\u001b[0m \u001b[0mseq2headlines\u001b[0m\u001b[0;34m(\u001b[0m\u001b[0mdecoder_input_test\u001b[0m\u001b[0;34m[\u001b[0m\u001b[0mi\u001b[0m\u001b[0;34m]\u001b[0m\u001b[0;34m)\u001b[0m\u001b[0;34m)\u001b[0m\u001b[0;34m\u001b[0m\u001b[0;34m\u001b[0m\u001b[0m\n\u001b[0;32m----> 4\u001b[0;31m     \u001b[0mprint\u001b[0m\u001b[0;34m(\u001b[0m\u001b[0;34m\"예측 요약 :\"\u001b[0m\u001b[0;34m,\u001b[0m \u001b[0mdecode_sequence\u001b[0m\u001b[0;34m(\u001b[0m\u001b[0mencoder_input_test\u001b[0m\u001b[0;34m[\u001b[0m\u001b[0mi\u001b[0m\u001b[0;34m]\u001b[0m\u001b[0;34m.\u001b[0m\u001b[0mreshape\u001b[0m\u001b[0;34m(\u001b[0m\u001b[0;36m1\u001b[0m\u001b[0;34m,\u001b[0m \u001b[0mtext_max_len\u001b[0m\u001b[0;34m)\u001b[0m\u001b[0;34m)\u001b[0m\u001b[0;34m)\u001b[0m\u001b[0;34m\u001b[0m\u001b[0;34m\u001b[0m\u001b[0m\n\u001b[0m\u001b[1;32m      5\u001b[0m     \u001b[0mprint\u001b[0m\u001b[0;34m(\u001b[0m\u001b[0;34m\"\\n\"\u001b[0m\u001b[0;34m)\u001b[0m\u001b[0;34m\u001b[0m\u001b[0;34m\u001b[0m\u001b[0m\n",
      "\u001b[0;32m/tmp/ipykernel_127/3640777240.py\u001b[0m in \u001b[0;36mdecode_sequence\u001b[0;34m(input_seq)\u001b[0m\n\u001b[1;32m     12\u001b[0m     \u001b[0;32mwhile\u001b[0m \u001b[0;32mnot\u001b[0m \u001b[0mstop_condition\u001b[0m\u001b[0;34m:\u001b[0m \u001b[0;31m# stop_condition이 True가 될 때까지 루프 반복\u001b[0m\u001b[0;34m\u001b[0m\u001b[0;34m\u001b[0m\u001b[0m\n\u001b[1;32m     13\u001b[0m \u001b[0;34m\u001b[0m\u001b[0m\n\u001b[0;32m---> 14\u001b[0;31m         \u001b[0moutput_tokens\u001b[0m\u001b[0;34m,\u001b[0m \u001b[0mh\u001b[0m\u001b[0;34m,\u001b[0m \u001b[0mc\u001b[0m \u001b[0;34m=\u001b[0m \u001b[0mdecoder_model\u001b[0m\u001b[0;34m.\u001b[0m\u001b[0mpredict\u001b[0m\u001b[0;34m(\u001b[0m\u001b[0;34m[\u001b[0m\u001b[0mtarget_seq\u001b[0m\u001b[0;34m]\u001b[0m \u001b[0;34m+\u001b[0m \u001b[0;34m[\u001b[0m\u001b[0me_out\u001b[0m\u001b[0;34m,\u001b[0m \u001b[0me_h\u001b[0m\u001b[0;34m,\u001b[0m \u001b[0me_c\u001b[0m\u001b[0;34m]\u001b[0m\u001b[0;34m)\u001b[0m\u001b[0;34m\u001b[0m\u001b[0;34m\u001b[0m\u001b[0m\n\u001b[0m\u001b[1;32m     15\u001b[0m         \u001b[0msampled_token_index\u001b[0m \u001b[0;34m=\u001b[0m \u001b[0mnp\u001b[0m\u001b[0;34m.\u001b[0m\u001b[0margmax\u001b[0m\u001b[0;34m(\u001b[0m\u001b[0moutput_tokens\u001b[0m\u001b[0;34m[\u001b[0m\u001b[0;36m0\u001b[0m\u001b[0;34m,\u001b[0m \u001b[0;34m-\u001b[0m\u001b[0;36m1\u001b[0m\u001b[0;34m,\u001b[0m \u001b[0;34m:\u001b[0m\u001b[0;34m]\u001b[0m\u001b[0;34m)\u001b[0m\u001b[0;34m\u001b[0m\u001b[0;34m\u001b[0m\u001b[0m\n\u001b[1;32m     16\u001b[0m         \u001b[0msampled_token\u001b[0m \u001b[0;34m=\u001b[0m \u001b[0mtar_index_to_word\u001b[0m\u001b[0;34m[\u001b[0m\u001b[0msampled_token_index\u001b[0m\u001b[0;34m]\u001b[0m\u001b[0;34m\u001b[0m\u001b[0;34m\u001b[0m\u001b[0m\n",
      "\u001b[0;32m/opt/conda/lib/python3.9/site-packages/keras/engine/training.py\u001b[0m in \u001b[0;36mpredict\u001b[0;34m(self, x, batch_size, verbose, steps, callbacks, max_queue_size, workers, use_multiprocessing)\u001b[0m\n\u001b[1;32m   1749\u001b[0m           \u001b[0;32mfor\u001b[0m \u001b[0mstep\u001b[0m \u001b[0;32min\u001b[0m \u001b[0mdata_handler\u001b[0m\u001b[0;34m.\u001b[0m\u001b[0msteps\u001b[0m\u001b[0;34m(\u001b[0m\u001b[0;34m)\u001b[0m\u001b[0;34m:\u001b[0m\u001b[0;34m\u001b[0m\u001b[0;34m\u001b[0m\u001b[0m\n\u001b[1;32m   1750\u001b[0m             \u001b[0mcallbacks\u001b[0m\u001b[0;34m.\u001b[0m\u001b[0mon_predict_batch_begin\u001b[0m\u001b[0;34m(\u001b[0m\u001b[0mstep\u001b[0m\u001b[0;34m)\u001b[0m\u001b[0;34m\u001b[0m\u001b[0;34m\u001b[0m\u001b[0m\n\u001b[0;32m-> 1751\u001b[0;31m             \u001b[0mtmp_batch_outputs\u001b[0m \u001b[0;34m=\u001b[0m \u001b[0mself\u001b[0m\u001b[0;34m.\u001b[0m\u001b[0mpredict_function\u001b[0m\u001b[0;34m(\u001b[0m\u001b[0miterator\u001b[0m\u001b[0;34m)\u001b[0m\u001b[0;34m\u001b[0m\u001b[0;34m\u001b[0m\u001b[0m\n\u001b[0m\u001b[1;32m   1752\u001b[0m             \u001b[0;32mif\u001b[0m \u001b[0mdata_handler\u001b[0m\u001b[0;34m.\u001b[0m\u001b[0mshould_sync\u001b[0m\u001b[0;34m:\u001b[0m\u001b[0;34m\u001b[0m\u001b[0;34m\u001b[0m\u001b[0m\n\u001b[1;32m   1753\u001b[0m               \u001b[0mcontext\u001b[0m\u001b[0;34m.\u001b[0m\u001b[0masync_wait\u001b[0m\u001b[0;34m(\u001b[0m\u001b[0;34m)\u001b[0m\u001b[0;34m\u001b[0m\u001b[0;34m\u001b[0m\u001b[0m\n",
      "\u001b[0;32m/opt/conda/lib/python3.9/site-packages/tensorflow/python/eager/def_function.py\u001b[0m in \u001b[0;36m__call__\u001b[0;34m(self, *args, **kwds)\u001b[0m\n\u001b[1;32m    883\u001b[0m \u001b[0;34m\u001b[0m\u001b[0m\n\u001b[1;32m    884\u001b[0m       \u001b[0;32mwith\u001b[0m \u001b[0mOptionalXlaContext\u001b[0m\u001b[0;34m(\u001b[0m\u001b[0mself\u001b[0m\u001b[0;34m.\u001b[0m\u001b[0m_jit_compile\u001b[0m\u001b[0;34m)\u001b[0m\u001b[0;34m:\u001b[0m\u001b[0;34m\u001b[0m\u001b[0;34m\u001b[0m\u001b[0m\n\u001b[0;32m--> 885\u001b[0;31m         \u001b[0mresult\u001b[0m \u001b[0;34m=\u001b[0m \u001b[0mself\u001b[0m\u001b[0;34m.\u001b[0m\u001b[0m_call\u001b[0m\u001b[0;34m(\u001b[0m\u001b[0;34m*\u001b[0m\u001b[0margs\u001b[0m\u001b[0;34m,\u001b[0m \u001b[0;34m**\u001b[0m\u001b[0mkwds\u001b[0m\u001b[0;34m)\u001b[0m\u001b[0;34m\u001b[0m\u001b[0;34m\u001b[0m\u001b[0m\n\u001b[0m\u001b[1;32m    886\u001b[0m \u001b[0;34m\u001b[0m\u001b[0m\n\u001b[1;32m    887\u001b[0m       \u001b[0mnew_tracing_count\u001b[0m \u001b[0;34m=\u001b[0m \u001b[0mself\u001b[0m\u001b[0;34m.\u001b[0m\u001b[0mexperimental_get_tracing_count\u001b[0m\u001b[0;34m(\u001b[0m\u001b[0;34m)\u001b[0m\u001b[0;34m\u001b[0m\u001b[0;34m\u001b[0m\u001b[0m\n",
      "\u001b[0;32m/opt/conda/lib/python3.9/site-packages/tensorflow/python/eager/def_function.py\u001b[0m in \u001b[0;36m_call\u001b[0;34m(self, *args, **kwds)\u001b[0m\n\u001b[1;32m    922\u001b[0m       \u001b[0;31m# In this case we have not created variables on the first call. So we can\u001b[0m\u001b[0;34m\u001b[0m\u001b[0;34m\u001b[0m\u001b[0m\n\u001b[1;32m    923\u001b[0m       \u001b[0;31m# run the first trace but we should fail if variables are created.\u001b[0m\u001b[0;34m\u001b[0m\u001b[0;34m\u001b[0m\u001b[0m\n\u001b[0;32m--> 924\u001b[0;31m       \u001b[0mresults\u001b[0m \u001b[0;34m=\u001b[0m \u001b[0mself\u001b[0m\u001b[0;34m.\u001b[0m\u001b[0m_stateful_fn\u001b[0m\u001b[0;34m(\u001b[0m\u001b[0;34m*\u001b[0m\u001b[0margs\u001b[0m\u001b[0;34m,\u001b[0m \u001b[0;34m**\u001b[0m\u001b[0mkwds\u001b[0m\u001b[0;34m)\u001b[0m\u001b[0;34m\u001b[0m\u001b[0;34m\u001b[0m\u001b[0m\n\u001b[0m\u001b[1;32m    925\u001b[0m       \u001b[0;32mif\u001b[0m \u001b[0mself\u001b[0m\u001b[0;34m.\u001b[0m\u001b[0m_created_variables\u001b[0m \u001b[0;32mand\u001b[0m \u001b[0;32mnot\u001b[0m \u001b[0mALLOW_DYNAMIC_VARIABLE_CREATION\u001b[0m\u001b[0;34m:\u001b[0m\u001b[0;34m\u001b[0m\u001b[0;34m\u001b[0m\u001b[0m\n\u001b[1;32m    926\u001b[0m         raise ValueError(\"Creating variables on a non-first call to a function\"\n",
      "\u001b[0;32m/opt/conda/lib/python3.9/site-packages/tensorflow/python/eager/function.py\u001b[0m in \u001b[0;36m__call__\u001b[0;34m(self, *args, **kwargs)\u001b[0m\n\u001b[1;32m   3036\u001b[0m     \u001b[0;32mwith\u001b[0m \u001b[0mself\u001b[0m\u001b[0;34m.\u001b[0m\u001b[0m_lock\u001b[0m\u001b[0;34m:\u001b[0m\u001b[0;34m\u001b[0m\u001b[0;34m\u001b[0m\u001b[0m\n\u001b[1;32m   3037\u001b[0m       (graph_function,\n\u001b[0;32m-> 3038\u001b[0;31m        filtered_flat_args) = self._maybe_define_function(args, kwargs)\n\u001b[0m\u001b[1;32m   3039\u001b[0m     return graph_function._call_flat(\n\u001b[1;32m   3040\u001b[0m         filtered_flat_args, captured_inputs=graph_function.captured_inputs)  # pylint: disable=protected-access\n",
      "\u001b[0;32m/opt/conda/lib/python3.9/site-packages/tensorflow/python/eager/function.py\u001b[0m in \u001b[0;36m_maybe_define_function\u001b[0;34m(self, args, kwargs)\u001b[0m\n\u001b[1;32m   3457\u001b[0m               \u001b[0mself\u001b[0m\u001b[0;34m.\u001b[0m\u001b[0minput_signature\u001b[0m \u001b[0;32mis\u001b[0m \u001b[0;32mNone\u001b[0m \u001b[0;32mand\u001b[0m\u001b[0;34m\u001b[0m\u001b[0;34m\u001b[0m\u001b[0m\n\u001b[1;32m   3458\u001b[0m               call_context_key in self._function_cache.missed):\n\u001b[0;32m-> 3459\u001b[0;31m             return self._define_function_with_shape_relaxation(\n\u001b[0m\u001b[1;32m   3460\u001b[0m                 args, kwargs, flat_args, filtered_flat_args, cache_key_context)\n\u001b[1;32m   3461\u001b[0m \u001b[0;34m\u001b[0m\u001b[0m\n",
      "\u001b[0;32m/opt/conda/lib/python3.9/site-packages/tensorflow/python/eager/function.py\u001b[0m in \u001b[0;36m_define_function_with_shape_relaxation\u001b[0;34m(self, args, kwargs, flat_args, filtered_flat_args, cache_key_context)\u001b[0m\n\u001b[1;32m   3379\u001b[0m           expand_composites=True)\n\u001b[1;32m   3380\u001b[0m \u001b[0;34m\u001b[0m\u001b[0m\n\u001b[0;32m-> 3381\u001b[0;31m     graph_function = self._create_graph_function(\n\u001b[0m\u001b[1;32m   3382\u001b[0m         args, kwargs, override_flat_arg_shapes=relaxed_arg_shapes)\n\u001b[1;32m   3383\u001b[0m     \u001b[0mself\u001b[0m\u001b[0;34m.\u001b[0m\u001b[0m_function_cache\u001b[0m\u001b[0;34m.\u001b[0m\u001b[0marg_relaxed\u001b[0m\u001b[0;34m[\u001b[0m\u001b[0mrank_only_cache_key\u001b[0m\u001b[0;34m]\u001b[0m \u001b[0;34m=\u001b[0m \u001b[0mgraph_function\u001b[0m\u001b[0;34m\u001b[0m\u001b[0;34m\u001b[0m\u001b[0m\n",
      "\u001b[0;32m/opt/conda/lib/python3.9/site-packages/tensorflow/python/eager/function.py\u001b[0m in \u001b[0;36m_create_graph_function\u001b[0;34m(self, args, kwargs, override_flat_arg_shapes)\u001b[0m\n\u001b[1;32m   3296\u001b[0m     \u001b[0marg_names\u001b[0m \u001b[0;34m=\u001b[0m \u001b[0mbase_arg_names\u001b[0m \u001b[0;34m+\u001b[0m \u001b[0mmissing_arg_names\u001b[0m\u001b[0;34m\u001b[0m\u001b[0;34m\u001b[0m\u001b[0m\n\u001b[1;32m   3297\u001b[0m     graph_function = ConcreteFunction(\n\u001b[0;32m-> 3298\u001b[0;31m         func_graph_module.func_graph_from_py_func(\n\u001b[0m\u001b[1;32m   3299\u001b[0m             \u001b[0mself\u001b[0m\u001b[0;34m.\u001b[0m\u001b[0m_name\u001b[0m\u001b[0;34m,\u001b[0m\u001b[0;34m\u001b[0m\u001b[0;34m\u001b[0m\u001b[0m\n\u001b[1;32m   3300\u001b[0m             \u001b[0mself\u001b[0m\u001b[0;34m.\u001b[0m\u001b[0m_python_function\u001b[0m\u001b[0;34m,\u001b[0m\u001b[0;34m\u001b[0m\u001b[0;34m\u001b[0m\u001b[0m\n",
      "\u001b[0;32m/opt/conda/lib/python3.9/site-packages/tensorflow/python/framework/func_graph.py\u001b[0m in \u001b[0;36mfunc_graph_from_py_func\u001b[0;34m(name, python_func, args, kwargs, signature, func_graph, autograph, autograph_options, add_control_dependencies, arg_names, op_return_value, collections, capture_by_value, override_flat_arg_shapes, acd_record_initial_resource_uses)\u001b[0m\n\u001b[1;32m   1005\u001b[0m         \u001b[0m_\u001b[0m\u001b[0;34m,\u001b[0m \u001b[0moriginal_func\u001b[0m \u001b[0;34m=\u001b[0m \u001b[0mtf_decorator\u001b[0m\u001b[0;34m.\u001b[0m\u001b[0munwrap\u001b[0m\u001b[0;34m(\u001b[0m\u001b[0mpython_func\u001b[0m\u001b[0;34m)\u001b[0m\u001b[0;34m\u001b[0m\u001b[0;34m\u001b[0m\u001b[0m\n\u001b[1;32m   1006\u001b[0m \u001b[0;34m\u001b[0m\u001b[0m\n\u001b[0;32m-> 1007\u001b[0;31m       \u001b[0mfunc_outputs\u001b[0m \u001b[0;34m=\u001b[0m \u001b[0mpython_func\u001b[0m\u001b[0;34m(\u001b[0m\u001b[0;34m*\u001b[0m\u001b[0mfunc_args\u001b[0m\u001b[0;34m,\u001b[0m \u001b[0;34m**\u001b[0m\u001b[0mfunc_kwargs\u001b[0m\u001b[0;34m)\u001b[0m\u001b[0;34m\u001b[0m\u001b[0;34m\u001b[0m\u001b[0m\n\u001b[0m\u001b[1;32m   1008\u001b[0m \u001b[0;34m\u001b[0m\u001b[0m\n\u001b[1;32m   1009\u001b[0m       \u001b[0;31m# invariant: `func_outputs` contains only Tensors, CompositeTensors,\u001b[0m\u001b[0;34m\u001b[0m\u001b[0;34m\u001b[0m\u001b[0m\n",
      "\u001b[0;32m/opt/conda/lib/python3.9/site-packages/tensorflow/python/eager/def_function.py\u001b[0m in \u001b[0;36mwrapped_fn\u001b[0;34m(*args, **kwds)\u001b[0m\n\u001b[1;32m    666\u001b[0m         \u001b[0;31m# the function a weak reference to itself to avoid a reference cycle.\u001b[0m\u001b[0;34m\u001b[0m\u001b[0;34m\u001b[0m\u001b[0m\n\u001b[1;32m    667\u001b[0m         \u001b[0;32mwith\u001b[0m \u001b[0mOptionalXlaContext\u001b[0m\u001b[0;34m(\u001b[0m\u001b[0mcompile_with_xla\u001b[0m\u001b[0;34m)\u001b[0m\u001b[0;34m:\u001b[0m\u001b[0;34m\u001b[0m\u001b[0;34m\u001b[0m\u001b[0m\n\u001b[0;32m--> 668\u001b[0;31m           \u001b[0mout\u001b[0m \u001b[0;34m=\u001b[0m \u001b[0mweak_wrapped_fn\u001b[0m\u001b[0;34m(\u001b[0m\u001b[0;34m)\u001b[0m\u001b[0;34m.\u001b[0m\u001b[0m__wrapped__\u001b[0m\u001b[0;34m(\u001b[0m\u001b[0;34m*\u001b[0m\u001b[0margs\u001b[0m\u001b[0;34m,\u001b[0m \u001b[0;34m**\u001b[0m\u001b[0mkwds\u001b[0m\u001b[0;34m)\u001b[0m\u001b[0;34m\u001b[0m\u001b[0;34m\u001b[0m\u001b[0m\n\u001b[0m\u001b[1;32m    669\u001b[0m         \u001b[0;32mreturn\u001b[0m \u001b[0mout\u001b[0m\u001b[0;34m\u001b[0m\u001b[0;34m\u001b[0m\u001b[0m\n\u001b[1;32m    670\u001b[0m \u001b[0;34m\u001b[0m\u001b[0m\n",
      "\u001b[0;32m/opt/conda/lib/python3.9/site-packages/tensorflow/python/framework/func_graph.py\u001b[0m in \u001b[0;36mwrapper\u001b[0;34m(*args, **kwargs)\u001b[0m\n\u001b[1;32m    992\u001b[0m           \u001b[0;32mexcept\u001b[0m \u001b[0mException\u001b[0m \u001b[0;32mas\u001b[0m \u001b[0me\u001b[0m\u001b[0;34m:\u001b[0m  \u001b[0;31m# pylint:disable=broad-except\u001b[0m\u001b[0;34m\u001b[0m\u001b[0;34m\u001b[0m\u001b[0m\n\u001b[1;32m    993\u001b[0m             \u001b[0;32mif\u001b[0m \u001b[0mhasattr\u001b[0m\u001b[0;34m(\u001b[0m\u001b[0me\u001b[0m\u001b[0;34m,\u001b[0m \u001b[0;34m\"ag_error_metadata\"\u001b[0m\u001b[0;34m)\u001b[0m\u001b[0;34m:\u001b[0m\u001b[0;34m\u001b[0m\u001b[0;34m\u001b[0m\u001b[0m\n\u001b[0;32m--> 994\u001b[0;31m               \u001b[0;32mraise\u001b[0m \u001b[0me\u001b[0m\u001b[0;34m.\u001b[0m\u001b[0mag_error_metadata\u001b[0m\u001b[0;34m.\u001b[0m\u001b[0mto_exception\u001b[0m\u001b[0;34m(\u001b[0m\u001b[0me\u001b[0m\u001b[0;34m)\u001b[0m\u001b[0;34m\u001b[0m\u001b[0;34m\u001b[0m\u001b[0m\n\u001b[0m\u001b[1;32m    995\u001b[0m             \u001b[0;32melse\u001b[0m\u001b[0;34m:\u001b[0m\u001b[0;34m\u001b[0m\u001b[0;34m\u001b[0m\u001b[0m\n\u001b[1;32m    996\u001b[0m               \u001b[0;32mraise\u001b[0m\u001b[0;34m\u001b[0m\u001b[0;34m\u001b[0m\u001b[0m\n",
      "\u001b[0;31mValueError\u001b[0m: in user code:\n\n    /opt/conda/lib/python3.9/site-packages/keras/engine/training.py:1586 predict_function  *\n        return step_function(self, iterator)\n    /opt/conda/lib/python3.9/site-packages/keras/engine/training.py:1576 step_function  **\n        outputs = model.distribute_strategy.run(run_step, args=(data,))\n    /opt/conda/lib/python3.9/site-packages/tensorflow/python/distribute/distribute_lib.py:1286 run\n        return self._extended.call_for_each_replica(fn, args=args, kwargs=kwargs)\n    /opt/conda/lib/python3.9/site-packages/tensorflow/python/distribute/distribute_lib.py:2849 call_for_each_replica\n        return self._call_for_each_replica(fn, args, kwargs)\n    /opt/conda/lib/python3.9/site-packages/tensorflow/python/distribute/distribute_lib.py:3632 _call_for_each_replica\n        return fn(*args, **kwargs)\n    /opt/conda/lib/python3.9/site-packages/keras/engine/training.py:1569 run_step  **\n        outputs = model.predict_step(data)\n    /opt/conda/lib/python3.9/site-packages/keras/engine/training.py:1537 predict_step\n        return self(x, training=False)\n    /opt/conda/lib/python3.9/site-packages/keras/engine/base_layer.py:1037 __call__\n        outputs = call_fn(inputs, *args, **kwargs)\n    /opt/conda/lib/python3.9/site-packages/keras/engine/functional.py:414 call\n        return self._run_internal_graph(\n    /opt/conda/lib/python3.9/site-packages/keras/engine/functional.py:550 _run_internal_graph\n        outputs = node.layer(*args, **kwargs)\n    /opt/conda/lib/python3.9/site-packages/keras/engine/base_layer.py:1020 __call__\n        input_spec.assert_input_compatibility(self.input_spec, inputs, self.name)\n    /opt/conda/lib/python3.9/site-packages/keras/engine/input_spec.py:250 assert_input_compatibility\n        raise ValueError(\n\n    ValueError: Input 0 of layer dense_1 is incompatible with the layer: expected axis -1 of input shape to have value 256 but received input with shape (None, 1, 512)\n"
     ]
    }
   ],
   "source": [
    "for i in range(50, 100):\n",
    "    print(\"원문 :\", seq2text(encoder_input_test[i]))\n",
    "    print(\"실제 요약 :\", seq2headlines(decoder_input_test[i]))\n",
    "    print(\"예측 요약 :\", decode_sequence(encoder_input_test[i].reshape(1, text_max_len)))\n",
    "    print(\"\\n\")"
   ]
  },
  {
   "cell_type": "code",
   "execution_count": 56,
   "id": "cd4cca43",
   "metadata": {},
   "outputs": [],
   "source": [
    "import requests\n",
    "from summa.summarizer import summarize"
   ]
  },
  {
   "cell_type": "code",
   "execution_count": 57,
   "id": "b4433524",
   "metadata": {},
   "outputs": [],
   "source": [
    "text = requests.get('http://rare-technologies.com/the_matrix_synopsis.txt').text"
   ]
  },
  {
   "cell_type": "code",
   "execution_count": 58,
   "id": "1ac3cfff",
   "metadata": {},
   "outputs": [
    {
     "name": "stdout",
     "output_type": "stream",
     "text": [
      "The screen is filled with green, cascading code which gives way to the title, The Matrix.\r\n",
      "\r\n",
      "A phone rings and text appears on the screen: \"Call trans opt: received. 2-19-98 13:24:18 REC: Log>\" As a conversation takes place between Trinity (Carrie-Anne Moss) and Cypher (Joe Pantoliano), two free humans, a table of random green numbers are being scanned and individual numbers selected, creating a series of digits not unlike an ordinary phone number, as if a code is being deciphered or a call is being traced.\r\n",
      "\r\n",
      "Trinity discusses some unknown person. Cypher taunts Trinity, suggesting she enjoys watching him. Trinity counters that \"Morpheus (Laurence Fishburne) says he may be 'the One',\" just as the sound of a number being selected alerts Trinity that someone may be tracing their call. She ends the call.\r\n",
      "\r\n",
      "Armed policemen move down a darkened, decrepit hallway in the Heart O' the City Hotel, their flashlight beam bouncing just ahead of them. They come to room 303, kick down the door and find a woman dressed in black, facing away from them. It's Trinity. She brings her hands up from the laptop she's working on at their command.\r\n",
      "\r\n",
      "Outside the hotel a car drives up and three agents appear in neatly pressed black suits. They are Agent Smith (Hugo Weaving), Agent Brown (Paul Goddard), and Agent Jones (Robert Taylor). Agent Smith and the presiding police lieutenant argue. Agent Smith admonishes the policeman that they were given specific orders to contact the agents first, for their\n"
     ]
    }
   ],
   "source": [
    "print(text[:1500])"
   ]
  },
  {
   "cell_type": "code",
   "execution_count": 59,
   "id": "3430f688",
   "metadata": {},
   "outputs": [
    {
     "name": "stdout",
     "output_type": "stream",
     "text": [
      "Summary:\n",
      "Morpheus, Trinity, Neo, Apoc, Switch, Mouse and Cypher are jacked into the Matrix.\n",
      "Trinity brings the helicopter down to the floor that Morpheus is on and Neo opens fire on the three Agents.\n"
     ]
    }
   ],
   "source": [
    "print('Summary:')\n",
    "print(summarize(text, ratio=0.005))"
   ]
  },
  {
   "cell_type": "code",
   "execution_count": 60,
   "id": "5adbcf38",
   "metadata": {},
   "outputs": [
    {
     "name": "stdout",
     "output_type": "stream",
     "text": [
      "Summary:\n",
      "['Morpheus, Trinity, Neo, Apoc, Switch, Mouse and Cypher are jacked into the Matrix.', 'Trinity brings the helicopter down to the floor that Morpheus is on and Neo opens fire on the three Agents.']\n"
     ]
    }
   ],
   "source": [
    "print('Summary:')\n",
    "print(summarize(text, ratio=0.005, split=True))"
   ]
  },
  {
   "cell_type": "code",
   "execution_count": 61,
   "id": "a5e6718f",
   "metadata": {},
   "outputs": [
    {
     "name": "stdout",
     "output_type": "stream",
     "text": [
      "Summary:\n",
      "Trinity takes Neo to Morpheus.\n",
      "Morpheus, Trinity, Neo, Apoc, Switch, Mouse and Cypher are jacked into the Matrix.\n",
      "Trinity brings the helicopter down to the floor that Morpheus is on and Neo opens fire on the three Agents.\n"
     ]
    }
   ],
   "source": [
    "print('Summary:')\n",
    "print(summarize(text, words=50))"
   ]
  },
  {
   "cell_type": "markdown",
   "id": "be155cf1",
   "metadata": {},
   "source": [
    "### 회고\n",
    "\n",
    "#### KEEP\n",
    "* 시간에 쫒기지 않고 최대한 이해하려고 노력했다.\n",
    "#### PROBLEM\n",
    "* 아직 LSTM에 대해 완전히 이해하지 못했다.\n",
    "* Attention 메커니즘에 대해 이해하지 못했다.\n",
    "#### TRY\n",
    "* LSTM 자료를 찾아보고 더 공부를 해야된다.\n",
    "* 못 끝낸 프로젝트와 해결하지 못한 에러를 해결한다."
   ]
  }
 ],
 "metadata": {
  "kernelspec": {
   "display_name": "Python 3 (ipykernel)",
   "language": "python",
   "name": "python3"
  },
  "language_info": {
   "codemirror_mode": {
    "name": "ipython",
    "version": 3
   },
   "file_extension": ".py",
   "mimetype": "text/x-python",
   "name": "python",
   "nbconvert_exporter": "python",
   "pygments_lexer": "ipython3",
   "version": "3.9.7"
  }
 },
 "nbformat": 4,
 "nbformat_minor": 5
}
